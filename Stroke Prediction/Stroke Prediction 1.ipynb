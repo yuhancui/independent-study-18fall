{
 "cells": [
  {
   "cell_type": "markdown",
   "metadata": {},
   "source": [
    "# Stroke Prediction 1: Prepare Data\n"
   ]
  },
  {
   "cell_type": "markdown",
   "metadata": {},
   "source": [
    "### What is Stroke?\n",
    "\n",
    "Stroke is a disease that affects the arteries leading to and within the brain. It is the  No. 5 cause of death and a leading cause of disability in the United States.\n",
    "\n",
    "A stroke occurs when a blood vessel that carries oxygen and nutrients to the brain is either blocked by a clot or bursts (or ruptures). When that happens , part of the brain cannot get the blood (and oxygen) it needs, so it and brain cells die."
   ]
  },
  {
   "cell_type": "markdown",
   "metadata": {},
   "source": [
    "![title](stroke_brain.jpg)"
   ]
  },
  {
   "cell_type": "markdown",
   "metadata": {},
   "source": [
    "In this project, I will make prediction on whether a patient has stroke based on several given features.\n"
   ]
  },
  {
   "cell_type": "markdown",
   "metadata": {},
   "source": [
    "## Part 1: Data exploration\n",
    "### Understand raw data"
   ]
  },
  {
   "cell_type": "code",
   "execution_count": 1,
   "metadata": {
    "collapsed": true
   },
   "outputs": [],
   "source": [
    "import warnings\n",
    "warnings.filterwarnings('ignore')\n",
    "\n",
    "import pandas as pd\n",
    "import numpy as np\n",
    "import matplotlib.pyplot as plt\n",
    "import seaborn as sns\n",
    "%matplotlib inline\n",
    "pd.set_option('display.max_columns', None)# display all the columns"
   ]
  },
  {
   "cell_type": "code",
   "execution_count": 2,
   "metadata": {
    "collapsed": true
   },
   "outputs": [],
   "source": [
    "train_data = pd.read_csv(\"train_2v.csv\")\n",
    "test_data = pd.read_csv(\"test_2v.csv\")"
   ]
  },
  {
   "cell_type": "code",
   "execution_count": 3,
   "metadata": {
    "collapsed": false
   },
   "outputs": [
    {
     "data": {
      "text/html": [
       "<div>\n",
       "<style scoped>\n",
       "    .dataframe tbody tr th:only-of-type {\n",
       "        vertical-align: middle;\n",
       "    }\n",
       "\n",
       "    .dataframe tbody tr th {\n",
       "        vertical-align: top;\n",
       "    }\n",
       "\n",
       "    .dataframe thead th {\n",
       "        text-align: right;\n",
       "    }\n",
       "</style>\n",
       "<table border=\"1\" class=\"dataframe\">\n",
       "  <thead>\n",
       "    <tr style=\"text-align: right;\">\n",
       "      <th></th>\n",
       "      <th>id</th>\n",
       "      <th>gender</th>\n",
       "      <th>age</th>\n",
       "      <th>hypertension</th>\n",
       "      <th>heart_disease</th>\n",
       "      <th>ever_married</th>\n",
       "      <th>work_type</th>\n",
       "      <th>Residence_type</th>\n",
       "      <th>avg_glucose_level</th>\n",
       "      <th>bmi</th>\n",
       "      <th>smoking_status</th>\n",
       "      <th>stroke</th>\n",
       "    </tr>\n",
       "  </thead>\n",
       "  <tbody>\n",
       "    <tr>\n",
       "      <th>0</th>\n",
       "      <td>30669</td>\n",
       "      <td>Male</td>\n",
       "      <td>3.0</td>\n",
       "      <td>0</td>\n",
       "      <td>0</td>\n",
       "      <td>No</td>\n",
       "      <td>children</td>\n",
       "      <td>Rural</td>\n",
       "      <td>95.12</td>\n",
       "      <td>18.0</td>\n",
       "      <td>NaN</td>\n",
       "      <td>0</td>\n",
       "    </tr>\n",
       "    <tr>\n",
       "      <th>1</th>\n",
       "      <td>30468</td>\n",
       "      <td>Male</td>\n",
       "      <td>58.0</td>\n",
       "      <td>1</td>\n",
       "      <td>0</td>\n",
       "      <td>Yes</td>\n",
       "      <td>Private</td>\n",
       "      <td>Urban</td>\n",
       "      <td>87.96</td>\n",
       "      <td>39.2</td>\n",
       "      <td>never smoked</td>\n",
       "      <td>0</td>\n",
       "    </tr>\n",
       "    <tr>\n",
       "      <th>2</th>\n",
       "      <td>16523</td>\n",
       "      <td>Female</td>\n",
       "      <td>8.0</td>\n",
       "      <td>0</td>\n",
       "      <td>0</td>\n",
       "      <td>No</td>\n",
       "      <td>Private</td>\n",
       "      <td>Urban</td>\n",
       "      <td>110.89</td>\n",
       "      <td>17.6</td>\n",
       "      <td>NaN</td>\n",
       "      <td>0</td>\n",
       "    </tr>\n",
       "    <tr>\n",
       "      <th>3</th>\n",
       "      <td>56543</td>\n",
       "      <td>Female</td>\n",
       "      <td>70.0</td>\n",
       "      <td>0</td>\n",
       "      <td>0</td>\n",
       "      <td>Yes</td>\n",
       "      <td>Private</td>\n",
       "      <td>Rural</td>\n",
       "      <td>69.04</td>\n",
       "      <td>35.9</td>\n",
       "      <td>formerly smoked</td>\n",
       "      <td>0</td>\n",
       "    </tr>\n",
       "    <tr>\n",
       "      <th>4</th>\n",
       "      <td>46136</td>\n",
       "      <td>Male</td>\n",
       "      <td>14.0</td>\n",
       "      <td>0</td>\n",
       "      <td>0</td>\n",
       "      <td>No</td>\n",
       "      <td>Never_worked</td>\n",
       "      <td>Rural</td>\n",
       "      <td>161.28</td>\n",
       "      <td>19.1</td>\n",
       "      <td>NaN</td>\n",
       "      <td>0</td>\n",
       "    </tr>\n",
       "  </tbody>\n",
       "</table>\n",
       "</div>"
      ],
      "text/plain": [
       "      id  gender   age  hypertension  heart_disease ever_married  \\\n",
       "0  30669    Male   3.0             0              0           No   \n",
       "1  30468    Male  58.0             1              0          Yes   \n",
       "2  16523  Female   8.0             0              0           No   \n",
       "3  56543  Female  70.0             0              0          Yes   \n",
       "4  46136    Male  14.0             0              0           No   \n",
       "\n",
       "      work_type Residence_type  avg_glucose_level   bmi   smoking_status  \\\n",
       "0      children          Rural              95.12  18.0              NaN   \n",
       "1       Private          Urban              87.96  39.2     never smoked   \n",
       "2       Private          Urban             110.89  17.6              NaN   \n",
       "3       Private          Rural              69.04  35.9  formerly smoked   \n",
       "4  Never_worked          Rural             161.28  19.1              NaN   \n",
       "\n",
       "   stroke  \n",
       "0       0  \n",
       "1       0  \n",
       "2       0  \n",
       "3       0  \n",
       "4       0  "
      ]
     },
     "execution_count": 3,
     "metadata": {},
     "output_type": "execute_result"
    }
   ],
   "source": [
    "train_data.head()"
   ]
  },
  {
   "cell_type": "code",
   "execution_count": 4,
   "metadata": {
    "collapsed": false
   },
   "outputs": [
    {
     "name": "stdout",
     "output_type": "stream",
     "text": [
      "Number of rows: 43400\n",
      "Number of columns: 12\n"
     ]
    }
   ],
   "source": [
    "print (\"Number of rows: \" + str(train_data.shape[0])) # row count\n",
    "print (\"Number of columns: \" + str(train_data.shape[1])) # column count"
   ]
  },
  {
   "cell_type": "code",
   "execution_count": 5,
   "metadata": {
    "collapsed": false,
    "scrolled": true
   },
   "outputs": [
    {
     "data": {
      "text/html": [
       "<div>\n",
       "<style scoped>\n",
       "    .dataframe tbody tr th:only-of-type {\n",
       "        vertical-align: middle;\n",
       "    }\n",
       "\n",
       "    .dataframe tbody tr th {\n",
       "        vertical-align: top;\n",
       "    }\n",
       "\n",
       "    .dataframe thead th {\n",
       "        text-align: right;\n",
       "    }\n",
       "</style>\n",
       "<table border=\"1\" class=\"dataframe\">\n",
       "  <thead>\n",
       "    <tr style=\"text-align: right;\">\n",
       "      <th></th>\n",
       "      <th>id</th>\n",
       "      <th>gender</th>\n",
       "      <th>age</th>\n",
       "      <th>hypertension</th>\n",
       "      <th>heart_disease</th>\n",
       "      <th>ever_married</th>\n",
       "      <th>work_type</th>\n",
       "      <th>Residence_type</th>\n",
       "      <th>avg_glucose_level</th>\n",
       "      <th>bmi</th>\n",
       "      <th>smoking_status</th>\n",
       "    </tr>\n",
       "  </thead>\n",
       "  <tbody>\n",
       "    <tr>\n",
       "      <th>0</th>\n",
       "      <td>36306</td>\n",
       "      <td>Male</td>\n",
       "      <td>80.0</td>\n",
       "      <td>0</td>\n",
       "      <td>0</td>\n",
       "      <td>Yes</td>\n",
       "      <td>Private</td>\n",
       "      <td>Urban</td>\n",
       "      <td>83.84</td>\n",
       "      <td>21.1</td>\n",
       "      <td>formerly smoked</td>\n",
       "    </tr>\n",
       "    <tr>\n",
       "      <th>1</th>\n",
       "      <td>61829</td>\n",
       "      <td>Female</td>\n",
       "      <td>74.0</td>\n",
       "      <td>0</td>\n",
       "      <td>1</td>\n",
       "      <td>Yes</td>\n",
       "      <td>Self-employed</td>\n",
       "      <td>Rural</td>\n",
       "      <td>179.50</td>\n",
       "      <td>26.0</td>\n",
       "      <td>formerly smoked</td>\n",
       "    </tr>\n",
       "    <tr>\n",
       "      <th>2</th>\n",
       "      <td>14152</td>\n",
       "      <td>Female</td>\n",
       "      <td>14.0</td>\n",
       "      <td>0</td>\n",
       "      <td>0</td>\n",
       "      <td>No</td>\n",
       "      <td>children</td>\n",
       "      <td>Rural</td>\n",
       "      <td>95.16</td>\n",
       "      <td>21.2</td>\n",
       "      <td>NaN</td>\n",
       "    </tr>\n",
       "    <tr>\n",
       "      <th>3</th>\n",
       "      <td>12997</td>\n",
       "      <td>Male</td>\n",
       "      <td>28.0</td>\n",
       "      <td>0</td>\n",
       "      <td>0</td>\n",
       "      <td>No</td>\n",
       "      <td>Private</td>\n",
       "      <td>Urban</td>\n",
       "      <td>94.76</td>\n",
       "      <td>23.4</td>\n",
       "      <td>NaN</td>\n",
       "    </tr>\n",
       "    <tr>\n",
       "      <th>4</th>\n",
       "      <td>40801</td>\n",
       "      <td>Female</td>\n",
       "      <td>63.0</td>\n",
       "      <td>0</td>\n",
       "      <td>0</td>\n",
       "      <td>Yes</td>\n",
       "      <td>Govt_job</td>\n",
       "      <td>Rural</td>\n",
       "      <td>83.57</td>\n",
       "      <td>27.6</td>\n",
       "      <td>never smoked</td>\n",
       "    </tr>\n",
       "  </tbody>\n",
       "</table>\n",
       "</div>"
      ],
      "text/plain": [
       "      id  gender   age  hypertension  heart_disease ever_married  \\\n",
       "0  36306    Male  80.0             0              0          Yes   \n",
       "1  61829  Female  74.0             0              1          Yes   \n",
       "2  14152  Female  14.0             0              0           No   \n",
       "3  12997    Male  28.0             0              0           No   \n",
       "4  40801  Female  63.0             0              0          Yes   \n",
       "\n",
       "       work_type Residence_type  avg_glucose_level   bmi   smoking_status  \n",
       "0        Private          Urban              83.84  21.1  formerly smoked  \n",
       "1  Self-employed          Rural             179.50  26.0  formerly smoked  \n",
       "2       children          Rural              95.16  21.2              NaN  \n",
       "3        Private          Urban              94.76  23.4              NaN  \n",
       "4       Govt_job          Rural              83.57  27.6     never smoked  "
      ]
     },
     "execution_count": 5,
     "metadata": {},
     "output_type": "execute_result"
    }
   ],
   "source": [
    "test_data.head()"
   ]
  },
  {
   "cell_type": "code",
   "execution_count": 6,
   "metadata": {
    "collapsed": false
   },
   "outputs": [
    {
     "name": "stdout",
     "output_type": "stream",
     "text": [
      "Number of rows: 18601\n",
      "Number of columns: 11\n"
     ]
    }
   ],
   "source": [
    "print (\"Number of rows: \" + str(test_data.shape[0])) # row count\n",
    "print (\"Number of columns: \" + str(test_data.shape[1])) # column count"
   ]
  },
  {
   "cell_type": "markdown",
   "metadata": {},
   "source": [
    "Here we have 12 columns in training data in total."
   ]
  },
  {
   "cell_type": "markdown",
   "metadata": {},
   "source": [
    "1 id-Patient ID\n",
    "\n",
    "2 gender-Gender of Patient, Male or Female\n",
    "\n",
    "3 age-Age of Patient\n",
    "\n",
    "4 hypertension-0: no hypertension; 1: suffering from hypertension\n",
    "\n",
    "5 heart_disease-0: no heart disease; 1: suffering from heart disease\n",
    "\n",
    "6 ever_married-Yes/No\n",
    "\n",
    "7 work_type-Type of occupation\n",
    "\n",
    "8 Residence_type-Area type of residence (Urban/ Rural)\n",
    "\n",
    "9 avg_glucose_level-Average Glucose level (measured after meal)\n",
    "\n",
    "10 bmi-Body mass index\n",
    "\n",
    "11 smoking_status-patient’s smoking status\n",
    "\n",
    "12 stroke-0: no stroke;1: suffered stroke"
   ]
  },
  {
   "cell_type": "code",
   "execution_count": 7,
   "metadata": {
    "collapsed": false
   },
   "outputs": [
    {
     "data": {
      "text/html": [
       "<div>\n",
       "<style scoped>\n",
       "    .dataframe tbody tr th:only-of-type {\n",
       "        vertical-align: middle;\n",
       "    }\n",
       "\n",
       "    .dataframe tbody tr th {\n",
       "        vertical-align: top;\n",
       "    }\n",
       "\n",
       "    .dataframe thead th {\n",
       "        text-align: right;\n",
       "    }\n",
       "</style>\n",
       "<table border=\"1\" class=\"dataframe\">\n",
       "  <thead>\n",
       "    <tr style=\"text-align: right;\">\n",
       "      <th></th>\n",
       "      <th>id</th>\n",
       "      <th>age</th>\n",
       "      <th>hypertension</th>\n",
       "      <th>heart_disease</th>\n",
       "      <th>avg_glucose_level</th>\n",
       "      <th>bmi</th>\n",
       "      <th>stroke</th>\n",
       "    </tr>\n",
       "  </thead>\n",
       "  <tbody>\n",
       "    <tr>\n",
       "      <th>count</th>\n",
       "      <td>43400.000000</td>\n",
       "      <td>43400.000000</td>\n",
       "      <td>43400.000000</td>\n",
       "      <td>43400.000000</td>\n",
       "      <td>43400.000000</td>\n",
       "      <td>41938.000000</td>\n",
       "      <td>43400.000000</td>\n",
       "    </tr>\n",
       "    <tr>\n",
       "      <th>mean</th>\n",
       "      <td>36326.142350</td>\n",
       "      <td>42.217894</td>\n",
       "      <td>0.093571</td>\n",
       "      <td>0.047512</td>\n",
       "      <td>104.482750</td>\n",
       "      <td>28.605038</td>\n",
       "      <td>0.018041</td>\n",
       "    </tr>\n",
       "    <tr>\n",
       "      <th>std</th>\n",
       "      <td>21072.134879</td>\n",
       "      <td>22.519649</td>\n",
       "      <td>0.291235</td>\n",
       "      <td>0.212733</td>\n",
       "      <td>43.111751</td>\n",
       "      <td>7.770020</td>\n",
       "      <td>0.133103</td>\n",
       "    </tr>\n",
       "    <tr>\n",
       "      <th>min</th>\n",
       "      <td>1.000000</td>\n",
       "      <td>0.080000</td>\n",
       "      <td>0.000000</td>\n",
       "      <td>0.000000</td>\n",
       "      <td>55.000000</td>\n",
       "      <td>10.100000</td>\n",
       "      <td>0.000000</td>\n",
       "    </tr>\n",
       "    <tr>\n",
       "      <th>25%</th>\n",
       "      <td>18038.500000</td>\n",
       "      <td>24.000000</td>\n",
       "      <td>0.000000</td>\n",
       "      <td>0.000000</td>\n",
       "      <td>77.540000</td>\n",
       "      <td>23.200000</td>\n",
       "      <td>0.000000</td>\n",
       "    </tr>\n",
       "    <tr>\n",
       "      <th>50%</th>\n",
       "      <td>36351.500000</td>\n",
       "      <td>44.000000</td>\n",
       "      <td>0.000000</td>\n",
       "      <td>0.000000</td>\n",
       "      <td>91.580000</td>\n",
       "      <td>27.700000</td>\n",
       "      <td>0.000000</td>\n",
       "    </tr>\n",
       "    <tr>\n",
       "      <th>75%</th>\n",
       "      <td>54514.250000</td>\n",
       "      <td>60.000000</td>\n",
       "      <td>0.000000</td>\n",
       "      <td>0.000000</td>\n",
       "      <td>112.070000</td>\n",
       "      <td>32.900000</td>\n",
       "      <td>0.000000</td>\n",
       "    </tr>\n",
       "    <tr>\n",
       "      <th>max</th>\n",
       "      <td>72943.000000</td>\n",
       "      <td>82.000000</td>\n",
       "      <td>1.000000</td>\n",
       "      <td>1.000000</td>\n",
       "      <td>291.050000</td>\n",
       "      <td>97.600000</td>\n",
       "      <td>1.000000</td>\n",
       "    </tr>\n",
       "  </tbody>\n",
       "</table>\n",
       "</div>"
      ],
      "text/plain": [
       "                 id           age  hypertension  heart_disease  \\\n",
       "count  43400.000000  43400.000000  43400.000000   43400.000000   \n",
       "mean   36326.142350     42.217894      0.093571       0.047512   \n",
       "std    21072.134879     22.519649      0.291235       0.212733   \n",
       "min        1.000000      0.080000      0.000000       0.000000   \n",
       "25%    18038.500000     24.000000      0.000000       0.000000   \n",
       "50%    36351.500000     44.000000      0.000000       0.000000   \n",
       "75%    54514.250000     60.000000      0.000000       0.000000   \n",
       "max    72943.000000     82.000000      1.000000       1.000000   \n",
       "\n",
       "       avg_glucose_level           bmi        stroke  \n",
       "count       43400.000000  41938.000000  43400.000000  \n",
       "mean          104.482750     28.605038      0.018041  \n",
       "std            43.111751      7.770020      0.133103  \n",
       "min            55.000000     10.100000      0.000000  \n",
       "25%            77.540000     23.200000      0.000000  \n",
       "50%            91.580000     27.700000      0.000000  \n",
       "75%           112.070000     32.900000      0.000000  \n",
       "max           291.050000     97.600000      1.000000  "
      ]
     },
     "execution_count": 7,
     "metadata": {},
     "output_type": "execute_result"
    }
   ],
   "source": [
    "train_data.describe() # descriptive statistics "
   ]
  },
  {
   "cell_type": "code",
   "execution_count": 8,
   "metadata": {
    "collapsed": false
   },
   "outputs": [
    {
     "data": {
      "text/plain": [
       "Text(0,0.5,'Count')"
      ]
     },
     "execution_count": 8,
     "metadata": {},
     "output_type": "execute_result"
    },
    {
     "data": {
      "image/png": "[encoded data removed]",
      "text/plain": [
       "<Figure size 432x288 with 1 Axes>"
      ]
     },
     "metadata": {
      "needs_background": "light"
     },
     "output_type": "display_data"
    }
   ],
   "source": [
    "%matplotlib inline\n",
    "import matplotlib.pyplot as plt\n",
    "import seaborn as sb\n",
    "sb.distplot(train_data['stroke'],kde=False) # The outcome is labeled as 'class'\n",
    "plt.ylabel(\"Count\")"
   ]
  },
  {
   "cell_type": "code",
   "execution_count": 9,
   "metadata": {
    "collapsed": false,
    "scrolled": true
   },
   "outputs": [
    {
     "data": {
      "text/html": [
       "<div>\n",
       "<style scoped>\n",
       "    .dataframe tbody tr th:only-of-type {\n",
       "        vertical-align: middle;\n",
       "    }\n",
       "\n",
       "    .dataframe tbody tr th {\n",
       "        vertical-align: top;\n",
       "    }\n",
       "\n",
       "    .dataframe thead th {\n",
       "        text-align: right;\n",
       "    }\n",
       "</style>\n",
       "<table border=\"1\" class=\"dataframe\">\n",
       "  <thead>\n",
       "    <tr style=\"text-align: right;\">\n",
       "      <th></th>\n",
       "      <th>stroke</th>\n",
       "    </tr>\n",
       "    <tr>\n",
       "      <th>stroke</th>\n",
       "      <th></th>\n",
       "    </tr>\n",
       "  </thead>\n",
       "  <tbody>\n",
       "    <tr>\n",
       "      <th>0</th>\n",
       "      <td>42617</td>\n",
       "    </tr>\n",
       "    <tr>\n",
       "      <th>1</th>\n",
       "      <td>783</td>\n",
       "    </tr>\n",
       "  </tbody>\n",
       "</table>\n",
       "</div>"
      ],
      "text/plain": [
       "        stroke\n",
       "stroke        \n",
       "0        42617\n",
       "1          783"
      ]
     },
     "execution_count": 9,
     "metadata": {},
     "output_type": "execute_result"
    }
   ],
   "source": [
    "train_data.groupby('stroke')[['stroke']].count() "
   ]
  },
  {
   "cell_type": "markdown",
   "metadata": {},
   "source": [
    "As we can see from above, the dataset is highly imbalanced. We have 42617 healthy people and 783 stroke patients. "
   ]
  },
  {
   "cell_type": "code",
   "execution_count": 10,
   "metadata": {
    "collapsed": false,
    "scrolled": false
   },
   "outputs": [
    {
     "data": {
      "text/plain": [
       "True"
      ]
     },
     "execution_count": 10,
     "metadata": {},
     "output_type": "execute_result"
    }
   ],
   "source": [
    "train_data.isnull().values.any() # check missing data"
   ]
  },
  {
   "cell_type": "markdown",
   "metadata": {},
   "source": [
    "The dataset has missing data."
   ]
  },
  {
   "cell_type": "code",
   "execution_count": 11,
   "metadata": {
    "collapsed": false
   },
   "outputs": [
    {
     "data": {
      "text/plain": [
       "['bmi', 'smoking_status']"
      ]
     },
     "execution_count": 11,
     "metadata": {},
     "output_type": "execute_result"
    }
   ],
   "source": [
    "train_data.columns[train_data.isna().any()].tolist()# find out which columns have missing data"
   ]
  },
  {
   "cell_type": "code",
   "execution_count": 12,
   "metadata": {
    "collapsed": true
   },
   "outputs": [],
   "source": [
    "def get_percentage_missing(series):\n",
    "    # Calculates percentage of NaN values in DataFrame\n",
    " \n",
    "    num = series.isnull().sum()\n",
    "    den = len(series)\n",
    "    return round(num/den, 2)"
   ]
  },
  {
   "cell_type": "code",
   "execution_count": 13,
   "metadata": {
    "collapsed": false
   },
   "outputs": [
    {
     "data": {
      "text/plain": [
       "id                   0.00\n",
       "gender               0.00\n",
       "age                  0.00\n",
       "hypertension         0.00\n",
       "heart_disease        0.00\n",
       "ever_married         0.00\n",
       "work_type            0.00\n",
       "Residence_type       0.00\n",
       "avg_glucose_level    0.00\n",
       "bmi                  0.03\n",
       "smoking_status       0.31\n",
       "stroke               0.00\n",
       "dtype: float64"
      ]
     },
     "execution_count": 13,
     "metadata": {},
     "output_type": "execute_result"
    }
   ],
   "source": [
    "get_percentage_missing(train_data)"
   ]
  },
  {
   "cell_type": "markdown",
   "metadata": {},
   "source": [
    "From above, we know that bmi has 3 percent of missing data, while smoking_status has 31 percent of missing data."
   ]
  },
  {
   "cell_type": "markdown",
   "metadata": {},
   "source": [
    "### Understand the features"
   ]
  },
  {
   "cell_type": "code",
   "execution_count": 14,
   "metadata": {
    "collapsed": false
   },
   "outputs": [],
   "source": [
    "train0 = train_data.loc[train_data['stroke'] == 0]\n",
    "train1 = train_data.loc[train_data['stroke']== 1]"
   ]
  },
  {
   "cell_type": "markdown",
   "metadata": {},
   "source": [
    "Gender preference for stroke patients"
   ]
  },
  {
   "cell_type": "code",
   "execution_count": 15,
   "metadata": {
    "collapsed": false
   },
   "outputs": [
    {
     "data": {
      "text/html": [
       "<div>\n",
       "<style scoped>\n",
       "    .dataframe tbody tr th:only-of-type {\n",
       "        vertical-align: middle;\n",
       "    }\n",
       "\n",
       "    .dataframe tbody tr th {\n",
       "        vertical-align: top;\n",
       "    }\n",
       "\n",
       "    .dataframe thead th {\n",
       "        text-align: right;\n",
       "    }\n",
       "</style>\n",
       "<table border=\"1\" class=\"dataframe\">\n",
       "  <thead>\n",
       "    <tr style=\"text-align: right;\">\n",
       "      <th></th>\n",
       "      <th>gender</th>\n",
       "    </tr>\n",
       "    <tr>\n",
       "      <th>gender</th>\n",
       "      <th></th>\n",
       "    </tr>\n",
       "  </thead>\n",
       "  <tbody>\n",
       "    <tr>\n",
       "      <th>Female</th>\n",
       "      <td>25234</td>\n",
       "    </tr>\n",
       "    <tr>\n",
       "      <th>Male</th>\n",
       "      <td>17372</td>\n",
       "    </tr>\n",
       "    <tr>\n",
       "      <th>Other</th>\n",
       "      <td>11</td>\n",
       "    </tr>\n",
       "  </tbody>\n",
       "</table>\n",
       "</div>"
      ],
      "text/plain": [
       "        gender\n",
       "gender        \n",
       "Female   25234\n",
       "Male     17372\n",
       "Other       11"
      ]
     },
     "execution_count": 15,
     "metadata": {},
     "output_type": "execute_result"
    }
   ],
   "source": [
    "train0.groupby('gender')[['gender']].count() "
   ]
  },
  {
   "cell_type": "code",
   "execution_count": 16,
   "metadata": {
    "collapsed": false,
    "scrolled": true
   },
   "outputs": [
    {
     "data": {
      "text/html": [
       "<div>\n",
       "<style scoped>\n",
       "    .dataframe tbody tr th:only-of-type {\n",
       "        vertical-align: middle;\n",
       "    }\n",
       "\n",
       "    .dataframe tbody tr th {\n",
       "        vertical-align: top;\n",
       "    }\n",
       "\n",
       "    .dataframe thead th {\n",
       "        text-align: right;\n",
       "    }\n",
       "</style>\n",
       "<table border=\"1\" class=\"dataframe\">\n",
       "  <thead>\n",
       "    <tr style=\"text-align: right;\">\n",
       "      <th></th>\n",
       "      <th>gender</th>\n",
       "    </tr>\n",
       "    <tr>\n",
       "      <th>gender</th>\n",
       "      <th></th>\n",
       "    </tr>\n",
       "  </thead>\n",
       "  <tbody>\n",
       "    <tr>\n",
       "      <th>Female</th>\n",
       "      <td>431</td>\n",
       "    </tr>\n",
       "    <tr>\n",
       "      <th>Male</th>\n",
       "      <td>352</td>\n",
       "    </tr>\n",
       "  </tbody>\n",
       "</table>\n",
       "</div>"
      ],
      "text/plain": [
       "        gender\n",
       "gender        \n",
       "Female     431\n",
       "Male       352"
      ]
     },
     "execution_count": 16,
     "metadata": {},
     "output_type": "execute_result"
    }
   ],
   "source": [
    "train1.groupby('gender')[['gender']].count() "
   ]
  },
  {
   "cell_type": "code",
   "execution_count": 17,
   "metadata": {
    "collapsed": true
   },
   "outputs": [],
   "source": [
    "labels = ['Female', 'Male','Other']\n",
    "sizes0 = [25234, 17372, 11]\n",
    "sizes1 = [431, 352, 0]"
   ]
  },
  {
   "cell_type": "code",
   "execution_count": 18,
   "metadata": {
    "collapsed": false
   },
   "outputs": [
    {
     "data": {
      "image/png": "[encoded data removed]",
      "text/plain": [
       "<Figure size 720x360 with 2 Axes>"
      ]
     },
     "metadata": {},
     "output_type": "display_data"
    }
   ],
   "source": [
    "# Set up subplots\n",
    "fig, ax = plt.subplots(1, 2, figsize=(10, 5))\n",
    "explode = (0, 0.1,0)# only \"explode\" the 2nd slice\n",
    "ax[0].pie(sizes0, explode=explode,labels=labels,  autopct='%1.1f%%',shadow=True, startangle=90)\n",
    "ax[0].set_title('People without stroke')\n",
    "ax[1].pie(sizes1, explode=explode,labels=labels,  autopct='%1.1f%%',shadow=True, startangle=90)\n",
    "ax[1].set_title('People with stroke')\n",
    "plt.tight_layout()\n",
    "plt.show()"
   ]
  },
  {
   "cell_type": "markdown",
   "metadata": {},
   "source": [
    "Age trend for stroke patients"
   ]
  },
  {
   "cell_type": "code",
   "execution_count": 19,
   "metadata": {
    "collapsed": false
   },
   "outputs": [
    {
     "data": {
      "text/plain": [
       "Text(0,0.5,'count')"
      ]
     },
     "execution_count": 19,
     "metadata": {},
     "output_type": "execute_result"
    },
    {
     "data": {
      "image/png": "[encoded data removed]",
      "text/plain": [
       "<Figure size 432x288 with 1 Axes>"
      ]
     },
     "metadata": {
      "needs_background": "light"
     },
     "output_type": "display_data"
    }
   ],
   "source": [
    "plt.hist(train0['age'])\n",
    "plt.hist(train1['age'])\n",
    "plt.legend(['healthy people', 'stroke patient'])\n",
    "plt.xlabel('age')\n",
    "plt.ylabel('count')"
   ]
  },
  {
   "cell_type": "markdown",
   "metadata": {},
   "source": [
    "Relationship between hypertension and stroke?"
   ]
  },
  {
   "cell_type": "code",
   "execution_count": 20,
   "metadata": {
    "collapsed": false,
    "scrolled": true
   },
   "outputs": [
    {
     "data": {
      "text/html": [
       "<div>\n",
       "<style scoped>\n",
       "    .dataframe tbody tr th:only-of-type {\n",
       "        vertical-align: middle;\n",
       "    }\n",
       "\n",
       "    .dataframe tbody tr th {\n",
       "        vertical-align: top;\n",
       "    }\n",
       "\n",
       "    .dataframe thead th {\n",
       "        text-align: right;\n",
       "    }\n",
       "</style>\n",
       "<table border=\"1\" class=\"dataframe\">\n",
       "  <thead>\n",
       "    <tr style=\"text-align: right;\">\n",
       "      <th></th>\n",
       "      <th>hypertension</th>\n",
       "    </tr>\n",
       "    <tr>\n",
       "      <th>hypertension</th>\n",
       "      <th></th>\n",
       "    </tr>\n",
       "  </thead>\n",
       "  <tbody>\n",
       "    <tr>\n",
       "      <th>0</th>\n",
       "      <td>38756</td>\n",
       "    </tr>\n",
       "    <tr>\n",
       "      <th>1</th>\n",
       "      <td>3861</td>\n",
       "    </tr>\n",
       "  </tbody>\n",
       "</table>\n",
       "</div>"
      ],
      "text/plain": [
       "              hypertension\n",
       "hypertension              \n",
       "0                    38756\n",
       "1                     3861"
      ]
     },
     "execution_count": 20,
     "metadata": {},
     "output_type": "execute_result"
    }
   ],
   "source": [
    "train0.groupby('hypertension')[['hypertension']].count() "
   ]
  },
  {
   "cell_type": "code",
   "execution_count": 21,
   "metadata": {
    "collapsed": false,
    "scrolled": true
   },
   "outputs": [
    {
     "data": {
      "text/html": [
       "<div>\n",
       "<style scoped>\n",
       "    .dataframe tbody tr th:only-of-type {\n",
       "        vertical-align: middle;\n",
       "    }\n",
       "\n",
       "    .dataframe tbody tr th {\n",
       "        vertical-align: top;\n",
       "    }\n",
       "\n",
       "    .dataframe thead th {\n",
       "        text-align: right;\n",
       "    }\n",
       "</style>\n",
       "<table border=\"1\" class=\"dataframe\">\n",
       "  <thead>\n",
       "    <tr style=\"text-align: right;\">\n",
       "      <th></th>\n",
       "      <th>hypertension</th>\n",
       "    </tr>\n",
       "    <tr>\n",
       "      <th>hypertension</th>\n",
       "      <th></th>\n",
       "    </tr>\n",
       "  </thead>\n",
       "  <tbody>\n",
       "    <tr>\n",
       "      <th>0</th>\n",
       "      <td>583</td>\n",
       "    </tr>\n",
       "    <tr>\n",
       "      <th>1</th>\n",
       "      <td>200</td>\n",
       "    </tr>\n",
       "  </tbody>\n",
       "</table>\n",
       "</div>"
      ],
      "text/plain": [
       "              hypertension\n",
       "hypertension              \n",
       "0                      583\n",
       "1                      200"
      ]
     },
     "execution_count": 21,
     "metadata": {},
     "output_type": "execute_result"
    }
   ],
   "source": [
    "train1.groupby('hypertension')[['hypertension']].count() "
   ]
  },
  {
   "cell_type": "code",
   "execution_count": 22,
   "metadata": {
    "collapsed": true
   },
   "outputs": [],
   "source": [
    "labels = ['No hypertension', 'Has hypertension']\n",
    "sizes0 = [38756, 3861]\n",
    "sizes1 = [583, 200]"
   ]
  },
  {
   "cell_type": "code",
   "execution_count": 23,
   "metadata": {
    "collapsed": false
   },
   "outputs": [
    {
     "data": {
      "image/png": "[encoded data removed]",
      "text/plain": [
       "<Figure size 720x360 with 2 Axes>"
      ]
     },
     "metadata": {},
     "output_type": "display_data"
    }
   ],
   "source": [
    "# Set up subplots\n",
    "fig, ax = plt.subplots(1, 2, figsize=(10, 5))\n",
    "explode = (0, 0.1)# only \"explode\" the 2nd slice\n",
    "ax[0].pie(sizes0, explode=explode,labels=labels,  autopct='%1.1f%%',shadow=True, startangle=90)\n",
    "ax[0].set_title('People without stroke')\n",
    "ax[1].pie(sizes1, explode=explode,labels=labels,  autopct='%1.1f%%',shadow=True, startangle=90)\n",
    "ax[1].set_title('People with stroke')\n",
    "plt.tight_layout()\n",
    "plt.show()"
   ]
  },
  {
   "cell_type": "markdown",
   "metadata": {},
   "source": [
    "Relationship between heart disease and stroke?"
   ]
  },
  {
   "cell_type": "code",
   "execution_count": 24,
   "metadata": {
    "collapsed": false
   },
   "outputs": [
    {
     "data": {
      "text/html": [
       "<div>\n",
       "<style scoped>\n",
       "    .dataframe tbody tr th:only-of-type {\n",
       "        vertical-align: middle;\n",
       "    }\n",
       "\n",
       "    .dataframe tbody tr th {\n",
       "        vertical-align: top;\n",
       "    }\n",
       "\n",
       "    .dataframe thead th {\n",
       "        text-align: right;\n",
       "    }\n",
       "</style>\n",
       "<table border=\"1\" class=\"dataframe\">\n",
       "  <thead>\n",
       "    <tr style=\"text-align: right;\">\n",
       "      <th></th>\n",
       "      <th>heart_disease</th>\n",
       "    </tr>\n",
       "    <tr>\n",
       "      <th>heart_disease</th>\n",
       "      <th></th>\n",
       "    </tr>\n",
       "  </thead>\n",
       "  <tbody>\n",
       "    <tr>\n",
       "      <th>0</th>\n",
       "      <td>40732</td>\n",
       "    </tr>\n",
       "    <tr>\n",
       "      <th>1</th>\n",
       "      <td>1885</td>\n",
       "    </tr>\n",
       "  </tbody>\n",
       "</table>\n",
       "</div>"
      ],
      "text/plain": [
       "               heart_disease\n",
       "heart_disease               \n",
       "0                      40732\n",
       "1                       1885"
      ]
     },
     "execution_count": 24,
     "metadata": {},
     "output_type": "execute_result"
    }
   ],
   "source": [
    "train0.groupby('heart_disease')[['heart_disease']].count() "
   ]
  },
  {
   "cell_type": "code",
   "execution_count": 25,
   "metadata": {
    "collapsed": false
   },
   "outputs": [
    {
     "data": {
      "text/html": [
       "<div>\n",
       "<style scoped>\n",
       "    .dataframe tbody tr th:only-of-type {\n",
       "        vertical-align: middle;\n",
       "    }\n",
       "\n",
       "    .dataframe tbody tr th {\n",
       "        vertical-align: top;\n",
       "    }\n",
       "\n",
       "    .dataframe thead th {\n",
       "        text-align: right;\n",
       "    }\n",
       "</style>\n",
       "<table border=\"1\" class=\"dataframe\">\n",
       "  <thead>\n",
       "    <tr style=\"text-align: right;\">\n",
       "      <th></th>\n",
       "      <th>heart_disease</th>\n",
       "    </tr>\n",
       "    <tr>\n",
       "      <th>heart_disease</th>\n",
       "      <th></th>\n",
       "    </tr>\n",
       "  </thead>\n",
       "  <tbody>\n",
       "    <tr>\n",
       "      <th>0</th>\n",
       "      <td>606</td>\n",
       "    </tr>\n",
       "    <tr>\n",
       "      <th>1</th>\n",
       "      <td>177</td>\n",
       "    </tr>\n",
       "  </tbody>\n",
       "</table>\n",
       "</div>"
      ],
      "text/plain": [
       "               heart_disease\n",
       "heart_disease               \n",
       "0                        606\n",
       "1                        177"
      ]
     },
     "execution_count": 25,
     "metadata": {},
     "output_type": "execute_result"
    }
   ],
   "source": [
    "train1.groupby('heart_disease')[['heart_disease']].count() "
   ]
  },
  {
   "cell_type": "code",
   "execution_count": 26,
   "metadata": {
    "collapsed": true
   },
   "outputs": [],
   "source": [
    "labels = ['Has heart disease', 'No heart disease']\n",
    "sizes0 = [40732, 1885]\n",
    "sizes1 = [606, 177]"
   ]
  },
  {
   "cell_type": "code",
   "execution_count": 27,
   "metadata": {
    "collapsed": false
   },
   "outputs": [
    {
     "data": {
      "image/png": "[encoded data removed]",
      "text/plain": [
       "<Figure size 720x360 with 2 Axes>"
      ]
     },
     "metadata": {},
     "output_type": "display_data"
    }
   ],
   "source": [
    "# Set up subplots\n",
    "fig, ax = plt.subplots(1, 2, figsize=(10, 5))\n",
    "explode = (0, 0.1)# only \"explode\" the 2nd slice\n",
    "ax[0].pie(sizes0, explode=explode,labels=labels,  autopct='%1.1f%%',shadow=True, startangle=90)\n",
    "ax[0].set_title('People without stroke')\n",
    "ax[1].pie(sizes1, explode=explode,labels=labels,  autopct='%1.1f%%',shadow=True, startangle=90)\n",
    "ax[1].set_title('People with stroke')\n",
    "plt.tight_layout()\n",
    "plt.show()"
   ]
  },
  {
   "cell_type": "markdown",
   "metadata": {},
   "source": [
    "Can we see correlation between marriage and stroke?"
   ]
  },
  {
   "cell_type": "code",
   "execution_count": 28,
   "metadata": {
    "collapsed": false
   },
   "outputs": [
    {
     "data": {
      "text/html": [
       "<div>\n",
       "<style scoped>\n",
       "    .dataframe tbody tr th:only-of-type {\n",
       "        vertical-align: middle;\n",
       "    }\n",
       "\n",
       "    .dataframe tbody tr th {\n",
       "        vertical-align: top;\n",
       "    }\n",
       "\n",
       "    .dataframe thead th {\n",
       "        text-align: right;\n",
       "    }\n",
       "</style>\n",
       "<table border=\"1\" class=\"dataframe\">\n",
       "  <thead>\n",
       "    <tr style=\"text-align: right;\">\n",
       "      <th></th>\n",
       "      <th>ever_married</th>\n",
       "    </tr>\n",
       "    <tr>\n",
       "      <th>ever_married</th>\n",
       "      <th></th>\n",
       "    </tr>\n",
       "  </thead>\n",
       "  <tbody>\n",
       "    <tr>\n",
       "      <th>No</th>\n",
       "      <td>15382</td>\n",
       "    </tr>\n",
       "    <tr>\n",
       "      <th>Yes</th>\n",
       "      <td>27235</td>\n",
       "    </tr>\n",
       "  </tbody>\n",
       "</table>\n",
       "</div>"
      ],
      "text/plain": [
       "              ever_married\n",
       "ever_married              \n",
       "No                   15382\n",
       "Yes                  27235"
      ]
     },
     "execution_count": 28,
     "metadata": {},
     "output_type": "execute_result"
    }
   ],
   "source": [
    "train0.groupby('ever_married')[['ever_married']].count() "
   ]
  },
  {
   "cell_type": "code",
   "execution_count": 29,
   "metadata": {
    "collapsed": false
   },
   "outputs": [
    {
     "data": {
      "text/html": [
       "<div>\n",
       "<style scoped>\n",
       "    .dataframe tbody tr th:only-of-type {\n",
       "        vertical-align: middle;\n",
       "    }\n",
       "\n",
       "    .dataframe tbody tr th {\n",
       "        vertical-align: top;\n",
       "    }\n",
       "\n",
       "    .dataframe thead th {\n",
       "        text-align: right;\n",
       "    }\n",
       "</style>\n",
       "<table border=\"1\" class=\"dataframe\">\n",
       "  <thead>\n",
       "    <tr style=\"text-align: right;\">\n",
       "      <th></th>\n",
       "      <th>ever_married</th>\n",
       "    </tr>\n",
       "    <tr>\n",
       "      <th>ever_married</th>\n",
       "      <th></th>\n",
       "    </tr>\n",
       "  </thead>\n",
       "  <tbody>\n",
       "    <tr>\n",
       "      <th>No</th>\n",
       "      <td>80</td>\n",
       "    </tr>\n",
       "    <tr>\n",
       "      <th>Yes</th>\n",
       "      <td>703</td>\n",
       "    </tr>\n",
       "  </tbody>\n",
       "</table>\n",
       "</div>"
      ],
      "text/plain": [
       "              ever_married\n",
       "ever_married              \n",
       "No                      80\n",
       "Yes                    703"
      ]
     },
     "execution_count": 29,
     "metadata": {},
     "output_type": "execute_result"
    }
   ],
   "source": [
    "train1.groupby('ever_married')[['ever_married']].count() "
   ]
  },
  {
   "cell_type": "code",
   "execution_count": 30,
   "metadata": {
    "collapsed": true
   },
   "outputs": [],
   "source": [
    "labels = ['Married', 'No marriage']\n",
    "sizes0 = [15382, 27235]\n",
    "sizes1 = [80, 703]"
   ]
  },
  {
   "cell_type": "code",
   "execution_count": 31,
   "metadata": {
    "collapsed": false
   },
   "outputs": [
    {
     "data": {
      "image/png": "[encoded data removed]",
      "text/plain": [
       "<Figure size 720x360 with 2 Axes>"
      ]
     },
     "metadata": {},
     "output_type": "display_data"
    }
   ],
   "source": [
    "# Set up subplots\n",
    "fig, ax = plt.subplots(1, 2, figsize=(10, 5))\n",
    "explode = (0, 0.1)# only \"explode\" the 2nd slice\n",
    "ax[0].pie(sizes0, explode=explode,labels=labels,  autopct='%1.1f%%',shadow=True, startangle=90)\n",
    "ax[0].set_title('People without stroke')\n",
    "ax[1].pie(sizes1, explode=explode,labels=labels,  autopct='%1.1f%%',shadow=True, startangle=90)\n",
    "ax[1].set_title('People with stroke')\n",
    "plt.tight_layout()\n",
    "plt.show()"
   ]
  },
  {
   "cell_type": "markdown",
   "metadata": {},
   "source": [
    "How about work type?"
   ]
  },
  {
   "cell_type": "code",
   "execution_count": 32,
   "metadata": {
    "collapsed": false
   },
   "outputs": [
    {
     "data": {
      "text/html": [
       "<div>\n",
       "<style scoped>\n",
       "    .dataframe tbody tr th:only-of-type {\n",
       "        vertical-align: middle;\n",
       "    }\n",
       "\n",
       "    .dataframe tbody tr th {\n",
       "        vertical-align: top;\n",
       "    }\n",
       "\n",
       "    .dataframe thead th {\n",
       "        text-align: right;\n",
       "    }\n",
       "</style>\n",
       "<table border=\"1\" class=\"dataframe\">\n",
       "  <thead>\n",
       "    <tr style=\"text-align: right;\">\n",
       "      <th></th>\n",
       "      <th>work_type</th>\n",
       "    </tr>\n",
       "    <tr>\n",
       "      <th>work_type</th>\n",
       "      <th></th>\n",
       "    </tr>\n",
       "  </thead>\n",
       "  <tbody>\n",
       "    <tr>\n",
       "      <th>Govt_job</th>\n",
       "      <td>5351</td>\n",
       "    </tr>\n",
       "    <tr>\n",
       "      <th>Never_worked</th>\n",
       "      <td>177</td>\n",
       "    </tr>\n",
       "    <tr>\n",
       "      <th>Private</th>\n",
       "      <td>24393</td>\n",
       "    </tr>\n",
       "    <tr>\n",
       "      <th>Self-employed</th>\n",
       "      <td>6542</td>\n",
       "    </tr>\n",
       "    <tr>\n",
       "      <th>children</th>\n",
       "      <td>6154</td>\n",
       "    </tr>\n",
       "  </tbody>\n",
       "</table>\n",
       "</div>"
      ],
      "text/plain": [
       "               work_type\n",
       "work_type               \n",
       "Govt_job            5351\n",
       "Never_worked         177\n",
       "Private            24393\n",
       "Self-employed       6542\n",
       "children            6154"
      ]
     },
     "execution_count": 32,
     "metadata": {},
     "output_type": "execute_result"
    }
   ],
   "source": [
    "train0.groupby('work_type')[['work_type']].count() "
   ]
  },
  {
   "cell_type": "code",
   "execution_count": 33,
   "metadata": {
    "collapsed": false
   },
   "outputs": [
    {
     "data": {
      "text/html": [
       "<div>\n",
       "<style scoped>\n",
       "    .dataframe tbody tr th:only-of-type {\n",
       "        vertical-align: middle;\n",
       "    }\n",
       "\n",
       "    .dataframe tbody tr th {\n",
       "        vertical-align: top;\n",
       "    }\n",
       "\n",
       "    .dataframe thead th {\n",
       "        text-align: right;\n",
       "    }\n",
       "</style>\n",
       "<table border=\"1\" class=\"dataframe\">\n",
       "  <thead>\n",
       "    <tr style=\"text-align: right;\">\n",
       "      <th></th>\n",
       "      <th>work_type</th>\n",
       "    </tr>\n",
       "    <tr>\n",
       "      <th>work_type</th>\n",
       "      <th></th>\n",
       "    </tr>\n",
       "  </thead>\n",
       "  <tbody>\n",
       "    <tr>\n",
       "      <th>Govt_job</th>\n",
       "      <td>89</td>\n",
       "    </tr>\n",
       "    <tr>\n",
       "      <th>Private</th>\n",
       "      <td>441</td>\n",
       "    </tr>\n",
       "    <tr>\n",
       "      <th>Self-employed</th>\n",
       "      <td>251</td>\n",
       "    </tr>\n",
       "    <tr>\n",
       "      <th>children</th>\n",
       "      <td>2</td>\n",
       "    </tr>\n",
       "  </tbody>\n",
       "</table>\n",
       "</div>"
      ],
      "text/plain": [
       "               work_type\n",
       "work_type               \n",
       "Govt_job              89\n",
       "Private              441\n",
       "Self-employed        251\n",
       "children               2"
      ]
     },
     "execution_count": 33,
     "metadata": {},
     "output_type": "execute_result"
    }
   ],
   "source": [
    "train1.groupby('work_type')[['work_type']].count() "
   ]
  },
  {
   "cell_type": "code",
   "execution_count": 34,
   "metadata": {
    "collapsed": true
   },
   "outputs": [],
   "source": [
    "labels = ['Govt_job','Never_worked', 'Private','Self-employed','children']\n",
    "sizes0 = [5351, 177, 24393, 6542, 6154]\n",
    "sizes1 = [89, 0,441, 251, 2]"
   ]
  },
  {
   "cell_type": "code",
   "execution_count": 35,
   "metadata": {
    "collapsed": false
   },
   "outputs": [
    {
     "data": {
      "image/png": "[encoded data removed]",
      "text/plain": [
       "<Figure size 720x360 with 2 Axes>"
      ]
     },
     "metadata": {},
     "output_type": "display_data"
    }
   ],
   "source": [
    "# Set up subplots\n",
    "fig, ax = plt.subplots(1, 2, figsize=(10, 5))\n",
    "explode = (0.1, 0,0,0,0) \n",
    "ax[0].pie(sizes0, explode=explode,labels=labels,  autopct='%1.1f%%',shadow=True, startangle=90)\n",
    "ax[0].set_title('People without stroke')\n",
    "ax[1].pie(sizes1, explode=explode,labels=labels,  autopct='%1.1f%%',shadow=True, startangle=90)\n",
    "ax[1].set_title('People with stroke')\n",
    "plt.tight_layout()\n",
    "plt.show()"
   ]
  },
  {
   "cell_type": "markdown",
   "metadata": {},
   "source": [
    "Does residence type have some influence?"
   ]
  },
  {
   "cell_type": "code",
   "execution_count": 36,
   "metadata": {
    "collapsed": false
   },
   "outputs": [
    {
     "data": {
      "text/html": [
       "<div>\n",
       "<style scoped>\n",
       "    .dataframe tbody tr th:only-of-type {\n",
       "        vertical-align: middle;\n",
       "    }\n",
       "\n",
       "    .dataframe tbody tr th {\n",
       "        vertical-align: top;\n",
       "    }\n",
       "\n",
       "    .dataframe thead th {\n",
       "        text-align: right;\n",
       "    }\n",
       "</style>\n",
       "<table border=\"1\" class=\"dataframe\">\n",
       "  <thead>\n",
       "    <tr style=\"text-align: right;\">\n",
       "      <th></th>\n",
       "      <th>Residence_type</th>\n",
       "    </tr>\n",
       "    <tr>\n",
       "      <th>Residence_type</th>\n",
       "      <th></th>\n",
       "    </tr>\n",
       "  </thead>\n",
       "  <tbody>\n",
       "    <tr>\n",
       "      <th>Rural</th>\n",
       "      <td>21260</td>\n",
       "    </tr>\n",
       "    <tr>\n",
       "      <th>Urban</th>\n",
       "      <td>21357</td>\n",
       "    </tr>\n",
       "  </tbody>\n",
       "</table>\n",
       "</div>"
      ],
      "text/plain": [
       "                Residence_type\n",
       "Residence_type                \n",
       "Rural                    21260\n",
       "Urban                    21357"
      ]
     },
     "execution_count": 36,
     "metadata": {},
     "output_type": "execute_result"
    }
   ],
   "source": [
    "train0.groupby('Residence_type')[['Residence_type']].count() "
   ]
  },
  {
   "cell_type": "code",
   "execution_count": 37,
   "metadata": {
    "collapsed": false
   },
   "outputs": [
    {
     "data": {
      "text/html": [
       "<div>\n",
       "<style scoped>\n",
       "    .dataframe tbody tr th:only-of-type {\n",
       "        vertical-align: middle;\n",
       "    }\n",
       "\n",
       "    .dataframe tbody tr th {\n",
       "        vertical-align: top;\n",
       "    }\n",
       "\n",
       "    .dataframe thead th {\n",
       "        text-align: right;\n",
       "    }\n",
       "</style>\n",
       "<table border=\"1\" class=\"dataframe\">\n",
       "  <thead>\n",
       "    <tr style=\"text-align: right;\">\n",
       "      <th></th>\n",
       "      <th>Residence_type</th>\n",
       "    </tr>\n",
       "    <tr>\n",
       "      <th>Residence_type</th>\n",
       "      <th></th>\n",
       "    </tr>\n",
       "  </thead>\n",
       "  <tbody>\n",
       "    <tr>\n",
       "      <th>Rural</th>\n",
       "      <td>384</td>\n",
       "    </tr>\n",
       "    <tr>\n",
       "      <th>Urban</th>\n",
       "      <td>399</td>\n",
       "    </tr>\n",
       "  </tbody>\n",
       "</table>\n",
       "</div>"
      ],
      "text/plain": [
       "                Residence_type\n",
       "Residence_type                \n",
       "Rural                      384\n",
       "Urban                      399"
      ]
     },
     "execution_count": 37,
     "metadata": {},
     "output_type": "execute_result"
    }
   ],
   "source": [
    "train1.groupby('Residence_type')[['Residence_type']].count() "
   ]
  },
  {
   "cell_type": "code",
   "execution_count": 38,
   "metadata": {
    "collapsed": true
   },
   "outputs": [],
   "source": [
    "labels = ['Rural', 'Urban']\n",
    "sizes0 = [21260, 21357]\n",
    "sizes1 = [384, 399]"
   ]
  },
  {
   "cell_type": "code",
   "execution_count": 39,
   "metadata": {
    "collapsed": false
   },
   "outputs": [
    {
     "data": {
      "image/png": "[encoded data removed]",
      "text/plain": [
       "<Figure size 720x360 with 2 Axes>"
      ]
     },
     "metadata": {},
     "output_type": "display_data"
    }
   ],
   "source": [
    "# Set up subplots\n",
    "fig, ax = plt.subplots(1, 2, figsize=(10, 5))\n",
    "explode = (0.1,0) \n",
    "ax[0].pie(sizes0, explode=explode,labels=labels,  autopct='%1.1f%%',shadow=True, startangle=90)\n",
    "ax[0].set_title('People without stroke')\n",
    "ax[1].pie(sizes1, explode=explode,labels=labels,  autopct='%1.1f%%',shadow=True, startangle=90)\n",
    "ax[1].set_title('People with stroke')\n",
    "plt.tight_layout()\n",
    "plt.show()"
   ]
  },
  {
   "cell_type": "markdown",
   "metadata": {},
   "source": [
    "How about average glucose level?"
   ]
  },
  {
   "cell_type": "code",
   "execution_count": 40,
   "metadata": {
    "collapsed": false
   },
   "outputs": [
    {
     "data": {
      "text/plain": [
       "Text(0,0.5,'count')"
      ]
     },
     "execution_count": 40,
     "metadata": {},
     "output_type": "execute_result"
    },
    {
     "data": {
      "image/png": "[encoded data removed]",
      "text/plain": [
       "<Figure size 432x288 with 1 Axes>"
      ]
     },
     "metadata": {
      "needs_background": "light"
     },
     "output_type": "display_data"
    }
   ],
   "source": [
    "plt.hist(train0['avg_glucose_level'])\n",
    "plt.hist(train1['avg_glucose_level'])\n",
    "plt.legend(['healthy people', 'stroke patient'])\n",
    "plt.xlabel('avg_glucose_level')\n",
    "plt.ylabel('count')"
   ]
  },
  {
   "cell_type": "code",
   "execution_count": 41,
   "metadata": {
    "collapsed": false
   },
   "outputs": [
    {
     "name": "stdout",
     "output_type": "stream",
     "text": [
      "Average glucose level for healthy people is: \n"
     ]
    },
    {
     "data": {
      "text/plain": [
       "104.02159044512753"
      ]
     },
     "execution_count": 41,
     "metadata": {},
     "output_type": "execute_result"
    }
   ],
   "source": [
    "print(\"Average glucose level for healthy people is: \")\n",
    "train0['avg_glucose_level'].mean()"
   ]
  },
  {
   "cell_type": "code",
   "execution_count": 42,
   "metadata": {
    "collapsed": false
   },
   "outputs": [
    {
     "name": "stdout",
     "output_type": "stream",
     "text": [
      "Average glucose level for stroke patient is: \n"
     ]
    },
    {
     "data": {
      "text/plain": [
       "129.5826692209451"
      ]
     },
     "execution_count": 42,
     "metadata": {},
     "output_type": "execute_result"
    }
   ],
   "source": [
    "print(\"Average glucose level for stroke patient is: \")\n",
    "train1['avg_glucose_level'].mean()"
   ]
  },
  {
   "cell_type": "markdown",
   "metadata": {},
   "source": [
    "Does bmi have correlation with stroke?"
   ]
  },
  {
   "cell_type": "code",
   "execution_count": 43,
   "metadata": {
    "collapsed": false
   },
   "outputs": [
    {
     "data": {
      "text/plain": [
       "Text(0,0.5,'count')"
      ]
     },
     "execution_count": 43,
     "metadata": {},
     "output_type": "execute_result"
    },
    {
     "data": {
      "image/png": "[encoded data removed]",
      "text/plain": [
       "<Figure size 432x288 with 1 Axes>"
      ]
     },
     "metadata": {
      "needs_background": "light"
     },
     "output_type": "display_data"
    }
   ],
   "source": [
    "plt.hist(train0['bmi'].dropna())\n",
    "plt.hist(train1['bmi'].dropna())\n",
    "plt.legend(['healthy people', 'stroke patient'])\n",
    "plt.xlabel('bmi')\n",
    "plt.ylabel('count')"
   ]
  },
  {
   "cell_type": "code",
   "execution_count": 44,
   "metadata": {
    "collapsed": false
   },
   "outputs": [
    {
     "name": "stdout",
     "output_type": "stream",
     "text": [
      "Average bmi for healthy people is: \n"
     ]
    },
    {
     "data": {
      "text/plain": [
       "28.58537111030391"
      ]
     },
     "execution_count": 44,
     "metadata": {},
     "output_type": "execute_result"
    }
   ],
   "source": [
    "print(\"Average bmi for healthy people is: \")\n",
    "train0['bmi'].mean()"
   ]
  },
  {
   "cell_type": "code",
   "execution_count": 45,
   "metadata": {
    "collapsed": false
   },
   "outputs": [
    {
     "name": "stdout",
     "output_type": "stream",
     "text": [
      "Average bmi for stroke patient is: \n"
     ]
    },
    {
     "data": {
      "text/plain": [
       "29.868118195956455"
      ]
     },
     "execution_count": 45,
     "metadata": {},
     "output_type": "execute_result"
    }
   ],
   "source": [
    "print(\"Average bmi for stroke patient is: \")\n",
    "train1['bmi'].mean()"
   ]
  },
  {
   "cell_type": "markdown",
   "metadata": {},
   "source": [
    "How about smoking status?"
   ]
  },
  {
   "cell_type": "code",
   "execution_count": 453,
   "metadata": {
    "collapsed": false
   },
   "outputs": [
    {
     "data": {
      "text/html": [
       "<div>\n",
       "<style scoped>\n",
       "    .dataframe tbody tr th:only-of-type {\n",
       "        vertical-align: middle;\n",
       "    }\n",
       "\n",
       "    .dataframe tbody tr th {\n",
       "        vertical-align: top;\n",
       "    }\n",
       "\n",
       "    .dataframe thead th {\n",
       "        text-align: right;\n",
       "    }\n",
       "</style>\n",
       "<table border=\"1\" class=\"dataframe\">\n",
       "  <thead>\n",
       "    <tr style=\"text-align: right;\">\n",
       "      <th></th>\n",
       "      <th>smoking_status</th>\n",
       "    </tr>\n",
       "    <tr>\n",
       "      <th>smoking_status</th>\n",
       "      <th></th>\n",
       "    </tr>\n",
       "  </thead>\n",
       "  <tbody>\n",
       "    <tr>\n",
       "      <th>formerly smoked</th>\n",
       "      <td>7272</td>\n",
       "    </tr>\n",
       "    <tr>\n",
       "      <th>never smoked</th>\n",
       "      <td>15769</td>\n",
       "    </tr>\n",
       "    <tr>\n",
       "      <th>smokes</th>\n",
       "      <td>6429</td>\n",
       "    </tr>\n",
       "  </tbody>\n",
       "</table>\n",
       "</div>"
      ],
      "text/plain": [
       "                 smoking_status\n",
       "smoking_status                 \n",
       "formerly smoked            7272\n",
       "never smoked              15769\n",
       "smokes                     6429"
      ]
     },
     "execution_count": 453,
     "metadata": {},
     "output_type": "execute_result"
    }
   ],
   "source": [
    "train0.groupby('smoking_status')[['smoking_status']].count() "
   ]
  },
  {
   "cell_type": "code",
   "execution_count": 454,
   "metadata": {
    "collapsed": false
   },
   "outputs": [
    {
     "data": {
      "text/html": [
       "<div>\n",
       "<style scoped>\n",
       "    .dataframe tbody tr th:only-of-type {\n",
       "        vertical-align: middle;\n",
       "    }\n",
       "\n",
       "    .dataframe tbody tr th {\n",
       "        vertical-align: top;\n",
       "    }\n",
       "\n",
       "    .dataframe thead th {\n",
       "        text-align: right;\n",
       "    }\n",
       "</style>\n",
       "<table border=\"1\" class=\"dataframe\">\n",
       "  <thead>\n",
       "    <tr style=\"text-align: right;\">\n",
       "      <th></th>\n",
       "      <th>smoking_status</th>\n",
       "    </tr>\n",
       "    <tr>\n",
       "      <th>smoking_status</th>\n",
       "      <th></th>\n",
       "    </tr>\n",
       "  </thead>\n",
       "  <tbody>\n",
       "    <tr>\n",
       "      <th>formerly smoked</th>\n",
       "      <td>221</td>\n",
       "    </tr>\n",
       "    <tr>\n",
       "      <th>never smoked</th>\n",
       "      <td>284</td>\n",
       "    </tr>\n",
       "    <tr>\n",
       "      <th>smokes</th>\n",
       "      <td>133</td>\n",
       "    </tr>\n",
       "  </tbody>\n",
       "</table>\n",
       "</div>"
      ],
      "text/plain": [
       "                 smoking_status\n",
       "smoking_status                 \n",
       "formerly smoked             221\n",
       "never smoked                284\n",
       "smokes                      133"
      ]
     },
     "execution_count": 454,
     "metadata": {},
     "output_type": "execute_result"
    }
   ],
   "source": [
    "train1.groupby('smoking_status')[['smoking_status']].count() "
   ]
  },
  {
   "cell_type": "code",
   "execution_count": 455,
   "metadata": {
    "collapsed": true
   },
   "outputs": [],
   "source": [
    "labels = ['formerly smoked', 'never smoked','smokes']\n",
    "sizes0 = [7272, 15769, 6429]\n",
    "sizes1 = [221, 284, 133]"
   ]
  },
  {
   "cell_type": "code",
   "execution_count": 456,
   "metadata": {
    "collapsed": false
   },
   "outputs": [
    {
     "data": {
      "image/png": "[encoded data removed]",
      "text/plain": [
       "<Figure size 720x360 with 2 Axes>"
      ]
     },
     "metadata": {},
     "output_type": "display_data"
    }
   ],
   "source": [
    "# Set up subplots\n",
    "fig, ax = plt.subplots(1, 2, figsize=(10, 5))\n",
    "explode = (0.1,0,0) \n",
    "ax[0].pie(sizes0, explode=explode,labels=labels,  autopct='%1.1f%%',shadow=True, startangle=90)\n",
    "ax[0].set_title('People without stroke')\n",
    "ax[1].pie(sizes1, explode=explode,labels=labels,  autopct='%1.1f%%',shadow=True, startangle=90)\n",
    "ax[1].set_title('People with stroke')\n",
    "plt.tight_layout()\n",
    "plt.show()"
   ]
  },
  {
   "cell_type": "markdown",
   "metadata": {
    "collapsed": true
   },
   "source": [
    "## Part 2: Feature processing"
   ]
  },
  {
   "cell_type": "markdown",
   "metadata": {
    "collapsed": true
   },
   "source": [
    "### Drop columns"
   ]
  },
  {
   "cell_type": "code",
   "execution_count": 457,
   "metadata": {
    "collapsed": false
   },
   "outputs": [],
   "source": [
    "train_data = train_data.drop(['id','Residence_type'] , axis = 1)"
   ]
  },
  {
   "cell_type": "code",
   "execution_count": 458,
   "metadata": {
    "collapsed": true
   },
   "outputs": [],
   "source": [
    "test_data = test_data.drop(['id','Residence_type'] , axis = 1)"
   ]
  },
  {
   "cell_type": "markdown",
   "metadata": {},
   "source": [
    "### Replace value in column smoking_status and ever_married\t"
   ]
  },
  {
   "cell_type": "code",
   "execution_count": 459,
   "metadata": {
    "collapsed": true
   },
   "outputs": [],
   "source": [
    "train_data['smoking_status'] = train_data['smoking_status'].map({'never smoked':0, 'formerly smoked':1, 'smokes':2})\n",
    "test_data['smoking_status'] = test_data['smoking_status'].map({'never smoked':0, 'formerly smoked':1, 'smokes':2})"
   ]
  },
  {
   "cell_type": "code",
   "execution_count": 460,
   "metadata": {
    "collapsed": true
   },
   "outputs": [],
   "source": [
    "train_data['ever_married'] = train_data['ever_married'].map({'No':0, 'Yes':1})\n",
    "test_data['ever_married'] = test_data['ever_married'].map({'No':0, 'Yes':1})"
   ]
  },
  {
   "cell_type": "markdown",
   "metadata": {},
   "source": [
    "### One Hot Encoding"
   ]
  },
  {
   "cell_type": "code",
   "execution_count": 461,
   "metadata": {
    "collapsed": true
   },
   "outputs": [],
   "source": [
    "to_drop = ['gender', 'work_type']"
   ]
  },
  {
   "cell_type": "code",
   "execution_count": 462,
   "metadata": {
    "collapsed": true
   },
   "outputs": [],
   "source": [
    "train = train_data.drop(to_drop, axis = 1)"
   ]
  },
  {
   "cell_type": "code",
   "execution_count": 463,
   "metadata": {
    "collapsed": true
   },
   "outputs": [],
   "source": [
    "test = test_data.drop(to_drop, axis = 1)"
   ]
  },
  {
   "cell_type": "markdown",
   "metadata": {},
   "source": [
    "Add catogorical feature: gender,work_type "
   ]
  },
  {
   "cell_type": "code",
   "execution_count": 464,
   "metadata": {
    "collapsed": false
   },
   "outputs": [],
   "source": [
    "one_hot_g = pd.get_dummies(train_data['gender'])"
   ]
  },
  {
   "cell_type": "code",
   "execution_count": 465,
   "metadata": {
    "collapsed": true
   },
   "outputs": [],
   "source": [
    "one_hot_g2 = pd.get_dummies(test_data['gender'])"
   ]
  },
  {
   "cell_type": "code",
   "execution_count": 466,
   "metadata": {
    "collapsed": false,
    "scrolled": true
   },
   "outputs": [],
   "source": [
    "train = train.join(one_hot_g)"
   ]
  },
  {
   "cell_type": "code",
   "execution_count": 467,
   "metadata": {
    "collapsed": true
   },
   "outputs": [],
   "source": [
    "test = test.join(one_hot_g2)"
   ]
  },
  {
   "cell_type": "code",
   "execution_count": 468,
   "metadata": {
    "collapsed": true
   },
   "outputs": [],
   "source": [
    "one_hot_w = pd.get_dummies(train_data['work_type'])"
   ]
  },
  {
   "cell_type": "code",
   "execution_count": 469,
   "metadata": {
    "collapsed": true
   },
   "outputs": [],
   "source": [
    "one_hot_w2 = pd.get_dummies(test_data['work_type'])"
   ]
  },
  {
   "cell_type": "code",
   "execution_count": 470,
   "metadata": {
    "collapsed": true
   },
   "outputs": [],
   "source": [
    "train = train.join(one_hot_w)"
   ]
  },
  {
   "cell_type": "code",
   "execution_count": 471,
   "metadata": {
    "collapsed": true
   },
   "outputs": [],
   "source": [
    "test = test.join(one_hot_w2)"
   ]
  },
  {
   "cell_type": "code",
   "execution_count": 472,
   "metadata": {
    "collapsed": false
   },
   "outputs": [
    {
     "data": {
      "text/html": [
       "<div>\n",
       "<style scoped>\n",
       "    .dataframe tbody tr th:only-of-type {\n",
       "        vertical-align: middle;\n",
       "    }\n",
       "\n",
       "    .dataframe tbody tr th {\n",
       "        vertical-align: top;\n",
       "    }\n",
       "\n",
       "    .dataframe thead th {\n",
       "        text-align: right;\n",
       "    }\n",
       "</style>\n",
       "<table border=\"1\" class=\"dataframe\">\n",
       "  <thead>\n",
       "    <tr style=\"text-align: right;\">\n",
       "      <th></th>\n",
       "      <th>age</th>\n",
       "      <th>hypertension</th>\n",
       "      <th>heart_disease</th>\n",
       "      <th>ever_married</th>\n",
       "      <th>avg_glucose_level</th>\n",
       "      <th>bmi</th>\n",
       "      <th>smoking_status</th>\n",
       "      <th>stroke</th>\n",
       "      <th>Female</th>\n",
       "      <th>Male</th>\n",
       "      <th>Other</th>\n",
       "      <th>Govt_job</th>\n",
       "      <th>Never_worked</th>\n",
       "      <th>Private</th>\n",
       "      <th>Self-employed</th>\n",
       "      <th>children</th>\n",
       "    </tr>\n",
       "  </thead>\n",
       "  <tbody>\n",
       "    <tr>\n",
       "      <th>0</th>\n",
       "      <td>3.0</td>\n",
       "      <td>0</td>\n",
       "      <td>0</td>\n",
       "      <td>0</td>\n",
       "      <td>95.12</td>\n",
       "      <td>18.0</td>\n",
       "      <td>NaN</td>\n",
       "      <td>0</td>\n",
       "      <td>0</td>\n",
       "      <td>1</td>\n",
       "      <td>0</td>\n",
       "      <td>0</td>\n",
       "      <td>0</td>\n",
       "      <td>0</td>\n",
       "      <td>0</td>\n",
       "      <td>1</td>\n",
       "    </tr>\n",
       "    <tr>\n",
       "      <th>1</th>\n",
       "      <td>58.0</td>\n",
       "      <td>1</td>\n",
       "      <td>0</td>\n",
       "      <td>1</td>\n",
       "      <td>87.96</td>\n",
       "      <td>39.2</td>\n",
       "      <td>0.0</td>\n",
       "      <td>0</td>\n",
       "      <td>0</td>\n",
       "      <td>1</td>\n",
       "      <td>0</td>\n",
       "      <td>0</td>\n",
       "      <td>0</td>\n",
       "      <td>1</td>\n",
       "      <td>0</td>\n",
       "      <td>0</td>\n",
       "    </tr>\n",
       "    <tr>\n",
       "      <th>2</th>\n",
       "      <td>8.0</td>\n",
       "      <td>0</td>\n",
       "      <td>0</td>\n",
       "      <td>0</td>\n",
       "      <td>110.89</td>\n",
       "      <td>17.6</td>\n",
       "      <td>NaN</td>\n",
       "      <td>0</td>\n",
       "      <td>1</td>\n",
       "      <td>0</td>\n",
       "      <td>0</td>\n",
       "      <td>0</td>\n",
       "      <td>0</td>\n",
       "      <td>1</td>\n",
       "      <td>0</td>\n",
       "      <td>0</td>\n",
       "    </tr>\n",
       "    <tr>\n",
       "      <th>3</th>\n",
       "      <td>70.0</td>\n",
       "      <td>0</td>\n",
       "      <td>0</td>\n",
       "      <td>1</td>\n",
       "      <td>69.04</td>\n",
       "      <td>35.9</td>\n",
       "      <td>1.0</td>\n",
       "      <td>0</td>\n",
       "      <td>1</td>\n",
       "      <td>0</td>\n",
       "      <td>0</td>\n",
       "      <td>0</td>\n",
       "      <td>0</td>\n",
       "      <td>1</td>\n",
       "      <td>0</td>\n",
       "      <td>0</td>\n",
       "    </tr>\n",
       "    <tr>\n",
       "      <th>4</th>\n",
       "      <td>14.0</td>\n",
       "      <td>0</td>\n",
       "      <td>0</td>\n",
       "      <td>0</td>\n",
       "      <td>161.28</td>\n",
       "      <td>19.1</td>\n",
       "      <td>NaN</td>\n",
       "      <td>0</td>\n",
       "      <td>0</td>\n",
       "      <td>1</td>\n",
       "      <td>0</td>\n",
       "      <td>0</td>\n",
       "      <td>1</td>\n",
       "      <td>0</td>\n",
       "      <td>0</td>\n",
       "      <td>0</td>\n",
       "    </tr>\n",
       "  </tbody>\n",
       "</table>\n",
       "</div>"
      ],
      "text/plain": [
       "    age  hypertension  heart_disease  ever_married  avg_glucose_level   bmi  \\\n",
       "0   3.0             0              0             0              95.12  18.0   \n",
       "1  58.0             1              0             1              87.96  39.2   \n",
       "2   8.0             0              0             0             110.89  17.6   \n",
       "3  70.0             0              0             1              69.04  35.9   \n",
       "4  14.0             0              0             0             161.28  19.1   \n",
       "\n",
       "   smoking_status  stroke  Female  Male  Other  Govt_job  Never_worked  \\\n",
       "0             NaN       0       0     1      0         0             0   \n",
       "1             0.0       0       0     1      0         0             0   \n",
       "2             NaN       0       1     0      0         0             0   \n",
       "3             1.0       0       1     0      0         0             0   \n",
       "4             NaN       0       0     1      0         0             1   \n",
       "\n",
       "   Private  Self-employed  children  \n",
       "0        0              0         1  \n",
       "1        1              0         0  \n",
       "2        1              0         0  \n",
       "3        1              0         0  \n",
       "4        0              0         0  "
      ]
     },
     "execution_count": 472,
     "metadata": {},
     "output_type": "execute_result"
    }
   ],
   "source": [
    "train.head()"
   ]
  },
  {
   "cell_type": "markdown",
   "metadata": {},
   "source": [
    "Change column order"
   ]
  },
  {
   "cell_type": "code",
   "execution_count": 474,
   "metadata": {
    "collapsed": true
   },
   "outputs": [],
   "source": [
    "train = train[['age',\n",
    " 'hypertension',\n",
    " 'heart_disease',\n",
    " 'ever_married',\n",
    " 'avg_glucose_level',\n",
    " 'bmi',\n",
    " 'smoking_status',\n",
    " 'Female',\n",
    " 'Male',\n",
    " 'Other',\n",
    " 'Govt_job',\n",
    " 'Never_worked',\n",
    " 'Private',\n",
    " 'Self-employed',\n",
    " 'children', 'stroke']]"
   ]
  },
  {
   "cell_type": "code",
   "execution_count": 475,
   "metadata": {
    "collapsed": false
   },
   "outputs": [
    {
     "data": {
      "text/html": [
       "<div>\n",
       "<style scoped>\n",
       "    .dataframe tbody tr th:only-of-type {\n",
       "        vertical-align: middle;\n",
       "    }\n",
       "\n",
       "    .dataframe tbody tr th {\n",
       "        vertical-align: top;\n",
       "    }\n",
       "\n",
       "    .dataframe thead th {\n",
       "        text-align: right;\n",
       "    }\n",
       "</style>\n",
       "<table border=\"1\" class=\"dataframe\">\n",
       "  <thead>\n",
       "    <tr style=\"text-align: right;\">\n",
       "      <th></th>\n",
       "      <th>age</th>\n",
       "      <th>hypertension</th>\n",
       "      <th>heart_disease</th>\n",
       "      <th>ever_married</th>\n",
       "      <th>avg_glucose_level</th>\n",
       "      <th>bmi</th>\n",
       "      <th>smoking_status</th>\n",
       "      <th>Female</th>\n",
       "      <th>Male</th>\n",
       "      <th>Other</th>\n",
       "      <th>Govt_job</th>\n",
       "      <th>Never_worked</th>\n",
       "      <th>Private</th>\n",
       "      <th>Self-employed</th>\n",
       "      <th>children</th>\n",
       "      <th>stroke</th>\n",
       "    </tr>\n",
       "  </thead>\n",
       "  <tbody>\n",
       "    <tr>\n",
       "      <th>0</th>\n",
       "      <td>3.0</td>\n",
       "      <td>0</td>\n",
       "      <td>0</td>\n",
       "      <td>0</td>\n",
       "      <td>95.12</td>\n",
       "      <td>18.0</td>\n",
       "      <td>NaN</td>\n",
       "      <td>0</td>\n",
       "      <td>1</td>\n",
       "      <td>0</td>\n",
       "      <td>0</td>\n",
       "      <td>0</td>\n",
       "      <td>0</td>\n",
       "      <td>0</td>\n",
       "      <td>1</td>\n",
       "      <td>0</td>\n",
       "    </tr>\n",
       "    <tr>\n",
       "      <th>1</th>\n",
       "      <td>58.0</td>\n",
       "      <td>1</td>\n",
       "      <td>0</td>\n",
       "      <td>1</td>\n",
       "      <td>87.96</td>\n",
       "      <td>39.2</td>\n",
       "      <td>0.0</td>\n",
       "      <td>0</td>\n",
       "      <td>1</td>\n",
       "      <td>0</td>\n",
       "      <td>0</td>\n",
       "      <td>0</td>\n",
       "      <td>1</td>\n",
       "      <td>0</td>\n",
       "      <td>0</td>\n",
       "      <td>0</td>\n",
       "    </tr>\n",
       "    <tr>\n",
       "      <th>2</th>\n",
       "      <td>8.0</td>\n",
       "      <td>0</td>\n",
       "      <td>0</td>\n",
       "      <td>0</td>\n",
       "      <td>110.89</td>\n",
       "      <td>17.6</td>\n",
       "      <td>NaN</td>\n",
       "      <td>1</td>\n",
       "      <td>0</td>\n",
       "      <td>0</td>\n",
       "      <td>0</td>\n",
       "      <td>0</td>\n",
       "      <td>1</td>\n",
       "      <td>0</td>\n",
       "      <td>0</td>\n",
       "      <td>0</td>\n",
       "    </tr>\n",
       "    <tr>\n",
       "      <th>3</th>\n",
       "      <td>70.0</td>\n",
       "      <td>0</td>\n",
       "      <td>0</td>\n",
       "      <td>1</td>\n",
       "      <td>69.04</td>\n",
       "      <td>35.9</td>\n",
       "      <td>1.0</td>\n",
       "      <td>1</td>\n",
       "      <td>0</td>\n",
       "      <td>0</td>\n",
       "      <td>0</td>\n",
       "      <td>0</td>\n",
       "      <td>1</td>\n",
       "      <td>0</td>\n",
       "      <td>0</td>\n",
       "      <td>0</td>\n",
       "    </tr>\n",
       "    <tr>\n",
       "      <th>4</th>\n",
       "      <td>14.0</td>\n",
       "      <td>0</td>\n",
       "      <td>0</td>\n",
       "      <td>0</td>\n",
       "      <td>161.28</td>\n",
       "      <td>19.1</td>\n",
       "      <td>NaN</td>\n",
       "      <td>0</td>\n",
       "      <td>1</td>\n",
       "      <td>0</td>\n",
       "      <td>0</td>\n",
       "      <td>1</td>\n",
       "      <td>0</td>\n",
       "      <td>0</td>\n",
       "      <td>0</td>\n",
       "      <td>0</td>\n",
       "    </tr>\n",
       "  </tbody>\n",
       "</table>\n",
       "</div>"
      ],
      "text/plain": [
       "    age  hypertension  heart_disease  ever_married  avg_glucose_level   bmi  \\\n",
       "0   3.0             0              0             0              95.12  18.0   \n",
       "1  58.0             1              0             1              87.96  39.2   \n",
       "2   8.0             0              0             0             110.89  17.6   \n",
       "3  70.0             0              0             1              69.04  35.9   \n",
       "4  14.0             0              0             0             161.28  19.1   \n",
       "\n",
       "   smoking_status  Female  Male  Other  Govt_job  Never_worked  Private  \\\n",
       "0             NaN       0     1      0         0             0        0   \n",
       "1             0.0       0     1      0         0             0        1   \n",
       "2             NaN       1     0      0         0             0        1   \n",
       "3             1.0       1     0      0         0             0        1   \n",
       "4             NaN       0     1      0         0             1        0   \n",
       "\n",
       "   Self-employed  children  stroke  \n",
       "0              0         1       0  \n",
       "1              0         0       0  \n",
       "2              0         0       0  \n",
       "3              0         0       0  \n",
       "4              0         0       0  "
      ]
     },
     "execution_count": 475,
     "metadata": {},
     "output_type": "execute_result"
    }
   ],
   "source": [
    "train.head()"
   ]
  },
  {
   "cell_type": "code",
   "execution_count": 476,
   "metadata": {
    "collapsed": false
   },
   "outputs": [
    {
     "data": {
      "text/html": [
       "<div>\n",
       "<style scoped>\n",
       "    .dataframe tbody tr th:only-of-type {\n",
       "        vertical-align: middle;\n",
       "    }\n",
       "\n",
       "    .dataframe tbody tr th {\n",
       "        vertical-align: top;\n",
       "    }\n",
       "\n",
       "    .dataframe thead th {\n",
       "        text-align: right;\n",
       "    }\n",
       "</style>\n",
       "<table border=\"1\" class=\"dataframe\">\n",
       "  <thead>\n",
       "    <tr style=\"text-align: right;\">\n",
       "      <th></th>\n",
       "      <th>age</th>\n",
       "      <th>hypertension</th>\n",
       "      <th>heart_disease</th>\n",
       "      <th>ever_married</th>\n",
       "      <th>avg_glucose_level</th>\n",
       "      <th>bmi</th>\n",
       "      <th>smoking_status</th>\n",
       "      <th>Female</th>\n",
       "      <th>Male</th>\n",
       "      <th>Other</th>\n",
       "      <th>Govt_job</th>\n",
       "      <th>Never_worked</th>\n",
       "      <th>Private</th>\n",
       "      <th>Self-employed</th>\n",
       "      <th>children</th>\n",
       "    </tr>\n",
       "  </thead>\n",
       "  <tbody>\n",
       "    <tr>\n",
       "      <th>0</th>\n",
       "      <td>80.0</td>\n",
       "      <td>0</td>\n",
       "      <td>0</td>\n",
       "      <td>1</td>\n",
       "      <td>83.84</td>\n",
       "      <td>21.1</td>\n",
       "      <td>1.0</td>\n",
       "      <td>0</td>\n",
       "      <td>1</td>\n",
       "      <td>0</td>\n",
       "      <td>0</td>\n",
       "      <td>0</td>\n",
       "      <td>1</td>\n",
       "      <td>0</td>\n",
       "      <td>0</td>\n",
       "    </tr>\n",
       "    <tr>\n",
       "      <th>1</th>\n",
       "      <td>74.0</td>\n",
       "      <td>0</td>\n",
       "      <td>1</td>\n",
       "      <td>1</td>\n",
       "      <td>179.50</td>\n",
       "      <td>26.0</td>\n",
       "      <td>1.0</td>\n",
       "      <td>1</td>\n",
       "      <td>0</td>\n",
       "      <td>0</td>\n",
       "      <td>0</td>\n",
       "      <td>0</td>\n",
       "      <td>0</td>\n",
       "      <td>1</td>\n",
       "      <td>0</td>\n",
       "    </tr>\n",
       "    <tr>\n",
       "      <th>2</th>\n",
       "      <td>14.0</td>\n",
       "      <td>0</td>\n",
       "      <td>0</td>\n",
       "      <td>0</td>\n",
       "      <td>95.16</td>\n",
       "      <td>21.2</td>\n",
       "      <td>NaN</td>\n",
       "      <td>1</td>\n",
       "      <td>0</td>\n",
       "      <td>0</td>\n",
       "      <td>0</td>\n",
       "      <td>0</td>\n",
       "      <td>0</td>\n",
       "      <td>0</td>\n",
       "      <td>1</td>\n",
       "    </tr>\n",
       "    <tr>\n",
       "      <th>3</th>\n",
       "      <td>28.0</td>\n",
       "      <td>0</td>\n",
       "      <td>0</td>\n",
       "      <td>0</td>\n",
       "      <td>94.76</td>\n",
       "      <td>23.4</td>\n",
       "      <td>NaN</td>\n",
       "      <td>0</td>\n",
       "      <td>1</td>\n",
       "      <td>0</td>\n",
       "      <td>0</td>\n",
       "      <td>0</td>\n",
       "      <td>1</td>\n",
       "      <td>0</td>\n",
       "      <td>0</td>\n",
       "    </tr>\n",
       "    <tr>\n",
       "      <th>4</th>\n",
       "      <td>63.0</td>\n",
       "      <td>0</td>\n",
       "      <td>0</td>\n",
       "      <td>1</td>\n",
       "      <td>83.57</td>\n",
       "      <td>27.6</td>\n",
       "      <td>0.0</td>\n",
       "      <td>1</td>\n",
       "      <td>0</td>\n",
       "      <td>0</td>\n",
       "      <td>1</td>\n",
       "      <td>0</td>\n",
       "      <td>0</td>\n",
       "      <td>0</td>\n",
       "      <td>0</td>\n",
       "    </tr>\n",
       "  </tbody>\n",
       "</table>\n",
       "</div>"
      ],
      "text/plain": [
       "    age  hypertension  heart_disease  ever_married  avg_glucose_level   bmi  \\\n",
       "0  80.0             0              0             1              83.84  21.1   \n",
       "1  74.0             0              1             1             179.50  26.0   \n",
       "2  14.0             0              0             0              95.16  21.2   \n",
       "3  28.0             0              0             0              94.76  23.4   \n",
       "4  63.0             0              0             1              83.57  27.6   \n",
       "\n",
       "   smoking_status  Female  Male  Other  Govt_job  Never_worked  Private  \\\n",
       "0             1.0       0     1      0         0             0        1   \n",
       "1             1.0       1     0      0         0             0        0   \n",
       "2             NaN       1     0      0         0             0        0   \n",
       "3             NaN       0     1      0         0             0        1   \n",
       "4             0.0       1     0      0         1             0        0   \n",
       "\n",
       "   Self-employed  children  \n",
       "0              0         0  \n",
       "1              1         0  \n",
       "2              0         1  \n",
       "3              0         0  \n",
       "4              0         0  "
      ]
     },
     "execution_count": 476,
     "metadata": {},
     "output_type": "execute_result"
    }
   ],
   "source": [
    "test.head()"
   ]
  },
  {
   "cell_type": "markdown",
   "metadata": {},
   "source": [
    "### Imputation by KNN"
   ]
  },
  {
   "cell_type": "code",
   "execution_count": 477,
   "metadata": {
    "collapsed": false
   },
   "outputs": [],
   "source": [
    "from fancyimpute import KNN"
   ]
  },
  {
   "cell_type": "code",
   "execution_count": 478,
   "metadata": {
    "collapsed": false
   },
   "outputs": [],
   "source": [
    "column_names = list(train)"
   ]
  },
  {
   "cell_type": "code",
   "execution_count": 479,
   "metadata": {
    "collapsed": true
   },
   "outputs": [],
   "source": [
    "column_names_test = list(test)"
   ]
  },
  {
   "cell_type": "code",
   "execution_count": 480,
   "metadata": {
    "collapsed": false
   },
   "outputs": [
    {
     "data": {
      "text/plain": [
       "['age',\n",
       " 'hypertension',\n",
       " 'heart_disease',\n",
       " 'ever_married',\n",
       " 'avg_glucose_level',\n",
       " 'bmi',\n",
       " 'smoking_status',\n",
       " 'Female',\n",
       " 'Male',\n",
       " 'Other',\n",
       " 'Govt_job',\n",
       " 'Never_worked',\n",
       " 'Private',\n",
       " 'Self-employed',\n",
       " 'children',\n",
       " 'stroke']"
      ]
     },
     "execution_count": 480,
     "metadata": {},
     "output_type": "execute_result"
    }
   ],
   "source": [
    "column_names"
   ]
  },
  {
   "cell_type": "code",
   "execution_count": 481,
   "metadata": {
    "collapsed": false
   },
   "outputs": [
    {
     "data": {
      "text/plain": [
       "['age',\n",
       " 'hypertension',\n",
       " 'heart_disease',\n",
       " 'ever_married',\n",
       " 'avg_glucose_level',\n",
       " 'bmi',\n",
       " 'smoking_status',\n",
       " 'Female',\n",
       " 'Male',\n",
       " 'Other',\n",
       " 'Govt_job',\n",
       " 'Never_worked',\n",
       " 'Private',\n",
       " 'Self-employed',\n",
       " 'children']"
      ]
     },
     "execution_count": 481,
     "metadata": {},
     "output_type": "execute_result"
    }
   ],
   "source": [
    "column_names_test"
   ]
  },
  {
   "cell_type": "code",
   "execution_count": 482,
   "metadata": {
    "collapsed": false
   },
   "outputs": [],
   "source": [
    "train = train.as_matrix()"
   ]
  },
  {
   "cell_type": "code",
   "execution_count": 483,
   "metadata": {
    "collapsed": false
   },
   "outputs": [
    {
     "name": "stdout",
     "output_type": "stream",
     "text": [
      "Imputing row 1/43400 with 1 missing, elapsed time: 3116.798\n",
      "Imputing row 101/43400 with 0 missing, elapsed time: 3117.305\n",
      "Imputing row 201/43400 with 1 missing, elapsed time: 3117.603\n",
      "Imputing row 301/43400 with 0 missing, elapsed time: 3118.088\n",
      "Imputing row 401/43400 with 0 missing, elapsed time: 3118.423\n",
      "Imputing row 501/43400 with 0 missing, elapsed time: 3118.730\n",
      "Imputing row 601/43400 with 0 missing, elapsed time: 3118.981\n",
      "Imputing row 701/43400 with 1 missing, elapsed time: 3119.221\n",
      "Imputing row 801/43400 with 0 missing, elapsed time: 3119.549\n",
      "Imputing row 901/43400 with 0 missing, elapsed time: 3119.847\n",
      "Imputing row 1001/43400 with 1 missing, elapsed time: 3120.134\n",
      "Imputing row 1101/43400 with 0 missing, elapsed time: 3120.457\n",
      "Imputing row 1201/43400 with 0 missing, elapsed time: 3120.751\n",
      "Imputing row 1301/43400 with 0 missing, elapsed time: 3120.997\n",
      "Imputing row 1401/43400 with 0 missing, elapsed time: 3121.280\n",
      "Imputing row 1501/43400 with 0 missing, elapsed time: 3121.542\n",
      "Imputing row 1601/43400 with 1 missing, elapsed time: 3121.777\n",
      "Imputing row 1701/43400 with 0 missing, elapsed time: 3122.034\n",
      "Imputing row 1801/43400 with 0 missing, elapsed time: 3122.295\n",
      "Imputing row 1901/43400 with 1 missing, elapsed time: 3122.520\n",
      "Imputing row 2001/43400 with 2 missing, elapsed time: 3122.715\n",
      "Imputing row 2101/43400 with 0 missing, elapsed time: 3122.965\n",
      "Imputing row 2201/43400 with 0 missing, elapsed time: 3123.216\n",
      "Imputing row 2301/43400 with 0 missing, elapsed time: 3123.495\n",
      "Imputing row 2401/43400 with 0 missing, elapsed time: 3123.762\n",
      "Imputing row 2501/43400 with 0 missing, elapsed time: 3124.013\n",
      "Imputing row 2601/43400 with 0 missing, elapsed time: 3124.252\n",
      "Imputing row 2701/43400 with 0 missing, elapsed time: 3124.473\n",
      "Imputing row 2801/43400 with 1 missing, elapsed time: 3124.682\n",
      "Imputing row 2901/43400 with 0 missing, elapsed time: 3124.958\n",
      "Imputing row 3001/43400 with 0 missing, elapsed time: 3125.250\n",
      "Imputing row 3101/43400 with 0 missing, elapsed time: 3125.432\n",
      "Imputing row 3201/43400 with 0 missing, elapsed time: 3125.746\n",
      "Imputing row 3301/43400 with 1 missing, elapsed time: 3125.949\n",
      "Imputing row 3401/43400 with 0 missing, elapsed time: 3126.119\n",
      "Imputing row 3501/43400 with 0 missing, elapsed time: 3126.308\n",
      "Imputing row 3601/43400 with 0 missing, elapsed time: 3126.543\n",
      "Imputing row 3701/43400 with 0 missing, elapsed time: 3126.787\n",
      "Imputing row 3801/43400 with 1 missing, elapsed time: 3127.046\n",
      "Imputing row 3901/43400 with 1 missing, elapsed time: 3127.281\n",
      "Imputing row 4001/43400 with 0 missing, elapsed time: 3127.514\n",
      "Imputing row 4101/43400 with 0 missing, elapsed time: 3127.765\n",
      "Imputing row 4201/43400 with 1 missing, elapsed time: 3127.977\n",
      "Imputing row 4301/43400 with 1 missing, elapsed time: 3128.172\n",
      "Imputing row 4401/43400 with 0 missing, elapsed time: 3128.384\n",
      "Imputing row 4501/43400 with 1 missing, elapsed time: 3128.617\n",
      "Imputing row 4601/43400 with 0 missing, elapsed time: 3128.816\n",
      "Imputing row 4701/43400 with 0 missing, elapsed time: 3129.061\n",
      "Imputing row 4801/43400 with 0 missing, elapsed time: 3129.328\n",
      "Imputing row 4901/43400 with 0 missing, elapsed time: 3129.598\n",
      "Imputing row 5001/43400 with 0 missing, elapsed time: 3129.855\n",
      "Imputing row 5101/43400 with 1 missing, elapsed time: 3130.148\n",
      "Imputing row 5201/43400 with 0 missing, elapsed time: 3130.457\n",
      "Imputing row 5301/43400 with 1 missing, elapsed time: 3130.672\n",
      "Imputing row 5401/43400 with 1 missing, elapsed time: 3131.108\n",
      "Imputing row 5501/43400 with 1 missing, elapsed time: 3131.553\n",
      "Imputing row 5601/43400 with 0 missing, elapsed time: 3131.857\n",
      "Imputing row 5701/43400 with 1 missing, elapsed time: 3132.117\n",
      "Imputing row 5801/43400 with 1 missing, elapsed time: 3132.403\n",
      "Imputing row 5901/43400 with 0 missing, elapsed time: 3132.709\n",
      "Imputing row 6001/43400 with 0 missing, elapsed time: 3132.947\n",
      "Imputing row 6101/43400 with 0 missing, elapsed time: 3133.226\n",
      "Imputing row 6201/43400 with 2 missing, elapsed time: 3133.532\n",
      "Imputing row 6301/43400 with 1 missing, elapsed time: 3133.783\n",
      "Imputing row 6401/43400 with 0 missing, elapsed time: 3134.032\n",
      "Imputing row 6501/43400 with 1 missing, elapsed time: 3134.224\n",
      "Imputing row 6601/43400 with 1 missing, elapsed time: 3134.440\n",
      "Imputing row 6701/43400 with 0 missing, elapsed time: 3134.663\n",
      "Imputing row 6801/43400 with 0 missing, elapsed time: 3134.963\n",
      "Imputing row 6901/43400 with 0 missing, elapsed time: 3135.295\n",
      "Imputing row 7001/43400 with 0 missing, elapsed time: 3135.592\n",
      "Imputing row 7101/43400 with 1 missing, elapsed time: 3135.887\n",
      "Imputing row 7201/43400 with 0 missing, elapsed time: 3136.174\n",
      "Imputing row 7301/43400 with 0 missing, elapsed time: 3136.394\n",
      "Imputing row 7401/43400 with 0 missing, elapsed time: 3136.652\n",
      "Imputing row 7501/43400 with 1 missing, elapsed time: 3136.938\n",
      "Imputing row 7601/43400 with 0 missing, elapsed time: 3137.119\n",
      "Imputing row 7701/43400 with 1 missing, elapsed time: 3137.402\n",
      "Imputing row 7801/43400 with 0 missing, elapsed time: 3137.634\n",
      "Imputing row 7901/43400 with 0 missing, elapsed time: 3137.871\n",
      "Imputing row 8001/43400 with 0 missing, elapsed time: 3138.098\n",
      "Imputing row 8101/43400 with 0 missing, elapsed time: 3138.297\n",
      "Imputing row 8201/43400 with 0 missing, elapsed time: 3138.502\n",
      "Imputing row 8301/43400 with 0 missing, elapsed time: 3138.752\n",
      "Imputing row 8401/43400 with 0 missing, elapsed time: 3138.977\n",
      "Imputing row 8501/43400 with 1 missing, elapsed time: 3139.232\n",
      "Imputing row 8601/43400 with 0 missing, elapsed time: 3139.527\n",
      "Imputing row 8701/43400 with 0 missing, elapsed time: 3139.768\n",
      "Imputing row 8801/43400 with 1 missing, elapsed time: 3140.076\n",
      "Imputing row 8901/43400 with 0 missing, elapsed time: 3140.327\n",
      "Imputing row 9001/43400 with 0 missing, elapsed time: 3140.547\n",
      "Imputing row 9101/43400 with 0 missing, elapsed time: 3140.779\n",
      "Imputing row 9201/43400 with 0 missing, elapsed time: 3141.064\n",
      "Imputing row 9301/43400 with 0 missing, elapsed time: 3141.275\n",
      "Imputing row 9401/43400 with 1 missing, elapsed time: 3141.571\n",
      "Imputing row 9501/43400 with 0 missing, elapsed time: 3141.855\n",
      "Imputing row 9601/43400 with 0 missing, elapsed time: 3142.072\n",
      "Imputing row 9701/43400 with 2 missing, elapsed time: 3142.298\n",
      "Imputing row 9801/43400 with 0 missing, elapsed time: 3142.547\n",
      "Imputing row 9901/43400 with 1 missing, elapsed time: 3142.802\n",
      "Imputing row 10001/43400 with 0 missing, elapsed time: 3143.123\n",
      "Imputing row 10101/43400 with 0 missing, elapsed time: 3143.347\n",
      "Imputing row 10201/43400 with 0 missing, elapsed time: 3143.650\n",
      "Imputing row 10301/43400 with 1 missing, elapsed time: 3143.912\n",
      "Imputing row 10401/43400 with 1 missing, elapsed time: 3144.218\n",
      "Imputing row 10501/43400 with 0 missing, elapsed time: 3144.457\n",
      "Imputing row 10601/43400 with 0 missing, elapsed time: 3144.693\n",
      "Imputing row 10701/43400 with 0 missing, elapsed time: 3144.879\n",
      "Imputing row 10801/43400 with 0 missing, elapsed time: 3145.166\n",
      "Imputing row 10901/43400 with 0 missing, elapsed time: 3145.381\n",
      "Imputing row 11001/43400 with 1 missing, elapsed time: 3145.616\n",
      "Imputing row 11101/43400 with 0 missing, elapsed time: 3145.864\n",
      "Imputing row 11201/43400 with 1 missing, elapsed time: 3146.090\n",
      "Imputing row 11301/43400 with 0 missing, elapsed time: 3146.303\n",
      "Imputing row 11401/43400 with 0 missing, elapsed time: 3146.526\n",
      "Imputing row 11501/43400 with 1 missing, elapsed time: 3146.740\n",
      "Imputing row 11601/43400 with 0 missing, elapsed time: 3146.951\n",
      "Imputing row 11701/43400 with 0 missing, elapsed time: 3147.185\n",
      "Imputing row 11801/43400 with 1 missing, elapsed time: 3147.408\n",
      "Imputing row 11901/43400 with 2 missing, elapsed time: 3147.589\n",
      "Imputing row 12001/43400 with 0 missing, elapsed time: 3147.870\n",
      "Imputing row 12101/43400 with 0 missing, elapsed time: 3148.118\n",
      "Imputing row 12201/43400 with 0 missing, elapsed time: 3148.314\n",
      "Imputing row 12301/43400 with 0 missing, elapsed time: 3148.546\n",
      "Imputing row 12401/43400 with 1 missing, elapsed time: 3148.767\n",
      "Imputing row 12501/43400 with 0 missing, elapsed time: 3148.939\n",
      "Imputing row 12601/43400 with 1 missing, elapsed time: 3149.175\n",
      "Imputing row 12701/43400 with 0 missing, elapsed time: 3149.398\n",
      "Imputing row 12801/43400 with 1 missing, elapsed time: 3149.622\n",
      "Imputing row 12901/43400 with 1 missing, elapsed time: 3149.852\n",
      "Imputing row 13001/43400 with 0 missing, elapsed time: 3150.110\n",
      "Imputing row 13101/43400 with 0 missing, elapsed time: 3150.368\n",
      "Imputing row 13201/43400 with 1 missing, elapsed time: 3150.677\n",
      "Imputing row 13301/43400 with 1 missing, elapsed time: 3150.930\n",
      "Imputing row 13401/43400 with 0 missing, elapsed time: 3151.213\n",
      "Imputing row 13501/43400 with 0 missing, elapsed time: 3151.571\n",
      "Imputing row 13601/43400 with 0 missing, elapsed time: 3151.779\n",
      "Imputing row 13701/43400 with 0 missing, elapsed time: 3151.986\n",
      "Imputing row 13801/43400 with 1 missing, elapsed time: 3152.250\n",
      "Imputing row 13901/43400 with 0 missing, elapsed time: 3152.493\n",
      "Imputing row 14001/43400 with 0 missing, elapsed time: 3153.042\n",
      "Imputing row 14101/43400 with 0 missing, elapsed time: 3153.397\n",
      "Imputing row 14201/43400 with 0 missing, elapsed time: 3153.795\n",
      "Imputing row 14301/43400 with 0 missing, elapsed time: 3154.111\n",
      "Imputing row 14401/43400 with 0 missing, elapsed time: 3154.375\n",
      "Imputing row 14501/43400 with 0 missing, elapsed time: 3154.623\n",
      "Imputing row 14601/43400 with 1 missing, elapsed time: 3154.855\n",
      "Imputing row 14701/43400 with 0 missing, elapsed time: 3155.187\n",
      "Imputing row 14801/43400 with 0 missing, elapsed time: 3155.554\n",
      "Imputing row 14901/43400 with 1 missing, elapsed time: 3155.826\n",
      "Imputing row 15001/43400 with 0 missing, elapsed time: 3156.102\n",
      "Imputing row 15101/43400 with 0 missing, elapsed time: 3156.339\n",
      "Imputing row 15201/43400 with 0 missing, elapsed time: 3156.579\n",
      "Imputing row 15301/43400 with 0 missing, elapsed time: 3156.777\n",
      "Imputing row 15401/43400 with 0 missing, elapsed time: 3157.045\n",
      "Imputing row 15501/43400 with 0 missing, elapsed time: 3157.318\n",
      "Imputing row 15601/43400 with 0 missing, elapsed time: 3157.570\n",
      "Imputing row 15701/43400 with 0 missing, elapsed time: 3157.841\n",
      "Imputing row 15801/43400 with 0 missing, elapsed time: 3158.049\n",
      "Imputing row 15901/43400 with 1 missing, elapsed time: 3158.326\n",
      "Imputing row 16001/43400 with 1 missing, elapsed time: 3158.588\n",
      "Imputing row 16101/43400 with 0 missing, elapsed time: 3158.835\n",
      "Imputing row 16201/43400 with 1 missing, elapsed time: 3159.062\n",
      "Imputing row 16301/43400 with 0 missing, elapsed time: 3159.318\n",
      "Imputing row 16401/43400 with 0 missing, elapsed time: 3159.497\n",
      "Imputing row 16501/43400 with 0 missing, elapsed time: 3159.743\n",
      "Imputing row 16601/43400 with 0 missing, elapsed time: 3159.993\n",
      "Imputing row 16701/43400 with 1 missing, elapsed time: 3160.202\n",
      "Imputing row 16801/43400 with 1 missing, elapsed time: 3160.448\n",
      "Imputing row 16901/43400 with 1 missing, elapsed time: 3160.676\n",
      "Imputing row 17001/43400 with 0 missing, elapsed time: 3160.838\n",
      "Imputing row 17101/43400 with 0 missing, elapsed time: 3161.083\n",
      "Imputing row 17201/43400 with 0 missing, elapsed time: 3161.317\n",
      "Imputing row 17301/43400 with 0 missing, elapsed time: 3161.579\n",
      "Imputing row 17401/43400 with 1 missing, elapsed time: 3161.811\n",
      "Imputing row 17501/43400 with 0 missing, elapsed time: 3162.024\n",
      "Imputing row 17601/43400 with 0 missing, elapsed time: 3162.288\n",
      "Imputing row 17701/43400 with 1 missing, elapsed time: 3162.533\n",
      "Imputing row 17801/43400 with 1 missing, elapsed time: 3162.759\n",
      "Imputing row 17901/43400 with 0 missing, elapsed time: 3163.011\n",
      "Imputing row 18001/43400 with 0 missing, elapsed time: 3163.256\n",
      "Imputing row 18101/43400 with 0 missing, elapsed time: 3163.462\n",
      "Imputing row 18201/43400 with 0 missing, elapsed time: 3163.770\n",
      "Imputing row 18301/43400 with 1 missing, elapsed time: 3164.088\n",
      "Imputing row 18401/43400 with 1 missing, elapsed time: 3164.388\n",
      "Imputing row 18501/43400 with 0 missing, elapsed time: 3164.695\n",
      "Imputing row 18601/43400 with 1 missing, elapsed time: 3164.940\n",
      "Imputing row 18701/43400 with 0 missing, elapsed time: 3165.205\n",
      "Imputing row 18801/43400 with 0 missing, elapsed time: 3165.522\n",
      "Imputing row 18901/43400 with 1 missing, elapsed time: 3165.799\n",
      "Imputing row 19001/43400 with 0 missing, elapsed time: 3166.118\n",
      "Imputing row 19101/43400 with 1 missing, elapsed time: 3166.355\n",
      "Imputing row 19201/43400 with 0 missing, elapsed time: 3166.601\n",
      "Imputing row 19301/43400 with 1 missing, elapsed time: 3166.782\n",
      "Imputing row 19401/43400 with 1 missing, elapsed time: 3167.042\n",
      "Imputing row 19501/43400 with 2 missing, elapsed time: 3167.293\n",
      "Imputing row 19601/43400 with 1 missing, elapsed time: 3167.593\n",
      "Imputing row 19701/43400 with 1 missing, elapsed time: 3167.875\n",
      "Imputing row 19801/43400 with 0 missing, elapsed time: 3168.114\n",
      "Imputing row 19901/43400 with 0 missing, elapsed time: 3168.360\n",
      "Imputing row 20001/43400 with 0 missing, elapsed time: 3168.614\n",
      "Imputing row 20101/43400 with 1 missing, elapsed time: 3168.884\n",
      "Imputing row 20201/43400 with 0 missing, elapsed time: 3169.128\n",
      "Imputing row 20301/43400 with 1 missing, elapsed time: 3169.361\n",
      "Imputing row 20401/43400 with 0 missing, elapsed time: 3169.609\n",
      "Imputing row 20501/43400 with 0 missing, elapsed time: 3169.805\n",
      "Imputing row 20601/43400 with 0 missing, elapsed time: 3170.010\n",
      "Imputing row 20701/43400 with 0 missing, elapsed time: 3170.307\n",
      "Imputing row 20801/43400 with 1 missing, elapsed time: 3170.631\n",
      "Imputing row 20901/43400 with 0 missing, elapsed time: 3170.925\n",
      "Imputing row 21001/43400 with 1 missing, elapsed time: 3171.155\n",
      "Imputing row 21101/43400 with 0 missing, elapsed time: 3171.577\n",
      "Imputing row 21201/43400 with 1 missing, elapsed time: 3171.829\n",
      "Imputing row 21301/43400 with 2 missing, elapsed time: 3172.165\n",
      "Imputing row 21401/43400 with 0 missing, elapsed time: 3172.420\n",
      "Imputing row 21501/43400 with 0 missing, elapsed time: 3172.657\n",
      "Imputing row 21601/43400 with 0 missing, elapsed time: 3172.908\n",
      "Imputing row 21701/43400 with 0 missing, elapsed time: 3173.127\n",
      "Imputing row 21801/43400 with 1 missing, elapsed time: 3173.378\n",
      "Imputing row 21901/43400 with 0 missing, elapsed time: 3173.607\n",
      "Imputing row 22001/43400 with 0 missing, elapsed time: 3173.885\n",
      "Imputing row 22101/43400 with 0 missing, elapsed time: 3174.094\n",
      "Imputing row 22201/43400 with 0 missing, elapsed time: 3174.395\n",
      "Imputing row 22301/43400 with 0 missing, elapsed time: 3174.738\n",
      "Imputing row 22401/43400 with 0 missing, elapsed time: 3174.971\n",
      "Imputing row 22501/43400 with 0 missing, elapsed time: 3175.220\n",
      "Imputing row 22601/43400 with 0 missing, elapsed time: 3175.510\n",
      "Imputing row 22701/43400 with 0 missing, elapsed time: 3175.825\n",
      "Imputing row 22801/43400 with 0 missing, elapsed time: 3176.064\n",
      "Imputing row 22901/43400 with 0 missing, elapsed time: 3176.328\n",
      "Imputing row 23001/43400 with 0 missing, elapsed time: 3176.633\n",
      "Imputing row 23101/43400 with 0 missing, elapsed time: 3176.882\n",
      "Imputing row 23201/43400 with 1 missing, elapsed time: 3177.109\n",
      "Imputing row 23301/43400 with 1 missing, elapsed time: 3177.365\n",
      "Imputing row 23401/43400 with 1 missing, elapsed time: 3177.683\n",
      "Imputing row 23501/43400 with 0 missing, elapsed time: 3177.946\n",
      "Imputing row 23601/43400 with 1 missing, elapsed time: 3178.201\n",
      "Imputing row 23701/43400 with 1 missing, elapsed time: 3178.482\n",
      "Imputing row 23801/43400 with 1 missing, elapsed time: 3178.718\n",
      "Imputing row 23901/43400 with 0 missing, elapsed time: 3179.010\n",
      "Imputing row 24001/43400 with 1 missing, elapsed time: 3179.223\n",
      "Imputing row 24101/43400 with 1 missing, elapsed time: 3179.515\n",
      "Imputing row 24201/43400 with 1 missing, elapsed time: 3179.849\n",
      "Imputing row 24301/43400 with 1 missing, elapsed time: 3180.091\n",
      "Imputing row 24401/43400 with 0 missing, elapsed time: 3180.335\n",
      "Imputing row 24501/43400 with 0 missing, elapsed time: 3180.579\n",
      "Imputing row 24601/43400 with 1 missing, elapsed time: 3180.878\n",
      "Imputing row 24701/43400 with 0 missing, elapsed time: 3181.109\n",
      "Imputing row 24801/43400 with 0 missing, elapsed time: 3181.341\n",
      "Imputing row 24901/43400 with 1 missing, elapsed time: 3181.636\n",
      "Imputing row 25001/43400 with 0 missing, elapsed time: 3181.918\n",
      "Imputing row 25101/43400 with 1 missing, elapsed time: 3182.185\n",
      "Imputing row 25201/43400 with 1 missing, elapsed time: 3182.444\n",
      "Imputing row 25301/43400 with 0 missing, elapsed time: 3182.778\n",
      "Imputing row 25401/43400 with 0 missing, elapsed time: 3183.116\n",
      "Imputing row 25501/43400 with 0 missing, elapsed time: 3183.471\n",
      "Imputing row 25601/43400 with 1 missing, elapsed time: 3183.747\n",
      "Imputing row 25701/43400 with 0 missing, elapsed time: 3184.110\n",
      "Imputing row 25801/43400 with 0 missing, elapsed time: 3184.364\n",
      "Imputing row 25901/43400 with 0 missing, elapsed time: 3184.593\n",
      "Imputing row 26001/43400 with 0 missing, elapsed time: 3184.921\n",
      "Imputing row 26101/43400 with 0 missing, elapsed time: 3185.138\n",
      "Imputing row 26201/43400 with 1 missing, elapsed time: 3185.419\n",
      "Imputing row 26301/43400 with 1 missing, elapsed time: 3185.672\n",
      "Imputing row 26401/43400 with 0 missing, elapsed time: 3185.930\n",
      "Imputing row 26501/43400 with 0 missing, elapsed time: 3186.141\n",
      "Imputing row 26601/43400 with 0 missing, elapsed time: 3186.376\n",
      "Imputing row 26701/43400 with 0 missing, elapsed time: 3186.627\n",
      "Imputing row 26801/43400 with 0 missing, elapsed time: 3187.013\n",
      "Imputing row 26901/43400 with 0 missing, elapsed time: 3187.311\n",
      "Imputing row 27001/43400 with 0 missing, elapsed time: 3187.706\n",
      "Imputing row 27101/43400 with 1 missing, elapsed time: 3187.984\n",
      "Imputing row 27201/43400 with 0 missing, elapsed time: 3188.287\n",
      "Imputing row 27301/43400 with 1 missing, elapsed time: 3188.562\n",
      "Imputing row 27401/43400 with 0 missing, elapsed time: 3188.802\n",
      "Imputing row 27501/43400 with 0 missing, elapsed time: 3188.990\n",
      "Imputing row 27601/43400 with 1 missing, elapsed time: 3189.214\n",
      "Imputing row 27701/43400 with 0 missing, elapsed time: 3189.456\n",
      "Imputing row 27801/43400 with 0 missing, elapsed time: 3189.703\n",
      "Imputing row 27901/43400 with 0 missing, elapsed time: 3189.942\n",
      "Imputing row 28001/43400 with 0 missing, elapsed time: 3190.125\n",
      "Imputing row 28101/43400 with 1 missing, elapsed time: 3190.302\n",
      "Imputing row 28201/43400 with 0 missing, elapsed time: 3190.502\n",
      "Imputing row 28301/43400 with 1 missing, elapsed time: 3190.707\n",
      "Imputing row 28401/43400 with 0 missing, elapsed time: 3190.917\n",
      "Imputing row 28501/43400 with 0 missing, elapsed time: 3191.095\n",
      "Imputing row 28601/43400 with 0 missing, elapsed time: 3191.305\n",
      "Imputing row 28701/43400 with 0 missing, elapsed time: 3191.538\n",
      "Imputing row 28801/43400 with 1 missing, elapsed time: 3191.806\n",
      "Imputing row 28901/43400 with 1 missing, elapsed time: 3192.147\n",
      "Imputing row 29001/43400 with 1 missing, elapsed time: 3192.444\n",
      "Imputing row 29101/43400 with 0 missing, elapsed time: 3192.724\n",
      "Imputing row 29201/43400 with 0 missing, elapsed time: 3193.018\n",
      "Imputing row 29301/43400 with 0 missing, elapsed time: 3193.328\n",
      "Imputing row 29401/43400 with 0 missing, elapsed time: 3193.606\n",
      "Imputing row 29501/43400 with 1 missing, elapsed time: 3193.855\n",
      "Imputing row 29601/43400 with 1 missing, elapsed time: 3194.124\n",
      "Imputing row 29701/43400 with 1 missing, elapsed time: 3194.449\n",
      "Imputing row 29801/43400 with 0 missing, elapsed time: 3194.745\n",
      "Imputing row 29901/43400 with 0 missing, elapsed time: 3194.934\n",
      "Imputing row 30001/43400 with 0 missing, elapsed time: 3195.231\n",
      "Imputing row 30101/43400 with 0 missing, elapsed time: 3195.454\n",
      "Imputing row 30201/43400 with 0 missing, elapsed time: 3195.634\n",
      "Imputing row 30301/43400 with 1 missing, elapsed time: 3195.975\n",
      "Imputing row 30401/43400 with 1 missing, elapsed time: 3196.259\n",
      "Imputing row 30501/43400 with 0 missing, elapsed time: 3196.548\n",
      "Imputing row 30601/43400 with 1 missing, elapsed time: 3196.833\n",
      "Imputing row 30701/43400 with 0 missing, elapsed time: 3197.100\n",
      "Imputing row 30801/43400 with 1 missing, elapsed time: 3197.403\n",
      "Imputing row 30901/43400 with 0 missing, elapsed time: 3197.631\n",
      "Imputing row 31001/43400 with 0 missing, elapsed time: 3197.910\n",
      "Imputing row 31101/43400 with 1 missing, elapsed time: 3198.195\n",
      "Imputing row 31201/43400 with 0 missing, elapsed time: 3198.431\n",
      "Imputing row 31301/43400 with 0 missing, elapsed time: 3198.747\n",
      "Imputing row 31401/43400 with 0 missing, elapsed time: 3198.978\n",
      "Imputing row 31501/43400 with 0 missing, elapsed time: 3199.217\n",
      "Imputing row 31601/43400 with 0 missing, elapsed time: 3199.492\n",
      "Imputing row 31701/43400 with 0 missing, elapsed time: 3199.800\n",
      "Imputing row 31801/43400 with 1 missing, elapsed time: 3199.978\n",
      "Imputing row 31901/43400 with 0 missing, elapsed time: 3200.176\n",
      "Imputing row 32001/43400 with 0 missing, elapsed time: 3200.375\n",
      "Imputing row 32101/43400 with 1 missing, elapsed time: 3200.567\n",
      "Imputing row 32201/43400 with 0 missing, elapsed time: 3200.850\n",
      "Imputing row 32301/43400 with 0 missing, elapsed time: 3201.159\n",
      "Imputing row 32401/43400 with 1 missing, elapsed time: 3201.424\n",
      "Imputing row 32501/43400 with 0 missing, elapsed time: 3201.649\n",
      "Imputing row 32601/43400 with 0 missing, elapsed time: 3201.927\n",
      "Imputing row 32701/43400 with 1 missing, elapsed time: 3202.296\n",
      "Imputing row 32801/43400 with 0 missing, elapsed time: 3202.610\n",
      "Imputing row 32901/43400 with 1 missing, elapsed time: 3202.880\n",
      "Imputing row 33001/43400 with 1 missing, elapsed time: 3203.202\n",
      "Imputing row 33101/43400 with 0 missing, elapsed time: 3203.467\n",
      "Imputing row 33201/43400 with 0 missing, elapsed time: 3203.908\n",
      "Imputing row 33301/43400 with 0 missing, elapsed time: 3204.342\n",
      "Imputing row 33401/43400 with 0 missing, elapsed time: 3204.698\n",
      "Imputing row 33501/43400 with 0 missing, elapsed time: 3204.997\n",
      "Imputing row 33601/43400 with 1 missing, elapsed time: 3205.448\n",
      "Imputing row 33701/43400 with 0 missing, elapsed time: 3205.898\n",
      "Imputing row 33801/43400 with 1 missing, elapsed time: 3206.265\n",
      "Imputing row 33901/43400 with 1 missing, elapsed time: 3206.602\n",
      "Imputing row 34001/43400 with 0 missing, elapsed time: 3207.136\n",
      "Imputing row 34101/43400 with 1 missing, elapsed time: 3207.598\n",
      "Imputing row 34201/43400 with 0 missing, elapsed time: 3207.920\n",
      "Imputing row 34301/43400 with 0 missing, elapsed time: 3208.380\n",
      "Imputing row 34401/43400 with 1 missing, elapsed time: 3208.651\n",
      "Imputing row 34501/43400 with 0 missing, elapsed time: 3208.892\n",
      "Imputing row 34601/43400 with 1 missing, elapsed time: 3209.275\n",
      "Imputing row 34701/43400 with 1 missing, elapsed time: 3209.534\n",
      "Imputing row 34801/43400 with 1 missing, elapsed time: 3209.948\n",
      "Imputing row 34901/43400 with 0 missing, elapsed time: 3210.832\n",
      "Imputing row 35001/43400 with 1 missing, elapsed time: 3211.270\n",
      "Imputing row 35101/43400 with 0 missing, elapsed time: 3212.018\n",
      "Imputing row 35201/43400 with 1 missing, elapsed time: 3212.404\n",
      "Imputing row 35301/43400 with 2 missing, elapsed time: 3212.707\n",
      "Imputing row 35401/43400 with 1 missing, elapsed time: 3213.175\n",
      "Imputing row 35501/43400 with 0 missing, elapsed time: 3213.474\n",
      "Imputing row 35601/43400 with 0 missing, elapsed time: 3213.757\n",
      "Imputing row 35701/43400 with 1 missing, elapsed time: 3214.007\n",
      "Imputing row 35801/43400 with 0 missing, elapsed time: 3214.324\n",
      "Imputing row 35901/43400 with 0 missing, elapsed time: 3214.619\n",
      "Imputing row 36001/43400 with 0 missing, elapsed time: 3214.937\n",
      "Imputing row 36101/43400 with 0 missing, elapsed time: 3215.395\n",
      "Imputing row 36201/43400 with 1 missing, elapsed time: 3215.861\n",
      "Imputing row 36301/43400 with 1 missing, elapsed time: 3216.155\n",
      "Imputing row 36401/43400 with 0 missing, elapsed time: 3216.412\n",
      "Imputing row 36501/43400 with 1 missing, elapsed time: 3216.661\n",
      "Imputing row 36601/43400 with 0 missing, elapsed time: 3216.937\n",
      "Imputing row 36701/43400 with 0 missing, elapsed time: 3217.218\n",
      "Imputing row 36801/43400 with 0 missing, elapsed time: 3217.505\n",
      "Imputing row 36901/43400 with 0 missing, elapsed time: 3217.759\n",
      "Imputing row 37001/43400 with 1 missing, elapsed time: 3218.021\n",
      "Imputing row 37101/43400 with 0 missing, elapsed time: 3218.313\n",
      "Imputing row 37201/43400 with 1 missing, elapsed time: 3218.622\n",
      "Imputing row 37301/43400 with 0 missing, elapsed time: 3218.829\n",
      "Imputing row 37401/43400 with 1 missing, elapsed time: 3219.151\n",
      "Imputing row 37501/43400 with 0 missing, elapsed time: 3219.472\n",
      "Imputing row 37601/43400 with 0 missing, elapsed time: 3219.759\n",
      "Imputing row 37701/43400 with 1 missing, elapsed time: 3220.066\n",
      "Imputing row 37801/43400 with 0 missing, elapsed time: 3220.304\n",
      "Imputing row 37901/43400 with 0 missing, elapsed time: 3220.560\n",
      "Imputing row 38001/43400 with 0 missing, elapsed time: 3220.822\n",
      "Imputing row 38101/43400 with 0 missing, elapsed time: 3221.067\n",
      "Imputing row 38201/43400 with 0 missing, elapsed time: 3221.270\n",
      "Imputing row 38301/43400 with 0 missing, elapsed time: 3221.632\n",
      "Imputing row 38401/43400 with 0 missing, elapsed time: 3222.018\n",
      "Imputing row 38501/43400 with 0 missing, elapsed time: 3222.307\n",
      "Imputing row 38601/43400 with 1 missing, elapsed time: 3222.671\n",
      "Imputing row 38701/43400 with 0 missing, elapsed time: 3222.962\n",
      "Imputing row 38801/43400 with 1 missing, elapsed time: 3223.218\n",
      "Imputing row 38901/43400 with 0 missing, elapsed time: 3223.579\n",
      "Imputing row 39001/43400 with 0 missing, elapsed time: 3223.822\n",
      "Imputing row 39101/43400 with 0 missing, elapsed time: 3224.105\n",
      "Imputing row 39201/43400 with 0 missing, elapsed time: 3224.387\n",
      "Imputing row 39301/43400 with 1 missing, elapsed time: 3224.659\n",
      "Imputing row 39401/43400 with 1 missing, elapsed time: 3224.916\n",
      "Imputing row 39501/43400 with 2 missing, elapsed time: 3225.167\n",
      "Imputing row 39601/43400 with 1 missing, elapsed time: 3225.449\n",
      "Imputing row 39701/43400 with 0 missing, elapsed time: 3225.671\n",
      "Imputing row 39801/43400 with 0 missing, elapsed time: 3225.905\n",
      "Imputing row 39901/43400 with 0 missing, elapsed time: 3226.158\n",
      "Imputing row 40001/43400 with 1 missing, elapsed time: 3226.400\n",
      "Imputing row 40101/43400 with 0 missing, elapsed time: 3226.659\n",
      "Imputing row 40201/43400 with 0 missing, elapsed time: 3226.924\n",
      "Imputing row 40301/43400 with 1 missing, elapsed time: 3227.176\n",
      "Imputing row 40401/43400 with 0 missing, elapsed time: 3227.432\n",
      "Imputing row 40501/43400 with 1 missing, elapsed time: 3227.650\n",
      "Imputing row 40601/43400 with 0 missing, elapsed time: 3227.964\n",
      "Imputing row 40701/43400 with 0 missing, elapsed time: 3228.276\n",
      "Imputing row 40801/43400 with 0 missing, elapsed time: 3228.587\n",
      "Imputing row 40901/43400 with 0 missing, elapsed time: 3228.838\n",
      "Imputing row 41001/43400 with 0 missing, elapsed time: 3229.081\n",
      "Imputing row 41101/43400 with 1 missing, elapsed time: 3229.329\n",
      "Imputing row 41201/43400 with 0 missing, elapsed time: 3229.627\n",
      "Imputing row 41301/43400 with 0 missing, elapsed time: 3229.989\n",
      "Imputing row 41401/43400 with 2 missing, elapsed time: 3230.316\n",
      "Imputing row 41501/43400 with 1 missing, elapsed time: 3230.605\n",
      "Imputing row 41601/43400 with 0 missing, elapsed time: 3230.881\n",
      "Imputing row 41701/43400 with 0 missing, elapsed time: 3231.127\n",
      "Imputing row 41801/43400 with 0 missing, elapsed time: 3231.385\n",
      "Imputing row 41901/43400 with 0 missing, elapsed time: 3231.643\n",
      "Imputing row 42001/43400 with 0 missing, elapsed time: 3231.861\n",
      "Imputing row 42101/43400 with 0 missing, elapsed time: 3232.147\n",
      "Imputing row 42201/43400 with 0 missing, elapsed time: 3232.319\n",
      "Imputing row 42301/43400 with 0 missing, elapsed time: 3232.606\n",
      "Imputing row 42401/43400 with 0 missing, elapsed time: 3233.111\n",
      "Imputing row 42501/43400 with 0 missing, elapsed time: 3233.474\n",
      "Imputing row 42601/43400 with 0 missing, elapsed time: 3233.937\n",
      "Imputing row 42701/43400 with 0 missing, elapsed time: 3234.328\n",
      "Imputing row 42801/43400 with 0 missing, elapsed time: 3234.615\n",
      "Imputing row 42901/43400 with 0 missing, elapsed time: 3234.955\n",
      "Imputing row 43001/43400 with 0 missing, elapsed time: 3235.202\n",
      "Imputing row 43101/43400 with 1 missing, elapsed time: 3235.429\n",
      "Imputing row 43201/43400 with 1 missing, elapsed time: 3235.649\n",
      "Imputing row 43301/43400 with 0 missing, elapsed time: 3235.913\n"
     ]
    }
   ],
   "source": [
    "train = pd.DataFrame(KNN(3).fit_transform(train))"
   ]
  },
  {
   "cell_type": "code",
   "execution_count": 484,
   "metadata": {
    "collapsed": false
   },
   "outputs": [],
   "source": [
    "train.columns = column_names"
   ]
  },
  {
   "cell_type": "code",
   "execution_count": 485,
   "metadata": {
    "collapsed": true
   },
   "outputs": [],
   "source": [
    "test = test.as_matrix()"
   ]
  },
  {
   "cell_type": "code",
   "execution_count": 486,
   "metadata": {
    "collapsed": false
   },
   "outputs": [
    {
     "name": "stdout",
     "output_type": "stream",
     "text": [
      "Imputing row 1/18601 with 0 missing, elapsed time: 98.149\n",
      "Imputing row 101/18601 with 0 missing, elapsed time: 98.169\n",
      "Imputing row 201/18601 with 0 missing, elapsed time: 98.176\n",
      "Imputing row 301/18601 with 1 missing, elapsed time: 98.182\n",
      "Imputing row 401/18601 with 1 missing, elapsed time: 98.188\n",
      "Imputing row 501/18601 with 1 missing, elapsed time: 98.196\n",
      "Imputing row 601/18601 with 1 missing, elapsed time: 98.206\n",
      "Imputing row 701/18601 with 0 missing, elapsed time: 98.213\n",
      "Imputing row 801/18601 with 1 missing, elapsed time: 98.227\n",
      "Imputing row 901/18601 with 0 missing, elapsed time: 98.234\n",
      "Imputing row 1001/18601 with 1 missing, elapsed time: 98.248\n",
      "Imputing row 1101/18601 with 2 missing, elapsed time: 98.254\n",
      "Imputing row 1201/18601 with 0 missing, elapsed time: 98.263\n",
      "Imputing row 1301/18601 with 1 missing, elapsed time: 98.271\n",
      "Imputing row 1401/18601 with 1 missing, elapsed time: 98.277\n",
      "Imputing row 1501/18601 with 1 missing, elapsed time: 98.283\n",
      "Imputing row 1601/18601 with 1 missing, elapsed time: 98.290\n",
      "Imputing row 1701/18601 with 0 missing, elapsed time: 98.296\n",
      "Imputing row 1801/18601 with 0 missing, elapsed time: 98.302\n",
      "Imputing row 1901/18601 with 1 missing, elapsed time: 98.316\n",
      "Imputing row 2001/18601 with 0 missing, elapsed time: 98.324\n",
      "Imputing row 2101/18601 with 0 missing, elapsed time: 98.330\n",
      "Imputing row 2201/18601 with 1 missing, elapsed time: 98.337\n",
      "Imputing row 2301/18601 with 0 missing, elapsed time: 98.346\n",
      "Imputing row 2401/18601 with 0 missing, elapsed time: 98.354\n",
      "Imputing row 2501/18601 with 0 missing, elapsed time: 98.360\n",
      "Imputing row 2601/18601 with 0 missing, elapsed time: 98.369\n",
      "Imputing row 2701/18601 with 0 missing, elapsed time: 98.379\n",
      "Imputing row 2801/18601 with 1 missing, elapsed time: 98.392\n",
      "Imputing row 2901/18601 with 0 missing, elapsed time: 98.402\n",
      "Imputing row 3001/18601 with 1 missing, elapsed time: 98.414\n",
      "Imputing row 3101/18601 with 1 missing, elapsed time: 98.422\n",
      "Imputing row 3201/18601 with 0 missing, elapsed time: 98.430\n",
      "Imputing row 3301/18601 with 1 missing, elapsed time: 98.437\n",
      "Imputing row 3401/18601 with 0 missing, elapsed time: 98.443\n",
      "Imputing row 3501/18601 with 1 missing, elapsed time: 98.450\n",
      "Imputing row 3601/18601 with 1 missing, elapsed time: 98.458\n",
      "Imputing row 3701/18601 with 0 missing, elapsed time: 98.465\n",
      "Imputing row 3801/18601 with 1 missing, elapsed time: 98.474\n",
      "Imputing row 3901/18601 with 0 missing, elapsed time: 98.481\n",
      "Imputing row 4001/18601 with 0 missing, elapsed time: 98.489\n",
      "Imputing row 4101/18601 with 0 missing, elapsed time: 98.495\n",
      "Imputing row 4201/18601 with 1 missing, elapsed time: 98.502\n",
      "Imputing row 4301/18601 with 0 missing, elapsed time: 98.508\n",
      "Imputing row 4401/18601 with 1 missing, elapsed time: 98.513\n",
      "Imputing row 4501/18601 with 0 missing, elapsed time: 98.520\n",
      "Imputing row 4601/18601 with 0 missing, elapsed time: 98.532\n",
      "Imputing row 4701/18601 with 0 missing, elapsed time: 98.541\n",
      "Imputing row 4801/18601 with 0 missing, elapsed time: 98.552\n",
      "Imputing row 4901/18601 with 0 missing, elapsed time: 98.564\n",
      "Imputing row 5001/18601 with 0 missing, elapsed time: 98.573\n",
      "Imputing row 5101/18601 with 0 missing, elapsed time: 98.582\n",
      "Imputing row 5201/18601 with 0 missing, elapsed time: 98.591\n",
      "Imputing row 5301/18601 with 1 missing, elapsed time: 98.598\n",
      "Imputing row 5401/18601 with 1 missing, elapsed time: 98.605\n",
      "Imputing row 5501/18601 with 0 missing, elapsed time: 98.611\n",
      "Imputing row 5601/18601 with 1 missing, elapsed time: 98.617\n",
      "Imputing row 5701/18601 with 0 missing, elapsed time: 98.627\n",
      "Imputing row 5801/18601 with 0 missing, elapsed time: 98.635\n",
      "Imputing row 5901/18601 with 0 missing, elapsed time: 98.645\n",
      "Imputing row 6001/18601 with 0 missing, elapsed time: 98.654\n",
      "Imputing row 6101/18601 with 0 missing, elapsed time: 98.661\n",
      "Imputing row 6201/18601 with 1 missing, elapsed time: 98.668\n",
      "Imputing row 6301/18601 with 0 missing, elapsed time: 98.674\n",
      "Imputing row 6401/18601 with 0 missing, elapsed time: 98.681\n",
      "Imputing row 6501/18601 with 1 missing, elapsed time: 98.688\n",
      "Imputing row 6601/18601 with 0 missing, elapsed time: 98.702\n",
      "Imputing row 6701/18601 with 0 missing, elapsed time: 98.717\n",
      "Imputing row 6801/18601 with 1 missing, elapsed time: 98.740\n",
      "Imputing row 6901/18601 with 0 missing, elapsed time: 98.761\n",
      "Imputing row 7001/18601 with 0 missing, elapsed time: 98.782\n",
      "Imputing row 7101/18601 with 0 missing, elapsed time: 98.809\n",
      "Imputing row 7201/18601 with 0 missing, elapsed time: 98.827\n",
      "Imputing row 7301/18601 with 0 missing, elapsed time: 98.845\n",
      "Imputing row 7401/18601 with 0 missing, elapsed time: 98.864\n",
      "Imputing row 7501/18601 with 0 missing, elapsed time: 98.883\n",
      "Imputing row 7601/18601 with 1 missing, elapsed time: 98.900\n",
      "Imputing row 7701/18601 with 0 missing, elapsed time: 98.915\n",
      "Imputing row 7801/18601 with 0 missing, elapsed time: 98.937\n",
      "Imputing row 7901/18601 with 0 missing, elapsed time: 98.952\n",
      "Imputing row 8001/18601 with 0 missing, elapsed time: 98.971\n",
      "Imputing row 8101/18601 with 0 missing, elapsed time: 98.987\n",
      "Imputing row 8201/18601 with 0 missing, elapsed time: 99.011\n",
      "Imputing row 8301/18601 with 0 missing, elapsed time: 99.032\n",
      "Imputing row 8401/18601 with 1 missing, elapsed time: 99.050\n",
      "Imputing row 8501/18601 with 0 missing, elapsed time: 99.071\n",
      "Imputing row 8601/18601 with 1 missing, elapsed time: 99.082\n",
      "Imputing row 8701/18601 with 1 missing, elapsed time: 99.095\n",
      "Imputing row 8801/18601 with 0 missing, elapsed time: 99.110\n",
      "Imputing row 8901/18601 with 0 missing, elapsed time: 99.129\n",
      "Imputing row 9001/18601 with 0 missing, elapsed time: 99.150\n",
      "Imputing row 9101/18601 with 0 missing, elapsed time: 99.165\n",
      "Imputing row 9201/18601 with 1 missing, elapsed time: 99.193\n",
      "Imputing row 9301/18601 with 0 missing, elapsed time: 99.220\n",
      "Imputing row 9401/18601 with 1 missing, elapsed time: 99.244\n",
      "Imputing row 9501/18601 with 0 missing, elapsed time: 99.265\n",
      "Imputing row 9601/18601 with 0 missing, elapsed time: 99.281\n",
      "Imputing row 9701/18601 with 0 missing, elapsed time: 99.298\n",
      "Imputing row 9801/18601 with 1 missing, elapsed time: 99.316\n",
      "Imputing row 9901/18601 with 1 missing, elapsed time: 99.333\n",
      "Imputing row 10001/18601 with 0 missing, elapsed time: 99.351\n",
      "Imputing row 10101/18601 with 0 missing, elapsed time: 99.368\n",
      "Imputing row 10201/18601 with 1 missing, elapsed time: 99.388\n",
      "Imputing row 10301/18601 with 1 missing, elapsed time: 99.407\n",
      "Imputing row 10401/18601 with 0 missing, elapsed time: 99.430\n",
      "Imputing row 10501/18601 with 0 missing, elapsed time: 99.444\n",
      "Imputing row 10601/18601 with 0 missing, elapsed time: 99.458\n",
      "Imputing row 10701/18601 with 0 missing, elapsed time: 99.471\n",
      "Imputing row 10801/18601 with 0 missing, elapsed time: 99.485\n",
      "Imputing row 10901/18601 with 0 missing, elapsed time: 99.518\n",
      "Imputing row 11001/18601 with 1 missing, elapsed time: 99.538\n",
      "Imputing row 11101/18601 with 0 missing, elapsed time: 99.551\n",
      "Imputing row 11201/18601 with 1 missing, elapsed time: 99.570\n",
      "Imputing row 11301/18601 with 0 missing, elapsed time: 99.580\n",
      "Imputing row 11401/18601 with 0 missing, elapsed time: 99.600\n",
      "Imputing row 11501/18601 with 0 missing, elapsed time: 99.620\n",
      "Imputing row 11601/18601 with 0 missing, elapsed time: 99.649\n",
      "Imputing row 11701/18601 with 1 missing, elapsed time: 99.665\n",
      "Imputing row 11801/18601 with 0 missing, elapsed time: 99.685\n",
      "Imputing row 11901/18601 with 0 missing, elapsed time: 99.704\n",
      "Imputing row 12001/18601 with 0 missing, elapsed time: 99.726\n",
      "Imputing row 12101/18601 with 1 missing, elapsed time: 99.749\n",
      "Imputing row 12201/18601 with 1 missing, elapsed time: 99.761\n",
      "Imputing row 12301/18601 with 0 missing, elapsed time: 99.783\n",
      "Imputing row 12401/18601 with 1 missing, elapsed time: 99.804\n",
      "Imputing row 12501/18601 with 0 missing, elapsed time: 99.820\n",
      "Imputing row 12601/18601 with 0 missing, elapsed time: 99.843\n",
      "Imputing row 12701/18601 with 1 missing, elapsed time: 99.863\n",
      "Imputing row 12801/18601 with 0 missing, elapsed time: 99.879\n",
      "Imputing row 12901/18601 with 0 missing, elapsed time: 99.895\n",
      "Imputing row 13001/18601 with 1 missing, elapsed time: 99.913\n",
      "Imputing row 13101/18601 with 2 missing, elapsed time: 99.934\n",
      "Imputing row 13201/18601 with 1 missing, elapsed time: 99.951\n",
      "Imputing row 13301/18601 with 0 missing, elapsed time: 99.967\n",
      "Imputing row 13401/18601 with 0 missing, elapsed time: 99.983\n",
      "Imputing row 13501/18601 with 1 missing, elapsed time: 99.994\n",
      "Imputing row 13601/18601 with 0 missing, elapsed time: 100.011\n",
      "Imputing row 13701/18601 with 0 missing, elapsed time: 100.029\n",
      "Imputing row 13801/18601 with 1 missing, elapsed time: 100.050\n",
      "Imputing row 13901/18601 with 1 missing, elapsed time: 100.064\n",
      "Imputing row 14001/18601 with 1 missing, elapsed time: 100.084\n",
      "Imputing row 14101/18601 with 1 missing, elapsed time: 100.108\n",
      "Imputing row 14201/18601 with 0 missing, elapsed time: 100.133\n",
      "Imputing row 14301/18601 with 0 missing, elapsed time: 100.157\n",
      "Imputing row 14401/18601 with 1 missing, elapsed time: 100.180\n",
      "Imputing row 14501/18601 with 0 missing, elapsed time: 100.211\n",
      "Imputing row 14601/18601 with 0 missing, elapsed time: 100.240\n",
      "Imputing row 14701/18601 with 0 missing, elapsed time: 100.271\n",
      "Imputing row 14801/18601 with 0 missing, elapsed time: 100.291\n",
      "Imputing row 14901/18601 with 0 missing, elapsed time: 100.312\n",
      "Imputing row 15001/18601 with 0 missing, elapsed time: 100.328\n",
      "Imputing row 15101/18601 with 1 missing, elapsed time: 100.349\n",
      "Imputing row 15201/18601 with 1 missing, elapsed time: 100.374\n",
      "Imputing row 15301/18601 with 0 missing, elapsed time: 100.393\n",
      "Imputing row 15401/18601 with 0 missing, elapsed time: 100.411\n",
      "Imputing row 15501/18601 with 1 missing, elapsed time: 100.426\n",
      "Imputing row 15601/18601 with 1 missing, elapsed time: 100.447\n",
      "Imputing row 15701/18601 with 0 missing, elapsed time: 100.467\n",
      "Imputing row 15801/18601 with 0 missing, elapsed time: 100.484\n",
      "Imputing row 15901/18601 with 1 missing, elapsed time: 100.501\n",
      "Imputing row 16001/18601 with 0 missing, elapsed time: 100.524\n",
      "Imputing row 16101/18601 with 1 missing, elapsed time: 100.550\n",
      "Imputing row 16201/18601 with 1 missing, elapsed time: 100.581\n",
      "Imputing row 16301/18601 with 0 missing, elapsed time: 100.607\n",
      "Imputing row 16401/18601 with 0 missing, elapsed time: 100.643\n",
      "Imputing row 16501/18601 with 0 missing, elapsed time: 100.682\n",
      "Imputing row 16601/18601 with 0 missing, elapsed time: 100.702\n",
      "Imputing row 16701/18601 with 1 missing, elapsed time: 100.722\n",
      "Imputing row 16801/18601 with 0 missing, elapsed time: 100.746\n",
      "Imputing row 16901/18601 with 0 missing, elapsed time: 100.766\n",
      "Imputing row 17001/18601 with 0 missing, elapsed time: 100.785\n",
      "Imputing row 17101/18601 with 1 missing, elapsed time: 100.804\n",
      "Imputing row 17201/18601 with 0 missing, elapsed time: 100.821\n",
      "Imputing row 17301/18601 with 0 missing, elapsed time: 100.838\n",
      "Imputing row 17401/18601 with 0 missing, elapsed time: 100.851\n",
      "Imputing row 17501/18601 with 0 missing, elapsed time: 100.864\n",
      "Imputing row 17601/18601 with 1 missing, elapsed time: 100.882\n",
      "Imputing row 17701/18601 with 0 missing, elapsed time: 100.898\n",
      "Imputing row 17801/18601 with 1 missing, elapsed time: 100.913\n",
      "Imputing row 17901/18601 with 0 missing, elapsed time: 100.931\n",
      "Imputing row 18001/18601 with 1 missing, elapsed time: 100.945\n",
      "Imputing row 18101/18601 with 0 missing, elapsed time: 100.966\n",
      "Imputing row 18201/18601 with 0 missing, elapsed time: 100.990\n",
      "Imputing row 18301/18601 with 0 missing, elapsed time: 101.009\n",
      "Imputing row 18401/18601 with 0 missing, elapsed time: 101.024\n",
      "Imputing row 18501/18601 with 1 missing, elapsed time: 101.038\n",
      "Imputing row 18601/18601 with 1 missing, elapsed time: 101.058\n"
     ]
    }
   ],
   "source": [
    "test = pd.DataFrame(KNN(3).fit_transform(test))"
   ]
  },
  {
   "cell_type": "code",
   "execution_count": 487,
   "metadata": {
    "collapsed": false
   },
   "outputs": [],
   "source": [
    "test.columns = column_names_test"
   ]
  },
  {
   "cell_type": "code",
   "execution_count": 488,
   "metadata": {
    "collapsed": false
   },
   "outputs": [
    {
     "data": {
      "text/html": [
       "<div>\n",
       "<style scoped>\n",
       "    .dataframe tbody tr th:only-of-type {\n",
       "        vertical-align: middle;\n",
       "    }\n",
       "\n",
       "    .dataframe tbody tr th {\n",
       "        vertical-align: top;\n",
       "    }\n",
       "\n",
       "    .dataframe thead th {\n",
       "        text-align: right;\n",
       "    }\n",
       "</style>\n",
       "<table border=\"1\" class=\"dataframe\">\n",
       "  <thead>\n",
       "    <tr style=\"text-align: right;\">\n",
       "      <th></th>\n",
       "      <th>age</th>\n",
       "      <th>hypertension</th>\n",
       "      <th>heart_disease</th>\n",
       "      <th>ever_married</th>\n",
       "      <th>avg_glucose_level</th>\n",
       "      <th>bmi</th>\n",
       "      <th>smoking_status</th>\n",
       "      <th>Female</th>\n",
       "      <th>Male</th>\n",
       "      <th>Other</th>\n",
       "      <th>Govt_job</th>\n",
       "      <th>Never_worked</th>\n",
       "      <th>Private</th>\n",
       "      <th>Self-employed</th>\n",
       "      <th>children</th>\n",
       "      <th>stroke</th>\n",
       "    </tr>\n",
       "  </thead>\n",
       "  <tbody>\n",
       "    <tr>\n",
       "      <th>0</th>\n",
       "      <td>3.0</td>\n",
       "      <td>0.0</td>\n",
       "      <td>0.0</td>\n",
       "      <td>0.0</td>\n",
       "      <td>95.12</td>\n",
       "      <td>18.0</td>\n",
       "      <td>0.000000</td>\n",
       "      <td>0.0</td>\n",
       "      <td>1.0</td>\n",
       "      <td>0.0</td>\n",
       "      <td>0.0</td>\n",
       "      <td>0.0</td>\n",
       "      <td>0.0</td>\n",
       "      <td>0.0</td>\n",
       "      <td>1.0</td>\n",
       "      <td>0.0</td>\n",
       "    </tr>\n",
       "    <tr>\n",
       "      <th>1</th>\n",
       "      <td>58.0</td>\n",
       "      <td>1.0</td>\n",
       "      <td>0.0</td>\n",
       "      <td>1.0</td>\n",
       "      <td>87.96</td>\n",
       "      <td>39.2</td>\n",
       "      <td>0.000000</td>\n",
       "      <td>0.0</td>\n",
       "      <td>1.0</td>\n",
       "      <td>0.0</td>\n",
       "      <td>0.0</td>\n",
       "      <td>0.0</td>\n",
       "      <td>1.0</td>\n",
       "      <td>0.0</td>\n",
       "      <td>0.0</td>\n",
       "      <td>0.0</td>\n",
       "    </tr>\n",
       "    <tr>\n",
       "      <th>2</th>\n",
       "      <td>8.0</td>\n",
       "      <td>0.0</td>\n",
       "      <td>0.0</td>\n",
       "      <td>0.0</td>\n",
       "      <td>110.89</td>\n",
       "      <td>17.6</td>\n",
       "      <td>0.326663</td>\n",
       "      <td>1.0</td>\n",
       "      <td>0.0</td>\n",
       "      <td>0.0</td>\n",
       "      <td>0.0</td>\n",
       "      <td>0.0</td>\n",
       "      <td>1.0</td>\n",
       "      <td>0.0</td>\n",
       "      <td>0.0</td>\n",
       "      <td>0.0</td>\n",
       "    </tr>\n",
       "    <tr>\n",
       "      <th>3</th>\n",
       "      <td>70.0</td>\n",
       "      <td>0.0</td>\n",
       "      <td>0.0</td>\n",
       "      <td>1.0</td>\n",
       "      <td>69.04</td>\n",
       "      <td>35.9</td>\n",
       "      <td>1.000000</td>\n",
       "      <td>1.0</td>\n",
       "      <td>0.0</td>\n",
       "      <td>0.0</td>\n",
       "      <td>0.0</td>\n",
       "      <td>0.0</td>\n",
       "      <td>1.0</td>\n",
       "      <td>0.0</td>\n",
       "      <td>0.0</td>\n",
       "      <td>0.0</td>\n",
       "    </tr>\n",
       "    <tr>\n",
       "      <th>4</th>\n",
       "      <td>14.0</td>\n",
       "      <td>0.0</td>\n",
       "      <td>0.0</td>\n",
       "      <td>0.0</td>\n",
       "      <td>161.28</td>\n",
       "      <td>19.1</td>\n",
       "      <td>0.681701</td>\n",
       "      <td>0.0</td>\n",
       "      <td>1.0</td>\n",
       "      <td>0.0</td>\n",
       "      <td>0.0</td>\n",
       "      <td>1.0</td>\n",
       "      <td>0.0</td>\n",
       "      <td>0.0</td>\n",
       "      <td>0.0</td>\n",
       "      <td>0.0</td>\n",
       "    </tr>\n",
       "  </tbody>\n",
       "</table>\n",
       "</div>"
      ],
      "text/plain": [
       "    age  hypertension  heart_disease  ever_married  avg_glucose_level   bmi  \\\n",
       "0   3.0           0.0            0.0           0.0              95.12  18.0   \n",
       "1  58.0           1.0            0.0           1.0              87.96  39.2   \n",
       "2   8.0           0.0            0.0           0.0             110.89  17.6   \n",
       "3  70.0           0.0            0.0           1.0              69.04  35.9   \n",
       "4  14.0           0.0            0.0           0.0             161.28  19.1   \n",
       "\n",
       "   smoking_status  Female  Male  Other  Govt_job  Never_worked  Private  \\\n",
       "0        0.000000     0.0   1.0    0.0       0.0           0.0      0.0   \n",
       "1        0.000000     0.0   1.0    0.0       0.0           0.0      1.0   \n",
       "2        0.326663     1.0   0.0    0.0       0.0           0.0      1.0   \n",
       "3        1.000000     1.0   0.0    0.0       0.0           0.0      1.0   \n",
       "4        0.681701     0.0   1.0    0.0       0.0           1.0      0.0   \n",
       "\n",
       "   Self-employed  children  stroke  \n",
       "0            0.0       1.0     0.0  \n",
       "1            0.0       0.0     0.0  \n",
       "2            0.0       0.0     0.0  \n",
       "3            0.0       0.0     0.0  \n",
       "4            0.0       0.0     0.0  "
      ]
     },
     "execution_count": 488,
     "metadata": {},
     "output_type": "execute_result"
    }
   ],
   "source": [
    "train.head()"
   ]
  },
  {
   "cell_type": "code",
   "execution_count": 489,
   "metadata": {
    "collapsed": false
   },
   "outputs": [
    {
     "data": {
      "text/html": [
       "<div>\n",
       "<style scoped>\n",
       "    .dataframe tbody tr th:only-of-type {\n",
       "        vertical-align: middle;\n",
       "    }\n",
       "\n",
       "    .dataframe tbody tr th {\n",
       "        vertical-align: top;\n",
       "    }\n",
       "\n",
       "    .dataframe thead th {\n",
       "        text-align: right;\n",
       "    }\n",
       "</style>\n",
       "<table border=\"1\" class=\"dataframe\">\n",
       "  <thead>\n",
       "    <tr style=\"text-align: right;\">\n",
       "      <th></th>\n",
       "      <th>age</th>\n",
       "      <th>hypertension</th>\n",
       "      <th>heart_disease</th>\n",
       "      <th>ever_married</th>\n",
       "      <th>avg_glucose_level</th>\n",
       "      <th>bmi</th>\n",
       "      <th>smoking_status</th>\n",
       "      <th>Female</th>\n",
       "      <th>Male</th>\n",
       "      <th>Other</th>\n",
       "      <th>Govt_job</th>\n",
       "      <th>Never_worked</th>\n",
       "      <th>Private</th>\n",
       "      <th>Self-employed</th>\n",
       "      <th>children</th>\n",
       "    </tr>\n",
       "  </thead>\n",
       "  <tbody>\n",
       "    <tr>\n",
       "      <th>0</th>\n",
       "      <td>80.0</td>\n",
       "      <td>0.0</td>\n",
       "      <td>0.0</td>\n",
       "      <td>1.0</td>\n",
       "      <td>83.84</td>\n",
       "      <td>21.1</td>\n",
       "      <td>1.000000</td>\n",
       "      <td>0.0</td>\n",
       "      <td>1.0</td>\n",
       "      <td>0.0</td>\n",
       "      <td>0.0</td>\n",
       "      <td>0.0</td>\n",
       "      <td>1.0</td>\n",
       "      <td>0.0</td>\n",
       "      <td>0.0</td>\n",
       "    </tr>\n",
       "    <tr>\n",
       "      <th>1</th>\n",
       "      <td>74.0</td>\n",
       "      <td>0.0</td>\n",
       "      <td>1.0</td>\n",
       "      <td>1.0</td>\n",
       "      <td>179.50</td>\n",
       "      <td>26.0</td>\n",
       "      <td>1.000000</td>\n",
       "      <td>1.0</td>\n",
       "      <td>0.0</td>\n",
       "      <td>0.0</td>\n",
       "      <td>0.0</td>\n",
       "      <td>0.0</td>\n",
       "      <td>0.0</td>\n",
       "      <td>1.0</td>\n",
       "      <td>0.0</td>\n",
       "    </tr>\n",
       "    <tr>\n",
       "      <th>2</th>\n",
       "      <td>14.0</td>\n",
       "      <td>0.0</td>\n",
       "      <td>0.0</td>\n",
       "      <td>0.0</td>\n",
       "      <td>95.16</td>\n",
       "      <td>21.2</td>\n",
       "      <td>0.000000</td>\n",
       "      <td>1.0</td>\n",
       "      <td>0.0</td>\n",
       "      <td>0.0</td>\n",
       "      <td>0.0</td>\n",
       "      <td>0.0</td>\n",
       "      <td>0.0</td>\n",
       "      <td>0.0</td>\n",
       "      <td>1.0</td>\n",
       "    </tr>\n",
       "    <tr>\n",
       "      <th>3</th>\n",
       "      <td>28.0</td>\n",
       "      <td>0.0</td>\n",
       "      <td>0.0</td>\n",
       "      <td>0.0</td>\n",
       "      <td>94.76</td>\n",
       "      <td>23.4</td>\n",
       "      <td>0.776701</td>\n",
       "      <td>0.0</td>\n",
       "      <td>1.0</td>\n",
       "      <td>0.0</td>\n",
       "      <td>0.0</td>\n",
       "      <td>0.0</td>\n",
       "      <td>1.0</td>\n",
       "      <td>0.0</td>\n",
       "      <td>0.0</td>\n",
       "    </tr>\n",
       "    <tr>\n",
       "      <th>4</th>\n",
       "      <td>63.0</td>\n",
       "      <td>0.0</td>\n",
       "      <td>0.0</td>\n",
       "      <td>1.0</td>\n",
       "      <td>83.57</td>\n",
       "      <td>27.6</td>\n",
       "      <td>0.000000</td>\n",
       "      <td>1.0</td>\n",
       "      <td>0.0</td>\n",
       "      <td>0.0</td>\n",
       "      <td>1.0</td>\n",
       "      <td>0.0</td>\n",
       "      <td>0.0</td>\n",
       "      <td>0.0</td>\n",
       "      <td>0.0</td>\n",
       "    </tr>\n",
       "  </tbody>\n",
       "</table>\n",
       "</div>"
      ],
      "text/plain": [
       "    age  hypertension  heart_disease  ever_married  avg_glucose_level   bmi  \\\n",
       "0  80.0           0.0            0.0           1.0              83.84  21.1   \n",
       "1  74.0           0.0            1.0           1.0             179.50  26.0   \n",
       "2  14.0           0.0            0.0           0.0              95.16  21.2   \n",
       "3  28.0           0.0            0.0           0.0              94.76  23.4   \n",
       "4  63.0           0.0            0.0           1.0              83.57  27.6   \n",
       "\n",
       "   smoking_status  Female  Male  Other  Govt_job  Never_worked  Private  \\\n",
       "0        1.000000     0.0   1.0    0.0       0.0           0.0      1.0   \n",
       "1        1.000000     1.0   0.0    0.0       0.0           0.0      0.0   \n",
       "2        0.000000     1.0   0.0    0.0       0.0           0.0      0.0   \n",
       "3        0.776701     0.0   1.0    0.0       0.0           0.0      1.0   \n",
       "4        0.000000     1.0   0.0    0.0       1.0           0.0      0.0   \n",
       "\n",
       "   Self-employed  children  \n",
       "0            0.0       0.0  \n",
       "1            1.0       0.0  \n",
       "2            0.0       1.0  \n",
       "3            0.0       0.0  \n",
       "4            0.0       0.0  "
      ]
     },
     "execution_count": 489,
     "metadata": {},
     "output_type": "execute_result"
    }
   ],
   "source": [
    "test.head()"
   ]
  },
  {
   "cell_type": "code",
   "execution_count": 491,
   "metadata": {
    "collapsed": true
   },
   "outputs": [],
   "source": [
    "train.to_csv('clean_train.csv', index = False)"
   ]
  },
  {
   "cell_type": "code",
   "execution_count": 494,
   "metadata": {
    "collapsed": true
   },
   "outputs": [],
   "source": [
    "test.to_csv('clean_test.csv', index = False)"
   ]
  },
  {
   "cell_type": "markdown",
   "metadata": {},
   "source": [
    "References:<br>\n",
    "https://stackoverflow.com/questions/16923281/pandas-writing-dataframe-to-csv-file<br>\n",
    "https://towardsdatascience.com/handling-missing-values-in-machine-learning-part-2-222154b4b58e<br>"
   ]
  }
 ],
 "metadata": {
  "kernelspec": {
   "display_name": "Python 3",
   "language": "python",
   "name": "python3"
  },
  "language_info": {
   "codemirror_mode": {
    "name": "ipython",
    "version": 3
   },
   "file_extension": ".py",
   "mimetype": "text/x-python",
   "name": "python",
   "nbconvert_exporter": "python",
   "pygments_lexer": "ipython3",
   "version": "3.6.2"
  }
 },
 "nbformat": 4,
 "nbformat_minor": 2
}
