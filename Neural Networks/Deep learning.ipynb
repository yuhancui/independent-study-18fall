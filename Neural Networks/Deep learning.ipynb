{
 "cells": [
  {
   "cell_type": "markdown",
   "metadata": {},
   "source": [
    "# Deep learning"
   ]
  },
  {
   "cell_type": "markdown",
   "metadata": {
    "collapsed": true
   },
   "source": [
    "Deep learning (also known as deep structured learning or hierarchical learning) is part of a broader family of machine learning methods.<br>\n",
    "Deep learning architectures such as deep neural networks, deep belief networks and recurrent neural networks have been applied to fields including computer vision, speech recognition, natural language processing, audio recognition, social network filtering, machine translation, bioinformatics, drug design and board game programs, where they have produced results comparable to and in some cases superior to human experts.<br>"
   ]
  },
  {
   "cell_type": "markdown",
   "metadata": {
    "collapsed": true
   },
   "source": [
    "Deep learning is a class of machine learning algorithms that:\n",
    "\n",
    "Use a cascade of multiple layers of nonlinear processing units for feature extraction and transformation. Each successive layer uses the output from the previous layer as input.<br>\n",
    "Learn in supervised (e.g., classification) and/or unsupervised (e.g., pattern analysis) manners.<br>\n",
    "Learn multiple levels of representations that correspond to different levels of abstraction; the levels form a hierarchy of concepts."
   ]
  },
  {
   "cell_type": "markdown",
   "metadata": {},
   "source": [
    "## Part 1: Data exploration\n",
    "### Understand raw data"
   ]
  },
  {
   "cell_type": "code",
   "execution_count": 8,
   "metadata": {
    "collapsed": true
   },
   "outputs": [],
   "source": [
    "import warnings\n",
    "warnings.filterwarnings('ignore')\n",
    "\n",
    "import pandas as pd\n",
    "import matplotlib.pyplot as plt\n",
    "import seaborn as sb\n",
    "import numpy as np\n",
    "import sklearn\n",
    "%matplotlib inline"
   ]
  },
  {
   "cell_type": "code",
   "execution_count": 9,
   "metadata": {
    "collapsed": true
   },
   "outputs": [],
   "source": [
    "pd.set_option('display.max_columns', None)# display all the columns\n",
    "raw_data = pd.read_csv('20_bit_mutliplexer_2000_01.txt', sep = \"\\t\")# read in dataset"
   ]
  },
  {
   "cell_type": "code",
   "execution_count": 10,
   "metadata": {
    "collapsed": false
   },
   "outputs": [
    {
     "data": {
      "text/html": [
       "<div>\n",
       "<style scoped>\n",
       "    .dataframe tbody tr th:only-of-type {\n",
       "        vertical-align: middle;\n",
       "    }\n",
       "\n",
       "    .dataframe tbody tr th {\n",
       "        vertical-align: top;\n",
       "    }\n",
       "\n",
       "    .dataframe thead th {\n",
       "        text-align: right;\n",
       "    }\n",
       "</style>\n",
       "<table border=\"1\" class=\"dataframe\">\n",
       "  <thead>\n",
       "    <tr style=\"text-align: right;\">\n",
       "      <th></th>\n",
       "      <th>A_0</th>\n",
       "      <th>A_1</th>\n",
       "      <th>A_2</th>\n",
       "      <th>A_3</th>\n",
       "      <th>R_0</th>\n",
       "      <th>R_1</th>\n",
       "      <th>R_2</th>\n",
       "      <th>R_3</th>\n",
       "      <th>R_4</th>\n",
       "      <th>R_5</th>\n",
       "      <th>R_6</th>\n",
       "      <th>R_7</th>\n",
       "      <th>R_8</th>\n",
       "      <th>R_9</th>\n",
       "      <th>R_10</th>\n",
       "      <th>R_11</th>\n",
       "      <th>R_12</th>\n",
       "      <th>R_13</th>\n",
       "      <th>R_14</th>\n",
       "      <th>R_15</th>\n",
       "      <th>Class</th>\n",
       "    </tr>\n",
       "  </thead>\n",
       "  <tbody>\n",
       "    <tr>\n",
       "      <th>0</th>\n",
       "      <td>1</td>\n",
       "      <td>0</td>\n",
       "      <td>1</td>\n",
       "      <td>1</td>\n",
       "      <td>1</td>\n",
       "      <td>1</td>\n",
       "      <td>1</td>\n",
       "      <td>0</td>\n",
       "      <td>0</td>\n",
       "      <td>1</td>\n",
       "      <td>0</td>\n",
       "      <td>1</td>\n",
       "      <td>1</td>\n",
       "      <td>1</td>\n",
       "      <td>0</td>\n",
       "      <td>0</td>\n",
       "      <td>0</td>\n",
       "      <td>1</td>\n",
       "      <td>0</td>\n",
       "      <td>0</td>\n",
       "      <td>0</td>\n",
       "    </tr>\n",
       "    <tr>\n",
       "      <th>1</th>\n",
       "      <td>0</td>\n",
       "      <td>0</td>\n",
       "      <td>0</td>\n",
       "      <td>0</td>\n",
       "      <td>0</td>\n",
       "      <td>1</td>\n",
       "      <td>1</td>\n",
       "      <td>1</td>\n",
       "      <td>0</td>\n",
       "      <td>0</td>\n",
       "      <td>1</td>\n",
       "      <td>0</td>\n",
       "      <td>1</td>\n",
       "      <td>0</td>\n",
       "      <td>0</td>\n",
       "      <td>0</td>\n",
       "      <td>1</td>\n",
       "      <td>0</td>\n",
       "      <td>1</td>\n",
       "      <td>1</td>\n",
       "      <td>0</td>\n",
       "    </tr>\n",
       "    <tr>\n",
       "      <th>2</th>\n",
       "      <td>0</td>\n",
       "      <td>0</td>\n",
       "      <td>1</td>\n",
       "      <td>1</td>\n",
       "      <td>1</td>\n",
       "      <td>0</td>\n",
       "      <td>0</td>\n",
       "      <td>0</td>\n",
       "      <td>1</td>\n",
       "      <td>0</td>\n",
       "      <td>0</td>\n",
       "      <td>1</td>\n",
       "      <td>1</td>\n",
       "      <td>1</td>\n",
       "      <td>1</td>\n",
       "      <td>1</td>\n",
       "      <td>1</td>\n",
       "      <td>0</td>\n",
       "      <td>1</td>\n",
       "      <td>0</td>\n",
       "      <td>0</td>\n",
       "    </tr>\n",
       "    <tr>\n",
       "      <th>3</th>\n",
       "      <td>0</td>\n",
       "      <td>0</td>\n",
       "      <td>0</td>\n",
       "      <td>0</td>\n",
       "      <td>0</td>\n",
       "      <td>0</td>\n",
       "      <td>1</td>\n",
       "      <td>1</td>\n",
       "      <td>0</td>\n",
       "      <td>1</td>\n",
       "      <td>0</td>\n",
       "      <td>1</td>\n",
       "      <td>0</td>\n",
       "      <td>0</td>\n",
       "      <td>1</td>\n",
       "      <td>0</td>\n",
       "      <td>1</td>\n",
       "      <td>0</td>\n",
       "      <td>1</td>\n",
       "      <td>0</td>\n",
       "      <td>0</td>\n",
       "    </tr>\n",
       "    <tr>\n",
       "      <th>4</th>\n",
       "      <td>1</td>\n",
       "      <td>0</td>\n",
       "      <td>1</td>\n",
       "      <td>0</td>\n",
       "      <td>0</td>\n",
       "      <td>0</td>\n",
       "      <td>1</td>\n",
       "      <td>1</td>\n",
       "      <td>0</td>\n",
       "      <td>1</td>\n",
       "      <td>0</td>\n",
       "      <td>0</td>\n",
       "      <td>0</td>\n",
       "      <td>1</td>\n",
       "      <td>1</td>\n",
       "      <td>1</td>\n",
       "      <td>1</td>\n",
       "      <td>1</td>\n",
       "      <td>1</td>\n",
       "      <td>1</td>\n",
       "      <td>1</td>\n",
       "    </tr>\n",
       "  </tbody>\n",
       "</table>\n",
       "</div>"
      ],
      "text/plain": [
       "   A_0  A_1  A_2  A_3  R_0  R_1  R_2  R_3  R_4  R_5  R_6  R_7  R_8  R_9  R_10  \\\n",
       "0    1    0    1    1    1    1    1    0    0    1    0    1    1    1     0   \n",
       "1    0    0    0    0    0    1    1    1    0    0    1    0    1    0     0   \n",
       "2    0    0    1    1    1    0    0    0    1    0    0    1    1    1     1   \n",
       "3    0    0    0    0    0    0    1    1    0    1    0    1    0    0     1   \n",
       "4    1    0    1    0    0    0    1    1    0    1    0    0    0    1     1   \n",
       "\n",
       "   R_11  R_12  R_13  R_14  R_15  Class  \n",
       "0     0     0     1     0     0      0  \n",
       "1     0     1     0     1     1      0  \n",
       "2     1     1     0     1     0      0  \n",
       "3     0     1     0     1     0      0  \n",
       "4     1     1     1     1     1      1  "
      ]
     },
     "execution_count": 10,
     "metadata": {},
     "output_type": "execute_result"
    }
   ],
   "source": [
    "raw_data.head()"
   ]
  },
  {
   "cell_type": "code",
   "execution_count": 11,
   "metadata": {
    "collapsed": false
   },
   "outputs": [
    {
     "name": "stdout",
     "output_type": "stream",
     "text": [
      "Number of rows: 2000\n",
      "Number of columns: 21\n"
     ]
    }
   ],
   "source": [
    "print (\"Number of rows: \" + str(raw_data.shape[0])) # row count\n",
    "print (\"Number of columns: \" + str(raw_data.shape[1])) # column count"
   ]
  },
  {
   "cell_type": "code",
   "execution_count": 12,
   "metadata": {
    "collapsed": false
   },
   "outputs": [
    {
     "data": {
      "text/html": [
       "<div>\n",
       "<style scoped>\n",
       "    .dataframe tbody tr th:only-of-type {\n",
       "        vertical-align: middle;\n",
       "    }\n",
       "\n",
       "    .dataframe tbody tr th {\n",
       "        vertical-align: top;\n",
       "    }\n",
       "\n",
       "    .dataframe thead th {\n",
       "        text-align: right;\n",
       "    }\n",
       "</style>\n",
       "<table border=\"1\" class=\"dataframe\">\n",
       "  <thead>\n",
       "    <tr style=\"text-align: right;\">\n",
       "      <th></th>\n",
       "      <th>A_0</th>\n",
       "      <th>A_1</th>\n",
       "      <th>A_2</th>\n",
       "      <th>A_3</th>\n",
       "      <th>R_0</th>\n",
       "      <th>R_1</th>\n",
       "      <th>R_2</th>\n",
       "      <th>R_3</th>\n",
       "      <th>R_4</th>\n",
       "      <th>R_5</th>\n",
       "      <th>R_6</th>\n",
       "      <th>R_7</th>\n",
       "      <th>R_8</th>\n",
       "      <th>R_9</th>\n",
       "      <th>R_10</th>\n",
       "      <th>R_11</th>\n",
       "      <th>R_12</th>\n",
       "      <th>R_13</th>\n",
       "      <th>R_14</th>\n",
       "      <th>R_15</th>\n",
       "      <th>Class</th>\n",
       "    </tr>\n",
       "  </thead>\n",
       "  <tbody>\n",
       "    <tr>\n",
       "      <th>count</th>\n",
       "      <td>2000.000000</td>\n",
       "      <td>2000.000000</td>\n",
       "      <td>2000.000000</td>\n",
       "      <td>2000.000000</td>\n",
       "      <td>2000.000000</td>\n",
       "      <td>2000.000000</td>\n",
       "      <td>2000.000000</td>\n",
       "      <td>2000.000000</td>\n",
       "      <td>2000.000000</td>\n",
       "      <td>2000.000000</td>\n",
       "      <td>2000.000000</td>\n",
       "      <td>2000.000000</td>\n",
       "      <td>2000.000000</td>\n",
       "      <td>2000.000000</td>\n",
       "      <td>2000.000000</td>\n",
       "      <td>2000.0000</td>\n",
       "      <td>2000.000000</td>\n",
       "      <td>2000.000000</td>\n",
       "      <td>2000.000000</td>\n",
       "      <td>2000.000000</td>\n",
       "      <td>2000.000000</td>\n",
       "    </tr>\n",
       "    <tr>\n",
       "      <th>mean</th>\n",
       "      <td>0.503000</td>\n",
       "      <td>0.510000</td>\n",
       "      <td>0.499000</td>\n",
       "      <td>0.497500</td>\n",
       "      <td>0.494500</td>\n",
       "      <td>0.507500</td>\n",
       "      <td>0.489500</td>\n",
       "      <td>0.500500</td>\n",
       "      <td>0.487000</td>\n",
       "      <td>0.492000</td>\n",
       "      <td>0.510000</td>\n",
       "      <td>0.492000</td>\n",
       "      <td>0.487000</td>\n",
       "      <td>0.485500</td>\n",
       "      <td>0.503000</td>\n",
       "      <td>0.4850</td>\n",
       "      <td>0.507000</td>\n",
       "      <td>0.513000</td>\n",
       "      <td>0.498500</td>\n",
       "      <td>0.499000</td>\n",
       "      <td>0.491000</td>\n",
       "    </tr>\n",
       "    <tr>\n",
       "      <th>std</th>\n",
       "      <td>0.500116</td>\n",
       "      <td>0.500025</td>\n",
       "      <td>0.500124</td>\n",
       "      <td>0.500119</td>\n",
       "      <td>0.500095</td>\n",
       "      <td>0.500069</td>\n",
       "      <td>0.500015</td>\n",
       "      <td>0.500125</td>\n",
       "      <td>0.499956</td>\n",
       "      <td>0.500061</td>\n",
       "      <td>0.500025</td>\n",
       "      <td>0.500061</td>\n",
       "      <td>0.499956</td>\n",
       "      <td>0.499915</td>\n",
       "      <td>0.500116</td>\n",
       "      <td>0.4999</td>\n",
       "      <td>0.500076</td>\n",
       "      <td>0.499956</td>\n",
       "      <td>0.500123</td>\n",
       "      <td>0.500124</td>\n",
       "      <td>0.500044</td>\n",
       "    </tr>\n",
       "    <tr>\n",
       "      <th>min</th>\n",
       "      <td>0.000000</td>\n",
       "      <td>0.000000</td>\n",
       "      <td>0.000000</td>\n",
       "      <td>0.000000</td>\n",
       "      <td>0.000000</td>\n",
       "      <td>0.000000</td>\n",
       "      <td>0.000000</td>\n",
       "      <td>0.000000</td>\n",
       "      <td>0.000000</td>\n",
       "      <td>0.000000</td>\n",
       "      <td>0.000000</td>\n",
       "      <td>0.000000</td>\n",
       "      <td>0.000000</td>\n",
       "      <td>0.000000</td>\n",
       "      <td>0.000000</td>\n",
       "      <td>0.0000</td>\n",
       "      <td>0.000000</td>\n",
       "      <td>0.000000</td>\n",
       "      <td>0.000000</td>\n",
       "      <td>0.000000</td>\n",
       "      <td>0.000000</td>\n",
       "    </tr>\n",
       "    <tr>\n",
       "      <th>25%</th>\n",
       "      <td>0.000000</td>\n",
       "      <td>0.000000</td>\n",
       "      <td>0.000000</td>\n",
       "      <td>0.000000</td>\n",
       "      <td>0.000000</td>\n",
       "      <td>0.000000</td>\n",
       "      <td>0.000000</td>\n",
       "      <td>0.000000</td>\n",
       "      <td>0.000000</td>\n",
       "      <td>0.000000</td>\n",
       "      <td>0.000000</td>\n",
       "      <td>0.000000</td>\n",
       "      <td>0.000000</td>\n",
       "      <td>0.000000</td>\n",
       "      <td>0.000000</td>\n",
       "      <td>0.0000</td>\n",
       "      <td>0.000000</td>\n",
       "      <td>0.000000</td>\n",
       "      <td>0.000000</td>\n",
       "      <td>0.000000</td>\n",
       "      <td>0.000000</td>\n",
       "    </tr>\n",
       "    <tr>\n",
       "      <th>50%</th>\n",
       "      <td>1.000000</td>\n",
       "      <td>1.000000</td>\n",
       "      <td>0.000000</td>\n",
       "      <td>0.000000</td>\n",
       "      <td>0.000000</td>\n",
       "      <td>1.000000</td>\n",
       "      <td>0.000000</td>\n",
       "      <td>1.000000</td>\n",
       "      <td>0.000000</td>\n",
       "      <td>0.000000</td>\n",
       "      <td>1.000000</td>\n",
       "      <td>0.000000</td>\n",
       "      <td>0.000000</td>\n",
       "      <td>0.000000</td>\n",
       "      <td>1.000000</td>\n",
       "      <td>0.0000</td>\n",
       "      <td>1.000000</td>\n",
       "      <td>1.000000</td>\n",
       "      <td>0.000000</td>\n",
       "      <td>0.000000</td>\n",
       "      <td>0.000000</td>\n",
       "    </tr>\n",
       "    <tr>\n",
       "      <th>75%</th>\n",
       "      <td>1.000000</td>\n",
       "      <td>1.000000</td>\n",
       "      <td>1.000000</td>\n",
       "      <td>1.000000</td>\n",
       "      <td>1.000000</td>\n",
       "      <td>1.000000</td>\n",
       "      <td>1.000000</td>\n",
       "      <td>1.000000</td>\n",
       "      <td>1.000000</td>\n",
       "      <td>1.000000</td>\n",
       "      <td>1.000000</td>\n",
       "      <td>1.000000</td>\n",
       "      <td>1.000000</td>\n",
       "      <td>1.000000</td>\n",
       "      <td>1.000000</td>\n",
       "      <td>1.0000</td>\n",
       "      <td>1.000000</td>\n",
       "      <td>1.000000</td>\n",
       "      <td>1.000000</td>\n",
       "      <td>1.000000</td>\n",
       "      <td>1.000000</td>\n",
       "    </tr>\n",
       "    <tr>\n",
       "      <th>max</th>\n",
       "      <td>1.000000</td>\n",
       "      <td>1.000000</td>\n",
       "      <td>1.000000</td>\n",
       "      <td>1.000000</td>\n",
       "      <td>1.000000</td>\n",
       "      <td>1.000000</td>\n",
       "      <td>1.000000</td>\n",
       "      <td>1.000000</td>\n",
       "      <td>1.000000</td>\n",
       "      <td>1.000000</td>\n",
       "      <td>1.000000</td>\n",
       "      <td>1.000000</td>\n",
       "      <td>1.000000</td>\n",
       "      <td>1.000000</td>\n",
       "      <td>1.000000</td>\n",
       "      <td>1.0000</td>\n",
       "      <td>1.000000</td>\n",
       "      <td>1.000000</td>\n",
       "      <td>1.000000</td>\n",
       "      <td>1.000000</td>\n",
       "      <td>1.000000</td>\n",
       "    </tr>\n",
       "  </tbody>\n",
       "</table>\n",
       "</div>"
      ],
      "text/plain": [
       "               A_0          A_1          A_2          A_3          R_0  \\\n",
       "count  2000.000000  2000.000000  2000.000000  2000.000000  2000.000000   \n",
       "mean      0.503000     0.510000     0.499000     0.497500     0.494500   \n",
       "std       0.500116     0.500025     0.500124     0.500119     0.500095   \n",
       "min       0.000000     0.000000     0.000000     0.000000     0.000000   \n",
       "25%       0.000000     0.000000     0.000000     0.000000     0.000000   \n",
       "50%       1.000000     1.000000     0.000000     0.000000     0.000000   \n",
       "75%       1.000000     1.000000     1.000000     1.000000     1.000000   \n",
       "max       1.000000     1.000000     1.000000     1.000000     1.000000   \n",
       "\n",
       "               R_1          R_2          R_3          R_4          R_5  \\\n",
       "count  2000.000000  2000.000000  2000.000000  2000.000000  2000.000000   \n",
       "mean      0.507500     0.489500     0.500500     0.487000     0.492000   \n",
       "std       0.500069     0.500015     0.500125     0.499956     0.500061   \n",
       "min       0.000000     0.000000     0.000000     0.000000     0.000000   \n",
       "25%       0.000000     0.000000     0.000000     0.000000     0.000000   \n",
       "50%       1.000000     0.000000     1.000000     0.000000     0.000000   \n",
       "75%       1.000000     1.000000     1.000000     1.000000     1.000000   \n",
       "max       1.000000     1.000000     1.000000     1.000000     1.000000   \n",
       "\n",
       "               R_6          R_7          R_8          R_9         R_10  \\\n",
       "count  2000.000000  2000.000000  2000.000000  2000.000000  2000.000000   \n",
       "mean      0.510000     0.492000     0.487000     0.485500     0.503000   \n",
       "std       0.500025     0.500061     0.499956     0.499915     0.500116   \n",
       "min       0.000000     0.000000     0.000000     0.000000     0.000000   \n",
       "25%       0.000000     0.000000     0.000000     0.000000     0.000000   \n",
       "50%       1.000000     0.000000     0.000000     0.000000     1.000000   \n",
       "75%       1.000000     1.000000     1.000000     1.000000     1.000000   \n",
       "max       1.000000     1.000000     1.000000     1.000000     1.000000   \n",
       "\n",
       "            R_11         R_12         R_13         R_14         R_15  \\\n",
       "count  2000.0000  2000.000000  2000.000000  2000.000000  2000.000000   \n",
       "mean      0.4850     0.507000     0.513000     0.498500     0.499000   \n",
       "std       0.4999     0.500076     0.499956     0.500123     0.500124   \n",
       "min       0.0000     0.000000     0.000000     0.000000     0.000000   \n",
       "25%       0.0000     0.000000     0.000000     0.000000     0.000000   \n",
       "50%       0.0000     1.000000     1.000000     0.000000     0.000000   \n",
       "75%       1.0000     1.000000     1.000000     1.000000     1.000000   \n",
       "max       1.0000     1.000000     1.000000     1.000000     1.000000   \n",
       "\n",
       "             Class  \n",
       "count  2000.000000  \n",
       "mean      0.491000  \n",
       "std       0.500044  \n",
       "min       0.000000  \n",
       "25%       0.000000  \n",
       "50%       0.000000  \n",
       "75%       1.000000  \n",
       "max       1.000000  "
      ]
     },
     "execution_count": 12,
     "metadata": {},
     "output_type": "execute_result"
    }
   ],
   "source": [
    "raw_data.describe() # descriptive statistics "
   ]
  },
  {
   "cell_type": "code",
   "execution_count": 13,
   "metadata": {
    "collapsed": false
   },
   "outputs": [
    {
     "data": {
      "text/plain": [
       "False"
      ]
     },
     "execution_count": 13,
     "metadata": {},
     "output_type": "execute_result"
    }
   ],
   "source": [
    "raw_data.isnull().values.any() # check missing data"
   ]
  },
  {
   "cell_type": "markdown",
   "metadata": {},
   "source": [
    "### Understand the features"
   ]
  },
  {
   "cell_type": "code",
   "execution_count": 14,
   "metadata": {
    "collapsed": false
   },
   "outputs": [
    {
     "data": {
      "text/plain": [
       "Text(0,0.5,'Count')"
      ]
     },
     "execution_count": 14,
     "metadata": {},
     "output_type": "execute_result"
    },
    {
     "data": {
      "image/png": "[encoded data removed]",
      "text/plain": [
       "<Figure size 432x288 with 1 Axes>"
      ]
     },
     "metadata": {
      "needs_background": "light"
     },
     "output_type": "display_data"
    }
   ],
   "source": [
    "sb.distplot(raw_data['Class'],kde=False) # The outcome is labeled as 'class'\n",
    "plt.ylabel(\"Count\")"
   ]
  },
  {
   "cell_type": "code",
   "execution_count": 15,
   "metadata": {
    "collapsed": false
   },
   "outputs": [
    {
     "data": {
      "text/plain": [
       "<matplotlib.axes._subplots.AxesSubplot at 0x12031fa58>"
      ]
     },
     "execution_count": 15,
     "metadata": {},
     "output_type": "execute_result"
    },
    {
     "data": {
      "image/png": "[encoded data removed]",
      "text/plain": [
       "<Figure size 432x288 with 2 Axes>"
      ]
     },
     "metadata": {
      "needs_background": "light"
     },
     "output_type": "display_data"
    }
   ],
   "source": [
    "# Use heat map to visualize correlation between each column\n",
    "corr = raw_data[['A_0','A_1','A_2','A_3','R_1','R_2','R_3','R_4','R_5','R_6','R_7','R_8','R_9','R_10','R_11','R_12','R_13','R_14','R_15','Class']].corr()\n",
    "sb.heatmap(corr)"
   ]
  },
  {
   "cell_type": "code",
   "execution_count": 16,
   "metadata": {
    "collapsed": false
   },
   "outputs": [
    {
     "data": {
      "text/html": [
       "<div>\n",
       "<style scoped>\n",
       "    .dataframe tbody tr th:only-of-type {\n",
       "        vertical-align: middle;\n",
       "    }\n",
       "\n",
       "    .dataframe tbody tr th {\n",
       "        vertical-align: top;\n",
       "    }\n",
       "\n",
       "    .dataframe thead th {\n",
       "        text-align: right;\n",
       "    }\n",
       "</style>\n",
       "<table border=\"1\" class=\"dataframe\">\n",
       "  <thead>\n",
       "    <tr style=\"text-align: right;\">\n",
       "      <th></th>\n",
       "      <th>A_0</th>\n",
       "      <th>A_1</th>\n",
       "      <th>A_2</th>\n",
       "      <th>A_3</th>\n",
       "      <th>R_1</th>\n",
       "      <th>R_2</th>\n",
       "      <th>R_3</th>\n",
       "      <th>R_4</th>\n",
       "      <th>R_5</th>\n",
       "      <th>R_6</th>\n",
       "      <th>R_7</th>\n",
       "      <th>R_8</th>\n",
       "      <th>R_9</th>\n",
       "      <th>R_10</th>\n",
       "      <th>R_11</th>\n",
       "      <th>R_12</th>\n",
       "      <th>R_13</th>\n",
       "      <th>R_14</th>\n",
       "      <th>R_15</th>\n",
       "      <th>Class</th>\n",
       "    </tr>\n",
       "  </thead>\n",
       "  <tbody>\n",
       "    <tr>\n",
       "      <th>A_0</th>\n",
       "      <td>1.000000</td>\n",
       "      <td>0.011883</td>\n",
       "      <td>0.030013</td>\n",
       "      <td>0.017031</td>\n",
       "      <td>0.016912</td>\n",
       "      <td>0.023132</td>\n",
       "      <td>-0.019006</td>\n",
       "      <td>0.010160</td>\n",
       "      <td>-0.025908</td>\n",
       "      <td>-0.014123</td>\n",
       "      <td>0.044102</td>\n",
       "      <td>0.006158</td>\n",
       "      <td>-0.004828</td>\n",
       "      <td>-0.012036</td>\n",
       "      <td>-0.009825</td>\n",
       "      <td>0.021919</td>\n",
       "      <td>0.017850</td>\n",
       "      <td>-0.000982</td>\n",
       "      <td>-0.013988</td>\n",
       "      <td>0.010110</td>\n",
       "    </tr>\n",
       "    <tr>\n",
       "      <th>A_1</th>\n",
       "      <td>0.011883</td>\n",
       "      <td>1.000000</td>\n",
       "      <td>-0.005961</td>\n",
       "      <td>-0.000900</td>\n",
       "      <td>-0.015305</td>\n",
       "      <td>0.003421</td>\n",
       "      <td>-0.033027</td>\n",
       "      <td>0.000520</td>\n",
       "      <td>-0.013684</td>\n",
       "      <td>0.023609</td>\n",
       "      <td>0.016325</td>\n",
       "      <td>0.014528</td>\n",
       "      <td>0.005583</td>\n",
       "      <td>-0.004121</td>\n",
       "      <td>-0.013409</td>\n",
       "      <td>-0.004281</td>\n",
       "      <td>-0.012527</td>\n",
       "      <td>0.031066</td>\n",
       "      <td>0.016043</td>\n",
       "      <td>-0.003641</td>\n",
       "    </tr>\n",
       "    <tr>\n",
       "      <th>A_2</th>\n",
       "      <td>0.030013</td>\n",
       "      <td>-0.005961</td>\n",
       "      <td>1.000000</td>\n",
       "      <td>0.028990</td>\n",
       "      <td>0.015032</td>\n",
       "      <td>0.020963</td>\n",
       "      <td>-0.004998</td>\n",
       "      <td>-0.018058</td>\n",
       "      <td>-0.030036</td>\n",
       "      <td>0.000040</td>\n",
       "      <td>0.003969</td>\n",
       "      <td>-0.028062</td>\n",
       "      <td>0.014948</td>\n",
       "      <td>0.038013</td>\n",
       "      <td>0.017948</td>\n",
       "      <td>0.000028</td>\n",
       "      <td>0.012056</td>\n",
       "      <td>-0.023006</td>\n",
       "      <td>-0.038004</td>\n",
       "      <td>-0.012038</td>\n",
       "    </tr>\n",
       "    <tr>\n",
       "      <th>A_3</th>\n",
       "      <td>0.017031</td>\n",
       "      <td>-0.000900</td>\n",
       "      <td>0.028990</td>\n",
       "      <td>1.000000</td>\n",
       "      <td>0.034079</td>\n",
       "      <td>-0.018109</td>\n",
       "      <td>0.024005</td>\n",
       "      <td>0.012875</td>\n",
       "      <td>-0.003080</td>\n",
       "      <td>0.009102</td>\n",
       "      <td>0.028924</td>\n",
       "      <td>0.014875</td>\n",
       "      <td>-0.026156</td>\n",
       "      <td>0.007030</td>\n",
       "      <td>0.050874</td>\n",
       "      <td>0.021072</td>\n",
       "      <td>0.015135</td>\n",
       "      <td>0.053986</td>\n",
       "      <td>0.008990</td>\n",
       "      <td>0.036916</td>\n",
       "    </tr>\n",
       "    <tr>\n",
       "      <th>R_1</th>\n",
       "      <td>0.016912</td>\n",
       "      <td>-0.015305</td>\n",
       "      <td>0.015032</td>\n",
       "      <td>0.034079</td>\n",
       "      <td>1.000000</td>\n",
       "      <td>0.032326</td>\n",
       "      <td>0.017987</td>\n",
       "      <td>-0.012616</td>\n",
       "      <td>-0.034768</td>\n",
       "      <td>0.056718</td>\n",
       "      <td>-0.030767</td>\n",
       "      <td>0.019399</td>\n",
       "      <td>-0.003567</td>\n",
       "      <td>-0.017092</td>\n",
       "      <td>-0.006554</td>\n",
       "      <td>-0.025215</td>\n",
       "      <td>0.002611</td>\n",
       "      <td>0.022048</td>\n",
       "      <td>0.015032</td>\n",
       "      <td>0.075291</td>\n",
       "    </tr>\n",
       "    <tr>\n",
       "      <th>R_2</th>\n",
       "      <td>0.023132</td>\n",
       "      <td>0.003421</td>\n",
       "      <td>0.020963</td>\n",
       "      <td>-0.018109</td>\n",
       "      <td>0.032326</td>\n",
       "      <td>1.000000</td>\n",
       "      <td>0.014024</td>\n",
       "      <td>-0.001547</td>\n",
       "      <td>0.012668</td>\n",
       "      <td>-0.020589</td>\n",
       "      <td>-0.025345</td>\n",
       "      <td>-0.007550</td>\n",
       "      <td>-0.004612</td>\n",
       "      <td>0.009128</td>\n",
       "      <td>0.016381</td>\n",
       "      <td>0.031304</td>\n",
       "      <td>-0.000454</td>\n",
       "      <td>-0.020068</td>\n",
       "      <td>-0.025048</td>\n",
       "      <td>0.088656</td>\n",
       "    </tr>\n",
       "    <tr>\n",
       "      <th>R_3</th>\n",
       "      <td>-0.019006</td>\n",
       "      <td>-0.033027</td>\n",
       "      <td>-0.004998</td>\n",
       "      <td>0.024005</td>\n",
       "      <td>0.017987</td>\n",
       "      <td>0.014024</td>\n",
       "      <td>1.000000</td>\n",
       "      <td>0.007028</td>\n",
       "      <td>0.019018</td>\n",
       "      <td>0.018984</td>\n",
       "      <td>-0.008985</td>\n",
       "      <td>-0.024982</td>\n",
       "      <td>-0.003973</td>\n",
       "      <td>-0.009006</td>\n",
       "      <td>-0.028983</td>\n",
       "      <td>-0.013015</td>\n",
       "      <td>0.006976</td>\n",
       "      <td>-0.005997</td>\n",
       "      <td>0.049002</td>\n",
       "      <td>0.087032</td>\n",
       "    </tr>\n",
       "    <tr>\n",
       "      <th>R_4</th>\n",
       "      <td>0.010160</td>\n",
       "      <td>0.000520</td>\n",
       "      <td>-0.018058</td>\n",
       "      <td>0.012875</td>\n",
       "      <td>-0.012616</td>\n",
       "      <td>-0.001547</td>\n",
       "      <td>0.007028</td>\n",
       "      <td>1.000000</td>\n",
       "      <td>-0.002417</td>\n",
       "      <td>0.044544</td>\n",
       "      <td>-0.004418</td>\n",
       "      <td>0.005328</td>\n",
       "      <td>-0.001755</td>\n",
       "      <td>-0.021852</td>\n",
       "      <td>-0.008787</td>\n",
       "      <td>0.036380</td>\n",
       "      <td>0.014686</td>\n",
       "      <td>-0.047094</td>\n",
       "      <td>0.023956</td>\n",
       "      <td>0.071568</td>\n",
       "    </tr>\n",
       "    <tr>\n",
       "      <th>R_5</th>\n",
       "      <td>-0.025908</td>\n",
       "      <td>-0.013684</td>\n",
       "      <td>-0.030036</td>\n",
       "      <td>-0.003080</td>\n",
       "      <td>-0.034768</td>\n",
       "      <td>0.012668</td>\n",
       "      <td>0.019018</td>\n",
       "      <td>-0.002417</td>\n",
       "      <td>1.000000</td>\n",
       "      <td>0.020327</td>\n",
       "      <td>0.025751</td>\n",
       "      <td>0.041603</td>\n",
       "      <td>-0.047490</td>\n",
       "      <td>0.008097</td>\n",
       "      <td>0.025535</td>\n",
       "      <td>0.000224</td>\n",
       "      <td>-0.025596</td>\n",
       "      <td>-0.047054</td>\n",
       "      <td>-0.018034</td>\n",
       "      <td>0.075734</td>\n",
       "    </tr>\n",
       "    <tr>\n",
       "      <th>R_6</th>\n",
       "      <td>-0.014123</td>\n",
       "      <td>0.023609</td>\n",
       "      <td>0.000040</td>\n",
       "      <td>0.009102</td>\n",
       "      <td>0.056718</td>\n",
       "      <td>-0.020589</td>\n",
       "      <td>0.018984</td>\n",
       "      <td>0.044544</td>\n",
       "      <td>0.020327</td>\n",
       "      <td>1.000000</td>\n",
       "      <td>0.008323</td>\n",
       "      <td>-0.005483</td>\n",
       "      <td>0.009586</td>\n",
       "      <td>0.027886</td>\n",
       "      <td>-0.021414</td>\n",
       "      <td>-0.014284</td>\n",
       "      <td>0.007484</td>\n",
       "      <td>-0.018944</td>\n",
       "      <td>-0.029966</td>\n",
       "      <td>0.080389</td>\n",
       "    </tr>\n",
       "    <tr>\n",
       "      <th>R_7</th>\n",
       "      <td>0.044102</td>\n",
       "      <td>0.016325</td>\n",
       "      <td>0.003969</td>\n",
       "      <td>0.028924</td>\n",
       "      <td>-0.030767</td>\n",
       "      <td>-0.025345</td>\n",
       "      <td>-0.008985</td>\n",
       "      <td>-0.004418</td>\n",
       "      <td>0.025751</td>\n",
       "      <td>0.008323</td>\n",
       "      <td>1.000000</td>\n",
       "      <td>-0.002417</td>\n",
       "      <td>0.046562</td>\n",
       "      <td>0.020099</td>\n",
       "      <td>0.013528</td>\n",
       "      <td>0.002225</td>\n",
       "      <td>0.020426</td>\n",
       "      <td>0.018955</td>\n",
       "      <td>-0.010033</td>\n",
       "      <td>0.063730</td>\n",
       "    </tr>\n",
       "    <tr>\n",
       "      <th>R_8</th>\n",
       "      <td>0.006158</td>\n",
       "      <td>0.014528</td>\n",
       "      <td>-0.028062</td>\n",
       "      <td>0.014875</td>\n",
       "      <td>0.019399</td>\n",
       "      <td>-0.007550</td>\n",
       "      <td>-0.024982</td>\n",
       "      <td>0.005328</td>\n",
       "      <td>0.041603</td>\n",
       "      <td>-0.005483</td>\n",
       "      <td>-0.002417</td>\n",
       "      <td>1.000000</td>\n",
       "      <td>0.016258</td>\n",
       "      <td>-0.011848</td>\n",
       "      <td>0.007226</td>\n",
       "      <td>0.016371</td>\n",
       "      <td>0.014686</td>\n",
       "      <td>-0.005080</td>\n",
       "      <td>0.015953</td>\n",
       "      <td>0.047556</td>\n",
       "    </tr>\n",
       "    <tr>\n",
       "      <th>R_9</th>\n",
       "      <td>-0.004828</td>\n",
       "      <td>0.005583</td>\n",
       "      <td>0.014948</td>\n",
       "      <td>-0.026156</td>\n",
       "      <td>-0.003567</td>\n",
       "      <td>-0.004612</td>\n",
       "      <td>-0.003973</td>\n",
       "      <td>-0.001755</td>\n",
       "      <td>-0.047490</td>\n",
       "      <td>0.009586</td>\n",
       "      <td>0.046562</td>\n",
       "      <td>0.016258</td>\n",
       "      <td>1.000000</td>\n",
       "      <td>0.003175</td>\n",
       "      <td>-0.007877</td>\n",
       "      <td>0.011412</td>\n",
       "      <td>0.003757</td>\n",
       "      <td>-0.034101</td>\n",
       "      <td>0.008946</td>\n",
       "      <td>0.042503</td>\n",
       "    </tr>\n",
       "    <tr>\n",
       "      <th>R_10</th>\n",
       "      <td>-0.012036</td>\n",
       "      <td>-0.004121</td>\n",
       "      <td>0.038013</td>\n",
       "      <td>0.007030</td>\n",
       "      <td>-0.017092</td>\n",
       "      <td>0.009128</td>\n",
       "      <td>-0.009006</td>\n",
       "      <td>-0.021852</td>\n",
       "      <td>0.008097</td>\n",
       "      <td>0.027886</td>\n",
       "      <td>0.020099</td>\n",
       "      <td>-0.011848</td>\n",
       "      <td>0.003175</td>\n",
       "      <td>1.000000</td>\n",
       "      <td>0.004182</td>\n",
       "      <td>-0.010085</td>\n",
       "      <td>0.005846</td>\n",
       "      <td>0.005018</td>\n",
       "      <td>-0.011988</td>\n",
       "      <td>0.040115</td>\n",
       "    </tr>\n",
       "    <tr>\n",
       "      <th>R_11</th>\n",
       "      <td>-0.009825</td>\n",
       "      <td>-0.013409</td>\n",
       "      <td>0.017948</td>\n",
       "      <td>0.050874</td>\n",
       "      <td>-0.006554</td>\n",
       "      <td>0.016381</td>\n",
       "      <td>-0.028983</td>\n",
       "      <td>-0.008787</td>\n",
       "      <td>0.025535</td>\n",
       "      <td>-0.021414</td>\n",
       "      <td>0.013528</td>\n",
       "      <td>0.007226</td>\n",
       "      <td>-0.007877</td>\n",
       "      <td>0.004182</td>\n",
       "      <td>1.000000</td>\n",
       "      <td>-0.003582</td>\n",
       "      <td>-0.003223</td>\n",
       "      <td>0.024921</td>\n",
       "      <td>0.025952</td>\n",
       "      <td>0.047489</td>\n",
       "    </tr>\n",
       "    <tr>\n",
       "      <th>R_12</th>\n",
       "      <td>0.021919</td>\n",
       "      <td>-0.004281</td>\n",
       "      <td>0.000028</td>\n",
       "      <td>0.021072</td>\n",
       "      <td>-0.025215</td>\n",
       "      <td>0.031304</td>\n",
       "      <td>-0.013015</td>\n",
       "      <td>0.036380</td>\n",
       "      <td>0.000224</td>\n",
       "      <td>-0.014284</td>\n",
       "      <td>0.002225</td>\n",
       "      <td>0.016371</td>\n",
       "      <td>0.011412</td>\n",
       "      <td>-0.010085</td>\n",
       "      <td>-0.003582</td>\n",
       "      <td>1.000000</td>\n",
       "      <td>-0.024375</td>\n",
       "      <td>0.001042</td>\n",
       "      <td>-0.007973</td>\n",
       "      <td>0.056267</td>\n",
       "    </tr>\n",
       "    <tr>\n",
       "      <th>R_13</th>\n",
       "      <td>0.017850</td>\n",
       "      <td>-0.012527</td>\n",
       "      <td>0.012056</td>\n",
       "      <td>0.015135</td>\n",
       "      <td>0.002611</td>\n",
       "      <td>-0.000454</td>\n",
       "      <td>0.006976</td>\n",
       "      <td>0.014686</td>\n",
       "      <td>-0.025596</td>\n",
       "      <td>0.007484</td>\n",
       "      <td>0.020426</td>\n",
       "      <td>0.014686</td>\n",
       "      <td>0.003757</td>\n",
       "      <td>0.005846</td>\n",
       "      <td>-0.003223</td>\n",
       "      <td>-0.024375</td>\n",
       "      <td>1.000000</td>\n",
       "      <td>0.009081</td>\n",
       "      <td>-0.011952</td>\n",
       "      <td>0.066501</td>\n",
       "    </tr>\n",
       "    <tr>\n",
       "      <th>R_14</th>\n",
       "      <td>-0.000982</td>\n",
       "      <td>0.031066</td>\n",
       "      <td>-0.023006</td>\n",
       "      <td>0.053986</td>\n",
       "      <td>0.022048</td>\n",
       "      <td>-0.020068</td>\n",
       "      <td>-0.005997</td>\n",
       "      <td>-0.047094</td>\n",
       "      <td>-0.047054</td>\n",
       "      <td>-0.018944</td>\n",
       "      <td>0.018955</td>\n",
       "      <td>-0.005080</td>\n",
       "      <td>-0.034101</td>\n",
       "      <td>0.005018</td>\n",
       "      <td>0.024921</td>\n",
       "      <td>0.001042</td>\n",
       "      <td>0.009081</td>\n",
       "      <td>1.000000</td>\n",
       "      <td>-0.047006</td>\n",
       "      <td>0.068957</td>\n",
       "    </tr>\n",
       "    <tr>\n",
       "      <th>R_15</th>\n",
       "      <td>-0.013988</td>\n",
       "      <td>0.016043</td>\n",
       "      <td>-0.038004</td>\n",
       "      <td>0.008990</td>\n",
       "      <td>0.015032</td>\n",
       "      <td>-0.025048</td>\n",
       "      <td>0.049002</td>\n",
       "      <td>0.023956</td>\n",
       "      <td>-0.018034</td>\n",
       "      <td>-0.029966</td>\n",
       "      <td>-0.010033</td>\n",
       "      <td>0.015953</td>\n",
       "      <td>0.008946</td>\n",
       "      <td>-0.011988</td>\n",
       "      <td>0.025952</td>\n",
       "      <td>-0.007973</td>\n",
       "      <td>-0.011952</td>\n",
       "      <td>-0.047006</td>\n",
       "      <td>1.000000</td>\n",
       "      <td>0.063974</td>\n",
       "    </tr>\n",
       "    <tr>\n",
       "      <th>Class</th>\n",
       "      <td>0.010110</td>\n",
       "      <td>-0.003641</td>\n",
       "      <td>-0.012038</td>\n",
       "      <td>0.036916</td>\n",
       "      <td>0.075291</td>\n",
       "      <td>0.088656</td>\n",
       "      <td>0.087032</td>\n",
       "      <td>0.071568</td>\n",
       "      <td>0.075734</td>\n",
       "      <td>0.080389</td>\n",
       "      <td>0.063730</td>\n",
       "      <td>0.047556</td>\n",
       "      <td>0.042503</td>\n",
       "      <td>0.040115</td>\n",
       "      <td>0.047489</td>\n",
       "      <td>0.056267</td>\n",
       "      <td>0.066501</td>\n",
       "      <td>0.068957</td>\n",
       "      <td>0.063974</td>\n",
       "      <td>1.000000</td>\n",
       "    </tr>\n",
       "  </tbody>\n",
       "</table>\n",
       "</div>"
      ],
      "text/plain": [
       "            A_0       A_1       A_2       A_3       R_1       R_2       R_3  \\\n",
       "A_0    1.000000  0.011883  0.030013  0.017031  0.016912  0.023132 -0.019006   \n",
       "A_1    0.011883  1.000000 -0.005961 -0.000900 -0.015305  0.003421 -0.033027   \n",
       "A_2    0.030013 -0.005961  1.000000  0.028990  0.015032  0.020963 -0.004998   \n",
       "A_3    0.017031 -0.000900  0.028990  1.000000  0.034079 -0.018109  0.024005   \n",
       "R_1    0.016912 -0.015305  0.015032  0.034079  1.000000  0.032326  0.017987   \n",
       "R_2    0.023132  0.003421  0.020963 -0.018109  0.032326  1.000000  0.014024   \n",
       "R_3   -0.019006 -0.033027 -0.004998  0.024005  0.017987  0.014024  1.000000   \n",
       "R_4    0.010160  0.000520 -0.018058  0.012875 -0.012616 -0.001547  0.007028   \n",
       "R_5   -0.025908 -0.013684 -0.030036 -0.003080 -0.034768  0.012668  0.019018   \n",
       "R_6   -0.014123  0.023609  0.000040  0.009102  0.056718 -0.020589  0.018984   \n",
       "R_7    0.044102  0.016325  0.003969  0.028924 -0.030767 -0.025345 -0.008985   \n",
       "R_8    0.006158  0.014528 -0.028062  0.014875  0.019399 -0.007550 -0.024982   \n",
       "R_9   -0.004828  0.005583  0.014948 -0.026156 -0.003567 -0.004612 -0.003973   \n",
       "R_10  -0.012036 -0.004121  0.038013  0.007030 -0.017092  0.009128 -0.009006   \n",
       "R_11  -0.009825 -0.013409  0.017948  0.050874 -0.006554  0.016381 -0.028983   \n",
       "R_12   0.021919 -0.004281  0.000028  0.021072 -0.025215  0.031304 -0.013015   \n",
       "R_13   0.017850 -0.012527  0.012056  0.015135  0.002611 -0.000454  0.006976   \n",
       "R_14  -0.000982  0.031066 -0.023006  0.053986  0.022048 -0.020068 -0.005997   \n",
       "R_15  -0.013988  0.016043 -0.038004  0.008990  0.015032 -0.025048  0.049002   \n",
       "Class  0.010110 -0.003641 -0.012038  0.036916  0.075291  0.088656  0.087032   \n",
       "\n",
       "            R_4       R_5       R_6       R_7       R_8       R_9      R_10  \\\n",
       "A_0    0.010160 -0.025908 -0.014123  0.044102  0.006158 -0.004828 -0.012036   \n",
       "A_1    0.000520 -0.013684  0.023609  0.016325  0.014528  0.005583 -0.004121   \n",
       "A_2   -0.018058 -0.030036  0.000040  0.003969 -0.028062  0.014948  0.038013   \n",
       "A_3    0.012875 -0.003080  0.009102  0.028924  0.014875 -0.026156  0.007030   \n",
       "R_1   -0.012616 -0.034768  0.056718 -0.030767  0.019399 -0.003567 -0.017092   \n",
       "R_2   -0.001547  0.012668 -0.020589 -0.025345 -0.007550 -0.004612  0.009128   \n",
       "R_3    0.007028  0.019018  0.018984 -0.008985 -0.024982 -0.003973 -0.009006   \n",
       "R_4    1.000000 -0.002417  0.044544 -0.004418  0.005328 -0.001755 -0.021852   \n",
       "R_5   -0.002417  1.000000  0.020327  0.025751  0.041603 -0.047490  0.008097   \n",
       "R_6    0.044544  0.020327  1.000000  0.008323 -0.005483  0.009586  0.027886   \n",
       "R_7   -0.004418  0.025751  0.008323  1.000000 -0.002417  0.046562  0.020099   \n",
       "R_8    0.005328  0.041603 -0.005483 -0.002417  1.000000  0.016258 -0.011848   \n",
       "R_9   -0.001755 -0.047490  0.009586  0.046562  0.016258  1.000000  0.003175   \n",
       "R_10  -0.021852  0.008097  0.027886  0.020099 -0.011848  0.003175  1.000000   \n",
       "R_11  -0.008787  0.025535 -0.021414  0.013528  0.007226 -0.007877  0.004182   \n",
       "R_12   0.036380  0.000224 -0.014284  0.002225  0.016371  0.011412 -0.010085   \n",
       "R_13   0.014686 -0.025596  0.007484  0.020426  0.014686  0.003757  0.005846   \n",
       "R_14  -0.047094 -0.047054 -0.018944  0.018955 -0.005080 -0.034101  0.005018   \n",
       "R_15   0.023956 -0.018034 -0.029966 -0.010033  0.015953  0.008946 -0.011988   \n",
       "Class  0.071568  0.075734  0.080389  0.063730  0.047556  0.042503  0.040115   \n",
       "\n",
       "           R_11      R_12      R_13      R_14      R_15     Class  \n",
       "A_0   -0.009825  0.021919  0.017850 -0.000982 -0.013988  0.010110  \n",
       "A_1   -0.013409 -0.004281 -0.012527  0.031066  0.016043 -0.003641  \n",
       "A_2    0.017948  0.000028  0.012056 -0.023006 -0.038004 -0.012038  \n",
       "A_3    0.050874  0.021072  0.015135  0.053986  0.008990  0.036916  \n",
       "R_1   -0.006554 -0.025215  0.002611  0.022048  0.015032  0.075291  \n",
       "R_2    0.016381  0.031304 -0.000454 -0.020068 -0.025048  0.088656  \n",
       "R_3   -0.028983 -0.013015  0.006976 -0.005997  0.049002  0.087032  \n",
       "R_4   -0.008787  0.036380  0.014686 -0.047094  0.023956  0.071568  \n",
       "R_5    0.025535  0.000224 -0.025596 -0.047054 -0.018034  0.075734  \n",
       "R_6   -0.021414 -0.014284  0.007484 -0.018944 -0.029966  0.080389  \n",
       "R_7    0.013528  0.002225  0.020426  0.018955 -0.010033  0.063730  \n",
       "R_8    0.007226  0.016371  0.014686 -0.005080  0.015953  0.047556  \n",
       "R_9   -0.007877  0.011412  0.003757 -0.034101  0.008946  0.042503  \n",
       "R_10   0.004182 -0.010085  0.005846  0.005018 -0.011988  0.040115  \n",
       "R_11   1.000000 -0.003582 -0.003223  0.024921  0.025952  0.047489  \n",
       "R_12  -0.003582  1.000000 -0.024375  0.001042 -0.007973  0.056267  \n",
       "R_13  -0.003223 -0.024375  1.000000  0.009081 -0.011952  0.066501  \n",
       "R_14   0.024921  0.001042  0.009081  1.000000 -0.047006  0.068957  \n",
       "R_15   0.025952 -0.007973 -0.011952 -0.047006  1.000000  0.063974  \n",
       "Class  0.047489  0.056267  0.066501  0.068957  0.063974  1.000000  "
      ]
     },
     "execution_count": 16,
     "metadata": {},
     "output_type": "execute_result"
    }
   ],
   "source": [
    "corr"
   ]
  },
  {
   "cell_type": "code",
   "execution_count": 17,
   "metadata": {
    "collapsed": true
   },
   "outputs": [],
   "source": [
    "y = raw_data.iloc[:, -1].values\n",
    "X = raw_data.iloc[:, :-1].values"
   ]
  },
  {
   "cell_type": "markdown",
   "metadata": {},
   "source": [
    "## Part 2: Deep learning"
   ]
  },
  {
   "cell_type": "code",
   "execution_count": 18,
   "metadata": {
    "collapsed": false
   },
   "outputs": [],
   "source": [
    "from keras.models import Sequential\n",
    "from keras.layers import Dense\n",
    "from sklearn.model_selection import StratifiedKFold"
   ]
  },
  {
   "cell_type": "code",
   "execution_count": 19,
   "metadata": {
    "collapsed": true
   },
   "outputs": [],
   "source": [
    "np.random.seed(0)"
   ]
  },
  {
   "cell_type": "code",
   "execution_count": 20,
   "metadata": {
    "collapsed": false
   },
   "outputs": [],
   "source": [
    "kfold = StratifiedKFold(n_splits=10, shuffle=True, random_state=0)"
   ]
  },
  {
   "cell_type": "code",
   "execution_count": 21,
   "metadata": {
    "collapsed": true
   },
   "outputs": [],
   "source": [
    "cv_scores = []"
   ]
  },
  {
   "cell_type": "code",
   "execution_count": 32,
   "metadata": {
    "collapsed": false
   },
   "outputs": [
    {
     "name": "stdout",
     "output_type": "stream",
     "text": [
      "Accuracy: 68.23% +/- 3.27%\n"
     ]
    }
   ],
   "source": [
    "for train, test in kfold.split(X, y):\n",
    "     \n",
    "    model = Sequential()\n",
    "    model.add(Dense(11, input_dim=20, activation='relu'))\n",
    "    model.add(Dense(1, activation='sigmoid'))\n",
    "     \n",
    "    model.compile(loss='binary_crossentropy', optimizer='adam', metrics=['accuracy'])\n",
    "    \n",
    "    model.fit(X[train], y[train], epochs=50,batch_size=10, verbose=0)\n",
    "    \n",
    "    scores = model.evaluate(X[test], y[test], verbose=0)\n",
    "    cv_scores.append(scores[1] * 100)\n",
    "print(\"Accuracy: \" + \"%.2f%% +/- %.2f%%\" % (np.mean(cv_scores), np.std(cv_scores)))"
   ]
  },
  {
   "cell_type": "markdown",
   "metadata": {
    "collapsed": true
   },
   "source": [
    "### Change activation function  \n",
    "Try TanH"
   ]
  },
  {
   "cell_type": "code",
   "execution_count": 34,
   "metadata": {
    "collapsed": false
   },
   "outputs": [
    {
     "name": "stdout",
     "output_type": "stream",
     "text": [
      "Accuracy: 65.29% +/- 2.37%\n"
     ]
    }
   ],
   "source": [
    "cv_scores = []\n",
    "for train, test in kfold.split(X, y):\n",
    "     \n",
    "    model = Sequential()\n",
    "    model.add(Dense(11, input_dim=20, activation='tanh'))\n",
    "    model.add(Dense(1, activation='sigmoid'))\n",
    "     \n",
    "    model.compile(loss='binary_crossentropy', optimizer='adam', metrics=['accuracy'])\n",
    "    \n",
    "    model.fit(X[train], y[train], epochs=50,batch_size=10, verbose=0)\n",
    "    \n",
    "    scores = model.evaluate(X[test], y[test], verbose=0)\n",
    "    cv_scores.append(scores[1] * 100)\n",
    "print(\"Accuracy: \" + \"%.2f%% +/- %.2f%%\" % (np.mean(cv_scores), np.std(cv_scores)))"
   ]
  },
  {
   "cell_type": "markdown",
   "metadata": {},
   "source": [
    "Try Sigmoid"
   ]
  },
  {
   "cell_type": "code",
   "execution_count": 36,
   "metadata": {
    "collapsed": false
   },
   "outputs": [
    {
     "name": "stdout",
     "output_type": "stream",
     "text": [
      "Accuracy: 60.85% +/- 4.59%\n"
     ]
    }
   ],
   "source": [
    "cv_scores = []\n",
    "for train, test in kfold.split(X, y):\n",
    "     \n",
    "    model = Sequential()\n",
    "    model.add(Dense(11, input_dim=20, activation='sigmoid'))\n",
    "    model.add(Dense(1, activation='sigmoid'))\n",
    "     \n",
    "    model.compile(loss='binary_crossentropy', optimizer='adam', metrics=['accuracy'])\n",
    "    \n",
    "    model.fit(X[train], y[train], epochs=50,batch_size=10, verbose=0)\n",
    "    \n",
    "    scores = model.evaluate(X[test], y[test], verbose=0)\n",
    "    cv_scores.append(scores[1] * 100)\n",
    "print(\"Accuracy: \" + \"%.2f%% +/- %.2f%%\" % (np.mean(cv_scores), np.std(cv_scores)))"
   ]
  },
  {
   "cell_type": "markdown",
   "metadata": {},
   "source": [
    "From above, activation function relu seems to have the best performance. Thus, I will continue with relu."
   ]
  },
  {
   "cell_type": "markdown",
   "metadata": {},
   "source": [
    "### Change hidden layer size"
   ]
  },
  {
   "cell_type": "markdown",
   "metadata": {},
   "source": [
    "Try a smaller hidden layer size: 6"
   ]
  },
  {
   "cell_type": "code",
   "execution_count": 40,
   "metadata": {
    "collapsed": false
   },
   "outputs": [
    {
     "name": "stdout",
     "output_type": "stream",
     "text": [
      "Accuracy: 63.65% +/- 4.37%\n"
     ]
    }
   ],
   "source": [
    "cv_scores = []\n",
    "for train, test in kfold.split(X, y):\n",
    "     \n",
    "    model = Sequential()\n",
    "    model.add(Dense(6, input_dim=20, activation='relu'))\n",
    "    model.add(Dense(1, activation='sigmoid'))\n",
    "     \n",
    "    model.compile(loss='binary_crossentropy', optimizer='adam', metrics=['accuracy'])\n",
    "    \n",
    "    model.fit(X[train], y[train], epochs=50,batch_size=10, verbose=0)\n",
    "    \n",
    "    scores = model.evaluate(X[test], y[test], verbose=0)\n",
    "    cv_scores.append(scores[1] * 100)\n",
    "print(\"Accuracy: \" + \"%.2f%% +/- %.2f%%\" % (np.mean(cv_scores), np.std(cv_scores)))"
   ]
  },
  {
   "cell_type": "markdown",
   "metadata": {},
   "source": [
    "Try a bigger hidden layer size: 16"
   ]
  },
  {
   "cell_type": "code",
   "execution_count": 41,
   "metadata": {
    "collapsed": false
   },
   "outputs": [
    {
     "name": "stdout",
     "output_type": "stream",
     "text": [
      "Accuracy: 70.35% +/- 2.31%\n"
     ]
    }
   ],
   "source": [
    "cv_scores = []\n",
    "for train, test in kfold.split(X, y):\n",
    "     \n",
    "    model = Sequential()\n",
    "    model.add(Dense(16, input_dim=20, activation='relu'))\n",
    "    model.add(Dense(1, activation='sigmoid'))\n",
    "     \n",
    "    model.compile(loss='binary_crossentropy', optimizer='adam', metrics=['accuracy'])\n",
    "    \n",
    "    model.fit(X[train], y[train], epochs=50,batch_size=10, verbose=0)\n",
    "    \n",
    "    scores = model.evaluate(X[test], y[test], verbose=0)\n",
    "    cv_scores.append(scores[1] * 100)\n",
    "print(\"Accuracy: \" + \"%.2f%% +/- %.2f%%\" % (np.mean(cv_scores), np.std(cv_scores)))"
   ]
  },
  {
   "cell_type": "markdown",
   "metadata": {},
   "source": [
    "Hidden layer size 16 has better performance here. "
   ]
  },
  {
   "cell_type": "markdown",
   "metadata": {},
   "source": [
    "### Change hidden layer number"
   ]
  },
  {
   "cell_type": "markdown",
   "metadata": {},
   "source": [
    "Try two hidden layers with size 16 and 6, respectively."
   ]
  },
  {
   "cell_type": "code",
   "execution_count": 43,
   "metadata": {
    "collapsed": false
   },
   "outputs": [
    {
     "name": "stdout",
     "output_type": "stream",
     "text": [
      "Accuracy: 72.30% +/- 3.20%\n"
     ]
    }
   ],
   "source": [
    "cv_scores = []\n",
    "for train, test in kfold.split(X, y):\n",
    "     \n",
    "    model = Sequential()\n",
    "    model.add(Dense(16, input_dim=20, activation='relu'))\n",
    "    model.add(Dense(6, activation='relu'))\n",
    "    model.add(Dense(1, activation='sigmoid'))\n",
    "     \n",
    "    model.compile(loss='binary_crossentropy', optimizer='adam', metrics=['accuracy'])\n",
    "    \n",
    "    model.fit(X[train], y[train], epochs=50,batch_size=10, verbose=0)\n",
    "    \n",
    "    scores = model.evaluate(X[test], y[test], verbose=0)\n",
    "    cv_scores.append(scores[1] * 100)\n",
    "print(\"Accuracy: \" + \"%.2f%% +/- %.2f%%\" % (np.mean(cv_scores), np.std(cv_scores)))"
   ]
  },
  {
   "cell_type": "markdown",
   "metadata": {},
   "source": [
    "Try two hidden layers with size 16 and 11, respectively."
   ]
  },
  {
   "cell_type": "code",
   "execution_count": 44,
   "metadata": {
    "collapsed": false
   },
   "outputs": [
    {
     "name": "stdout",
     "output_type": "stream",
     "text": [
      "Accuracy: 73.80% +/- 2.56%\n"
     ]
    }
   ],
   "source": [
    "cv_scores = []\n",
    "for train, test in kfold.split(X, y):\n",
    "     \n",
    "    model = Sequential()\n",
    "    model.add(Dense(16, input_dim=20, activation='relu'))\n",
    "    model.add(Dense(11, activation='relu'))\n",
    "    model.add(Dense(1, activation='sigmoid'))\n",
    "     \n",
    "    model.compile(loss='binary_crossentropy', optimizer='adam', metrics=['accuracy'])\n",
    "    \n",
    "    model.fit(X[train], y[train], epochs=50,batch_size=10, verbose=0)\n",
    "    \n",
    "    scores = model.evaluate(X[test], y[test], verbose=0)\n",
    "    cv_scores.append(scores[1] * 100)\n",
    "print(\"Accuracy: \" + \"%.2f%% +/- %.2f%%\" % (np.mean(cv_scores), np.std(cv_scores)))"
   ]
  },
  {
   "cell_type": "markdown",
   "metadata": {},
   "source": [
    "Try two hidden layers with size 16 and 16, respectively."
   ]
  },
  {
   "cell_type": "code",
   "execution_count": 45,
   "metadata": {
    "collapsed": false
   },
   "outputs": [
    {
     "name": "stdout",
     "output_type": "stream",
     "text": [
      "Accuracy: 74.05% +/- 3.57%\n"
     ]
    }
   ],
   "source": [
    "cv_scores = []\n",
    "for train, test in kfold.split(X, y):\n",
    "     \n",
    "    model = Sequential()\n",
    "    model.add(Dense(16, input_dim=20, activation='relu'))\n",
    "    model.add(Dense(16, activation='relu'))\n",
    "    model.add(Dense(1, activation='sigmoid'))\n",
    "     \n",
    "    model.compile(loss='binary_crossentropy', optimizer='adam', metrics=['accuracy'])\n",
    "    \n",
    "    model.fit(X[train], y[train], epochs=50,batch_size=10, verbose=0)\n",
    "    \n",
    "    scores = model.evaluate(X[test], y[test], verbose=0)\n",
    "    cv_scores.append(scores[1] * 100)\n",
    "print(\"Accuracy: \" + \"%.2f%% +/- %.2f%%\" % (np.mean(cv_scores), np.std(cv_scores)))"
   ]
  },
  {
   "cell_type": "markdown",
   "metadata": {},
   "source": [
    "Try two hidden layers with size 16 and 21, respectively."
   ]
  },
  {
   "cell_type": "code",
   "execution_count": 46,
   "metadata": {
    "collapsed": false
   },
   "outputs": [
    {
     "name": "stdout",
     "output_type": "stream",
     "text": [
      "Accuracy: 74.40% +/- 3.70%\n"
     ]
    }
   ],
   "source": [
    "cv_scores = []\n",
    "for train, test in kfold.split(X, y):\n",
    "     \n",
    "    model = Sequential()\n",
    "    model.add(Dense(16, input_dim=20, activation='relu'))\n",
    "    model.add(Dense(21, activation='relu'))\n",
    "    model.add(Dense(1, activation='sigmoid'))\n",
    "     \n",
    "    model.compile(loss='binary_crossentropy', optimizer='adam', metrics=['accuracy'])\n",
    "    \n",
    "    model.fit(X[train], y[train], epochs=50,batch_size=10, verbose=0)\n",
    "    \n",
    "    scores = model.evaluate(X[test], y[test], verbose=0)\n",
    "    cv_scores.append(scores[1] * 100)\n",
    "print(\"Accuracy: \" + \"%.2f%% +/- %.2f%%\" % (np.mean(cv_scores), np.std(cv_scores)))"
   ]
  },
  {
   "cell_type": "markdown",
   "metadata": {},
   "source": [
    "Try two hidden layers with size 16 and 26, respectively."
   ]
  },
  {
   "cell_type": "code",
   "execution_count": 48,
   "metadata": {
    "collapsed": false,
    "scrolled": true
   },
   "outputs": [
    {
     "name": "stdout",
     "output_type": "stream",
     "text": [
      "Accuracy: 75.80% +/- 3.11%\n"
     ]
    }
   ],
   "source": [
    "cv_scores = []\n",
    "for train, test in kfold.split(X, y):\n",
    "     \n",
    "    model = Sequential()\n",
    "    model.add(Dense(16, input_dim=20, activation='relu'))\n",
    "    model.add(Dense(26, activation='relu'))\n",
    "    model.add(Dense(1, activation='sigmoid'))\n",
    "     \n",
    "    model.compile(loss='binary_crossentropy', optimizer='adam', metrics=['accuracy'])\n",
    "    \n",
    "    model.fit(X[train], y[train], epochs=50,batch_size=10, verbose=0)\n",
    "    \n",
    "    scores = model.evaluate(X[test], y[test], verbose=0)\n",
    "    cv_scores.append(scores[1] * 100)\n",
    "print(\"Accuracy: \" + \"%.2f%% +/- %.2f%%\" % (np.mean(cv_scores), np.std(cv_scores)))"
   ]
  },
  {
   "cell_type": "markdown",
   "metadata": {},
   "source": [
    "Try two hidden layers with size 16 and 31, respectively."
   ]
  },
  {
   "cell_type": "code",
   "execution_count": 49,
   "metadata": {
    "collapsed": false
   },
   "outputs": [
    {
     "name": "stdout",
     "output_type": "stream",
     "text": [
      "Accuracy: 76.05% +/- 2.72%\n"
     ]
    }
   ],
   "source": [
    "cv_scores = []\n",
    "for train, test in kfold.split(X, y):\n",
    "     \n",
    "    model = Sequential()\n",
    "    model.add(Dense(16, input_dim=20, activation='relu'))\n",
    "    model.add(Dense(31, activation='relu'))\n",
    "    model.add(Dense(1, activation='sigmoid'))\n",
    "     \n",
    "    model.compile(loss='binary_crossentropy', optimizer='adam', metrics=['accuracy'])\n",
    "    \n",
    "    model.fit(X[train], y[train], epochs=50,batch_size=10, verbose=0)\n",
    "    \n",
    "    scores = model.evaluate(X[test], y[test], verbose=0)\n",
    "    cv_scores.append(scores[1] * 100)\n",
    "print(\"Accuracy: \" + \"%.2f%% +/- %.2f%%\" % (np.mean(cv_scores), np.std(cv_scores)))"
   ]
  },
  {
   "cell_type": "markdown",
   "metadata": {},
   "source": [
    "Try two hidden layers with size 16 and 41, respectively."
   ]
  },
  {
   "cell_type": "code",
   "execution_count": 51,
   "metadata": {
    "collapsed": false
   },
   "outputs": [
    {
     "name": "stdout",
     "output_type": "stream",
     "text": [
      "Accuracy: 75.95% +/- 3.17%\n"
     ]
    }
   ],
   "source": [
    "cv_scores = []\n",
    "for train, test in kfold.split(X, y):\n",
    "     \n",
    "    model = Sequential()\n",
    "    model.add(Dense(16, input_dim=20, activation='relu'))\n",
    "    model.add(Dense(41, activation='relu'))\n",
    "    model.add(Dense(1, activation='sigmoid'))\n",
    "     \n",
    "    model.compile(loss='binary_crossentropy', optimizer='adam', metrics=['accuracy'])\n",
    "    \n",
    "    model.fit(X[train], y[train], epochs=50,batch_size=10, verbose=0)\n",
    "    \n",
    "    scores = model.evaluate(X[test], y[test], verbose=0)\n",
    "    cv_scores.append(scores[1] * 100)\n",
    "print(\"Accuracy: \" + \"%.2f%% +/- %.2f%%\" % (np.mean(cv_scores), np.std(cv_scores)))"
   ]
  },
  {
   "cell_type": "markdown",
   "metadata": {},
   "source": [
    "References:<br>\n",
    "https://machinelearningmastery.com/evaluate-performance-deep-learning-models-keras/<br>\n",
    "https://keras.io/models/model/<br>\n",
    "https://towardsdatascience.com/https-medium-com-piotr-skalski92-deep-dive-into-deep-networks-math-17660bc376ba<br>"
   ]
  }
 ],
 "metadata": {
  "kernelspec": {
   "display_name": "Python 3",
   "language": "python",
   "name": "python3"
  },
  "language_info": {
   "codemirror_mode": {
    "name": "ipython",
    "version": 3
   },
   "file_extension": ".py",
   "mimetype": "text/x-python",
   "name": "python",
   "nbconvert_exporter": "python",
   "pygments_lexer": "ipython3",
   "version": "3.6.2"
  }
 },
 "nbformat": 4,
 "nbformat_minor": 2
}
