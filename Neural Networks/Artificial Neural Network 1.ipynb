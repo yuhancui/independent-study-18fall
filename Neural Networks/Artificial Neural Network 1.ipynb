{
 "cells": [
  {
   "cell_type": "markdown",
   "metadata": {
    "collapsed": true
   },
   "source": [
    "# Artificial Neural Network"
   ]
  },
  {
   "cell_type": "markdown",
   "metadata": {
    "collapsed": true
   },
   "source": [
    "An artificial neural network is an interconnected group of nodes, akin to the vast network of neurons in a brain. Here, each circular node represents an artificial neuron and an arrow represents a connection from the output of one artificial neuron to the input of another.\n",
    "Artificial neural networks (ANN) or connectionist systems are computing systems vaguely inspired by the biological neural networks that constitute animal brains.The neural network itself isn't an algorithm, but rather a framework for many different machine learning algorithms to work together and process complex data inputs.Such systems \"learn\" to perform tasks by considering examples, generally without being programmed with any task-specific rules. "
   ]
  },
  {
   "cell_type": "markdown",
   "metadata": {
    "collapsed": true
   },
   "source": [
    "An ANN is based on a collection of connected units or nodes called artificial neurons, which loosely model the neurons in a biological brain. Each connection, like the synapses in a biological brain, can transmit a signal from one artificial neuron to another. An artificial neuron that receives a signal can process it and then signal additional artificial neurons connected to it.\n",
    "\n",
    "In common ANN implementations, the signal at a connection between artificial neurons is a real number, and the output of each artificial neuron is computed by some non-linear function of the sum of its inputs. The connections between artificial neurons are called 'edges'. Artificial neurons and edges typically have a weight that adjusts as learning proceeds. The weight increases or decreases the strength of the signal at a connection. Artificial neurons may have a threshold such that the signal is only sent if the aggregate signal crosses that threshold. Typically, artificial neurons are aggregated into layers. Different layers may perform different kinds of transformations on their inputs. Signals travel from the first layer (the input layer), to the last layer (the output layer), possibly after traversing the layers multiple times.\n",
    "\n",
    "The original goal of the ANN approach was to solve problems in the same way that a human brain would. However, over time, attention moved to performing specific tasks, leading to deviations from biology. Artificial neural networks have been used on a variety of tasks."
   ]
  },
  {
   "cell_type": "markdown",
   "metadata": {
    "collapsed": true
   },
   "source": [
    "![title](nn.png)"
   ]
  },
  {
   "cell_type": "markdown",
   "metadata": {
    "collapsed": true
   },
   "source": [
    "An artificial neural network is an interconnected group of nodes, akin to the vast network of neurons in a brain. Here, each circular node represents an artificial neuron and an arrow represents a connection from the output of one artificial neuron to the input of another."
   ]
  },
  {
   "cell_type": "markdown",
   "metadata": {},
   "source": [
    "## Part 1: Data exploration\n",
    "### Understand raw data"
   ]
  },
  {
   "cell_type": "code",
   "execution_count": 136,
   "metadata": {
    "collapsed": true
   },
   "outputs": [],
   "source": [
    "import warnings\n",
    "warnings.filterwarnings('ignore')\n",
    "\n",
    "import pandas as pd\n",
    "import matplotlib.pyplot as plt\n",
    "import seaborn as sb\n",
    "import numpy as np\n",
    "import sklearn\n",
    "%matplotlib inline"
   ]
  },
  {
   "cell_type": "code",
   "execution_count": 137,
   "metadata": {
    "collapsed": false
   },
   "outputs": [],
   "source": [
    "pd.set_option('display.max_columns', None)# display all the columns\n",
    "raw_data = pd.read_csv('a_20s_1600_Het_h_0.4MAF_0.2_r_50_EDM-2_01.txt', sep = \"\\t\")# read in dataset"
   ]
  },
  {
   "cell_type": "code",
   "execution_count": 138,
   "metadata": {
    "collapsed": false
   },
   "outputs": [
    {
     "data": {
      "text/html": [
       "<div>\n",
       "<style scoped>\n",
       "    .dataframe tbody tr th:only-of-type {\n",
       "        vertical-align: middle;\n",
       "    }\n",
       "\n",
       "    .dataframe tbody tr th {\n",
       "        vertical-align: top;\n",
       "    }\n",
       "\n",
       "    .dataframe thead th {\n",
       "        text-align: right;\n",
       "    }\n",
       "</style>\n",
       "<table border=\"1\" class=\"dataframe\">\n",
       "  <thead>\n",
       "    <tr style=\"text-align: right;\">\n",
       "      <th></th>\n",
       "      <th>N0</th>\n",
       "      <th>N1</th>\n",
       "      <th>N2</th>\n",
       "      <th>N3</th>\n",
       "      <th>N4</th>\n",
       "      <th>N5</th>\n",
       "      <th>N6</th>\n",
       "      <th>N7</th>\n",
       "      <th>N8</th>\n",
       "      <th>N9</th>\n",
       "      <th>N10</th>\n",
       "      <th>N11</th>\n",
       "      <th>N12</th>\n",
       "      <th>N13</th>\n",
       "      <th>N14</th>\n",
       "      <th>N15</th>\n",
       "      <th>M0P0</th>\n",
       "      <th>M1P0</th>\n",
       "      <th>M2P0</th>\n",
       "      <th>M3P0</th>\n",
       "      <th>Class</th>\n",
       "    </tr>\n",
       "  </thead>\n",
       "  <tbody>\n",
       "    <tr>\n",
       "      <th>0</th>\n",
       "      <td>0</td>\n",
       "      <td>0</td>\n",
       "      <td>1</td>\n",
       "      <td>1</td>\n",
       "      <td>0</td>\n",
       "      <td>0</td>\n",
       "      <td>2</td>\n",
       "      <td>0</td>\n",
       "      <td>0</td>\n",
       "      <td>2</td>\n",
       "      <td>2</td>\n",
       "      <td>0</td>\n",
       "      <td>0</td>\n",
       "      <td>1</td>\n",
       "      <td>2</td>\n",
       "      <td>0</td>\n",
       "      <td>1</td>\n",
       "      <td>1</td>\n",
       "      <td>1</td>\n",
       "      <td>1</td>\n",
       "      <td>1</td>\n",
       "    </tr>\n",
       "    <tr>\n",
       "      <th>1</th>\n",
       "      <td>0</td>\n",
       "      <td>2</td>\n",
       "      <td>1</td>\n",
       "      <td>1</td>\n",
       "      <td>0</td>\n",
       "      <td>1</td>\n",
       "      <td>0</td>\n",
       "      <td>0</td>\n",
       "      <td>0</td>\n",
       "      <td>1</td>\n",
       "      <td>1</td>\n",
       "      <td>0</td>\n",
       "      <td>0</td>\n",
       "      <td>2</td>\n",
       "      <td>1</td>\n",
       "      <td>0</td>\n",
       "      <td>1</td>\n",
       "      <td>1</td>\n",
       "      <td>1</td>\n",
       "      <td>1</td>\n",
       "      <td>1</td>\n",
       "    </tr>\n",
       "    <tr>\n",
       "      <th>2</th>\n",
       "      <td>0</td>\n",
       "      <td>0</td>\n",
       "      <td>0</td>\n",
       "      <td>0</td>\n",
       "      <td>0</td>\n",
       "      <td>1</td>\n",
       "      <td>0</td>\n",
       "      <td>0</td>\n",
       "      <td>0</td>\n",
       "      <td>1</td>\n",
       "      <td>0</td>\n",
       "      <td>0</td>\n",
       "      <td>0</td>\n",
       "      <td>1</td>\n",
       "      <td>1</td>\n",
       "      <td>0</td>\n",
       "      <td>1</td>\n",
       "      <td>1</td>\n",
       "      <td>0</td>\n",
       "      <td>1</td>\n",
       "      <td>1</td>\n",
       "    </tr>\n",
       "    <tr>\n",
       "      <th>3</th>\n",
       "      <td>0</td>\n",
       "      <td>2</td>\n",
       "      <td>0</td>\n",
       "      <td>1</td>\n",
       "      <td>0</td>\n",
       "      <td>0</td>\n",
       "      <td>0</td>\n",
       "      <td>0</td>\n",
       "      <td>0</td>\n",
       "      <td>1</td>\n",
       "      <td>1</td>\n",
       "      <td>0</td>\n",
       "      <td>0</td>\n",
       "      <td>2</td>\n",
       "      <td>0</td>\n",
       "      <td>0</td>\n",
       "      <td>1</td>\n",
       "      <td>1</td>\n",
       "      <td>1</td>\n",
       "      <td>1</td>\n",
       "      <td>1</td>\n",
       "    </tr>\n",
       "    <tr>\n",
       "      <th>4</th>\n",
       "      <td>0</td>\n",
       "      <td>0</td>\n",
       "      <td>1</td>\n",
       "      <td>1</td>\n",
       "      <td>0</td>\n",
       "      <td>0</td>\n",
       "      <td>1</td>\n",
       "      <td>1</td>\n",
       "      <td>0</td>\n",
       "      <td>0</td>\n",
       "      <td>0</td>\n",
       "      <td>0</td>\n",
       "      <td>0</td>\n",
       "      <td>1</td>\n",
       "      <td>1</td>\n",
       "      <td>1</td>\n",
       "      <td>1</td>\n",
       "      <td>1</td>\n",
       "      <td>1</td>\n",
       "      <td>0</td>\n",
       "      <td>1</td>\n",
       "    </tr>\n",
       "  </tbody>\n",
       "</table>\n",
       "</div>"
      ],
      "text/plain": [
       "   N0  N1  N2  N3  N4  N5  N6  N7  N8  N9  N10  N11  N12  N13  N14  N15  M0P0  \\\n",
       "0   0   0   1   1   0   0   2   0   0   2    2    0    0    1    2    0     1   \n",
       "1   0   2   1   1   0   1   0   0   0   1    1    0    0    2    1    0     1   \n",
       "2   0   0   0   0   0   1   0   0   0   1    0    0    0    1    1    0     1   \n",
       "3   0   2   0   1   0   0   0   0   0   1    1    0    0    2    0    0     1   \n",
       "4   0   0   1   1   0   0   1   1   0   0    0    0    0    1    1    1     1   \n",
       "\n",
       "   M1P0  M2P0  M3P0  Class  \n",
       "0     1     1     1      1  \n",
       "1     1     1     1      1  \n",
       "2     1     0     1      1  \n",
       "3     1     1     1      1  \n",
       "4     1     1     0      1  "
      ]
     },
     "execution_count": 138,
     "metadata": {},
     "output_type": "execute_result"
    }
   ],
   "source": [
    "raw_data.head()"
   ]
  },
  {
   "cell_type": "code",
   "execution_count": 139,
   "metadata": {
    "collapsed": false
   },
   "outputs": [
    {
     "name": "stdout",
     "output_type": "stream",
     "text": [
      "Number of rows: 1600\n",
      "Number of columns: 21\n"
     ]
    }
   ],
   "source": [
    "print (\"Number of rows: \" + str(raw_data.shape[0])) # row count\n",
    "print (\"Number of columns: \" + str(raw_data.shape[1])) # column count"
   ]
  },
  {
   "cell_type": "code",
   "execution_count": 140,
   "metadata": {
    "collapsed": false
   },
   "outputs": [
    {
     "data": {
      "text/html": [
       "<div>\n",
       "<style scoped>\n",
       "    .dataframe tbody tr th:only-of-type {\n",
       "        vertical-align: middle;\n",
       "    }\n",
       "\n",
       "    .dataframe tbody tr th {\n",
       "        vertical-align: top;\n",
       "    }\n",
       "\n",
       "    .dataframe thead th {\n",
       "        text-align: right;\n",
       "    }\n",
       "</style>\n",
       "<table border=\"1\" class=\"dataframe\">\n",
       "  <thead>\n",
       "    <tr style=\"text-align: right;\">\n",
       "      <th></th>\n",
       "      <th>N0</th>\n",
       "      <th>N1</th>\n",
       "      <th>N2</th>\n",
       "      <th>N3</th>\n",
       "      <th>N4</th>\n",
       "      <th>N5</th>\n",
       "      <th>N6</th>\n",
       "      <th>N7</th>\n",
       "      <th>N8</th>\n",
       "      <th>N9</th>\n",
       "      <th>N10</th>\n",
       "      <th>N11</th>\n",
       "      <th>N12</th>\n",
       "      <th>N13</th>\n",
       "      <th>N14</th>\n",
       "      <th>N15</th>\n",
       "      <th>M0P0</th>\n",
       "      <th>M1P0</th>\n",
       "      <th>M2P0</th>\n",
       "      <th>M3P0</th>\n",
       "      <th>Class</th>\n",
       "    </tr>\n",
       "  </thead>\n",
       "  <tbody>\n",
       "    <tr>\n",
       "      <th>count</th>\n",
       "      <td>1600.000000</td>\n",
       "      <td>1600.000000</td>\n",
       "      <td>1600.000000</td>\n",
       "      <td>1600.000000</td>\n",
       "      <td>1600.000000</td>\n",
       "      <td>1600.000000</td>\n",
       "      <td>1600.000000</td>\n",
       "      <td>1600.000000</td>\n",
       "      <td>1600.000000</td>\n",
       "      <td>1600.000000</td>\n",
       "      <td>1600.000000</td>\n",
       "      <td>1600.000000</td>\n",
       "      <td>1600.000000</td>\n",
       "      <td>1600.00000</td>\n",
       "      <td>1600.000000</td>\n",
       "      <td>1600.000000</td>\n",
       "      <td>1600.000000</td>\n",
       "      <td>1600.00000</td>\n",
       "      <td>1600.000000</td>\n",
       "      <td>1600.000000</td>\n",
       "      <td>1600.000000</td>\n",
       "    </tr>\n",
       "    <tr>\n",
       "      <th>mean</th>\n",
       "      <td>0.081250</td>\n",
       "      <td>0.719375</td>\n",
       "      <td>0.379375</td>\n",
       "      <td>0.806250</td>\n",
       "      <td>0.072500</td>\n",
       "      <td>0.837500</td>\n",
       "      <td>0.488125</td>\n",
       "      <td>0.653125</td>\n",
       "      <td>0.354375</td>\n",
       "      <td>1.007500</td>\n",
       "      <td>0.515000</td>\n",
       "      <td>0.080625</td>\n",
       "      <td>0.258750</td>\n",
       "      <td>0.83875</td>\n",
       "      <td>0.900000</td>\n",
       "      <td>0.403750</td>\n",
       "      <td>0.530000</td>\n",
       "      <td>0.53000</td>\n",
       "      <td>0.518750</td>\n",
       "      <td>0.516250</td>\n",
       "      <td>0.500000</td>\n",
       "    </tr>\n",
       "    <tr>\n",
       "      <th>std</th>\n",
       "      <td>0.275583</td>\n",
       "      <td>0.675211</td>\n",
       "      <td>0.560710</td>\n",
       "      <td>0.691202</td>\n",
       "      <td>0.264173</td>\n",
       "      <td>0.703671</td>\n",
       "      <td>0.611427</td>\n",
       "      <td>0.668455</td>\n",
       "      <td>0.541042</td>\n",
       "      <td>0.715202</td>\n",
       "      <td>0.630495</td>\n",
       "      <td>0.285790</td>\n",
       "      <td>0.477693</td>\n",
       "      <td>0.71191</td>\n",
       "      <td>0.687601</td>\n",
       "      <td>0.569815</td>\n",
       "      <td>0.579275</td>\n",
       "      <td>0.60152</td>\n",
       "      <td>0.581902</td>\n",
       "      <td>0.572224</td>\n",
       "      <td>0.500156</td>\n",
       "    </tr>\n",
       "    <tr>\n",
       "      <th>min</th>\n",
       "      <td>0.000000</td>\n",
       "      <td>0.000000</td>\n",
       "      <td>0.000000</td>\n",
       "      <td>0.000000</td>\n",
       "      <td>0.000000</td>\n",
       "      <td>0.000000</td>\n",
       "      <td>0.000000</td>\n",
       "      <td>0.000000</td>\n",
       "      <td>0.000000</td>\n",
       "      <td>0.000000</td>\n",
       "      <td>0.000000</td>\n",
       "      <td>0.000000</td>\n",
       "      <td>0.000000</td>\n",
       "      <td>0.00000</td>\n",
       "      <td>0.000000</td>\n",
       "      <td>0.000000</td>\n",
       "      <td>0.000000</td>\n",
       "      <td>0.00000</td>\n",
       "      <td>0.000000</td>\n",
       "      <td>0.000000</td>\n",
       "      <td>0.000000</td>\n",
       "    </tr>\n",
       "    <tr>\n",
       "      <th>25%</th>\n",
       "      <td>0.000000</td>\n",
       "      <td>0.000000</td>\n",
       "      <td>0.000000</td>\n",
       "      <td>0.000000</td>\n",
       "      <td>0.000000</td>\n",
       "      <td>0.000000</td>\n",
       "      <td>0.000000</td>\n",
       "      <td>0.000000</td>\n",
       "      <td>0.000000</td>\n",
       "      <td>0.000000</td>\n",
       "      <td>0.000000</td>\n",
       "      <td>0.000000</td>\n",
       "      <td>0.000000</td>\n",
       "      <td>0.00000</td>\n",
       "      <td>0.000000</td>\n",
       "      <td>0.000000</td>\n",
       "      <td>0.000000</td>\n",
       "      <td>0.00000</td>\n",
       "      <td>0.000000</td>\n",
       "      <td>0.000000</td>\n",
       "      <td>0.000000</td>\n",
       "    </tr>\n",
       "    <tr>\n",
       "      <th>50%</th>\n",
       "      <td>0.000000</td>\n",
       "      <td>1.000000</td>\n",
       "      <td>0.000000</td>\n",
       "      <td>1.000000</td>\n",
       "      <td>0.000000</td>\n",
       "      <td>1.000000</td>\n",
       "      <td>0.000000</td>\n",
       "      <td>1.000000</td>\n",
       "      <td>0.000000</td>\n",
       "      <td>1.000000</td>\n",
       "      <td>0.000000</td>\n",
       "      <td>0.000000</td>\n",
       "      <td>0.000000</td>\n",
       "      <td>1.00000</td>\n",
       "      <td>1.000000</td>\n",
       "      <td>0.000000</td>\n",
       "      <td>0.000000</td>\n",
       "      <td>0.00000</td>\n",
       "      <td>0.000000</td>\n",
       "      <td>0.000000</td>\n",
       "      <td>0.500000</td>\n",
       "    </tr>\n",
       "    <tr>\n",
       "      <th>75%</th>\n",
       "      <td>0.000000</td>\n",
       "      <td>1.000000</td>\n",
       "      <td>1.000000</td>\n",
       "      <td>1.000000</td>\n",
       "      <td>0.000000</td>\n",
       "      <td>1.000000</td>\n",
       "      <td>1.000000</td>\n",
       "      <td>1.000000</td>\n",
       "      <td>1.000000</td>\n",
       "      <td>2.000000</td>\n",
       "      <td>1.000000</td>\n",
       "      <td>0.000000</td>\n",
       "      <td>0.000000</td>\n",
       "      <td>1.00000</td>\n",
       "      <td>1.000000</td>\n",
       "      <td>1.000000</td>\n",
       "      <td>1.000000</td>\n",
       "      <td>1.00000</td>\n",
       "      <td>1.000000</td>\n",
       "      <td>1.000000</td>\n",
       "      <td>1.000000</td>\n",
       "    </tr>\n",
       "    <tr>\n",
       "      <th>max</th>\n",
       "      <td>2.000000</td>\n",
       "      <td>2.000000</td>\n",
       "      <td>2.000000</td>\n",
       "      <td>2.000000</td>\n",
       "      <td>2.000000</td>\n",
       "      <td>2.000000</td>\n",
       "      <td>2.000000</td>\n",
       "      <td>2.000000</td>\n",
       "      <td>2.000000</td>\n",
       "      <td>2.000000</td>\n",
       "      <td>2.000000</td>\n",
       "      <td>2.000000</td>\n",
       "      <td>2.000000</td>\n",
       "      <td>2.00000</td>\n",
       "      <td>2.000000</td>\n",
       "      <td>2.000000</td>\n",
       "      <td>2.000000</td>\n",
       "      <td>2.00000</td>\n",
       "      <td>2.000000</td>\n",
       "      <td>2.000000</td>\n",
       "      <td>1.000000</td>\n",
       "    </tr>\n",
       "  </tbody>\n",
       "</table>\n",
       "</div>"
      ],
      "text/plain": [
       "                N0           N1           N2           N3           N4  \\\n",
       "count  1600.000000  1600.000000  1600.000000  1600.000000  1600.000000   \n",
       "mean      0.081250     0.719375     0.379375     0.806250     0.072500   \n",
       "std       0.275583     0.675211     0.560710     0.691202     0.264173   \n",
       "min       0.000000     0.000000     0.000000     0.000000     0.000000   \n",
       "25%       0.000000     0.000000     0.000000     0.000000     0.000000   \n",
       "50%       0.000000     1.000000     0.000000     1.000000     0.000000   \n",
       "75%       0.000000     1.000000     1.000000     1.000000     0.000000   \n",
       "max       2.000000     2.000000     2.000000     2.000000     2.000000   \n",
       "\n",
       "                N5           N6           N7           N8           N9  \\\n",
       "count  1600.000000  1600.000000  1600.000000  1600.000000  1600.000000   \n",
       "mean      0.837500     0.488125     0.653125     0.354375     1.007500   \n",
       "std       0.703671     0.611427     0.668455     0.541042     0.715202   \n",
       "min       0.000000     0.000000     0.000000     0.000000     0.000000   \n",
       "25%       0.000000     0.000000     0.000000     0.000000     0.000000   \n",
       "50%       1.000000     0.000000     1.000000     0.000000     1.000000   \n",
       "75%       1.000000     1.000000     1.000000     1.000000     2.000000   \n",
       "max       2.000000     2.000000     2.000000     2.000000     2.000000   \n",
       "\n",
       "               N10          N11          N12         N13          N14  \\\n",
       "count  1600.000000  1600.000000  1600.000000  1600.00000  1600.000000   \n",
       "mean      0.515000     0.080625     0.258750     0.83875     0.900000   \n",
       "std       0.630495     0.285790     0.477693     0.71191     0.687601   \n",
       "min       0.000000     0.000000     0.000000     0.00000     0.000000   \n",
       "25%       0.000000     0.000000     0.000000     0.00000     0.000000   \n",
       "50%       0.000000     0.000000     0.000000     1.00000     1.000000   \n",
       "75%       1.000000     0.000000     0.000000     1.00000     1.000000   \n",
       "max       2.000000     2.000000     2.000000     2.00000     2.000000   \n",
       "\n",
       "               N15         M0P0        M1P0         M2P0         M3P0  \\\n",
       "count  1600.000000  1600.000000  1600.00000  1600.000000  1600.000000   \n",
       "mean      0.403750     0.530000     0.53000     0.518750     0.516250   \n",
       "std       0.569815     0.579275     0.60152     0.581902     0.572224   \n",
       "min       0.000000     0.000000     0.00000     0.000000     0.000000   \n",
       "25%       0.000000     0.000000     0.00000     0.000000     0.000000   \n",
       "50%       0.000000     0.000000     0.00000     0.000000     0.000000   \n",
       "75%       1.000000     1.000000     1.00000     1.000000     1.000000   \n",
       "max       2.000000     2.000000     2.00000     2.000000     2.000000   \n",
       "\n",
       "             Class  \n",
       "count  1600.000000  \n",
       "mean      0.500000  \n",
       "std       0.500156  \n",
       "min       0.000000  \n",
       "25%       0.000000  \n",
       "50%       0.500000  \n",
       "75%       1.000000  \n",
       "max       1.000000  "
      ]
     },
     "execution_count": 140,
     "metadata": {},
     "output_type": "execute_result"
    }
   ],
   "source": [
    "raw_data.describe() # descriptive statistics "
   ]
  },
  {
   "cell_type": "code",
   "execution_count": 141,
   "metadata": {
    "collapsed": false
   },
   "outputs": [
    {
     "data": {
      "text/plain": [
       "False"
      ]
     },
     "execution_count": 141,
     "metadata": {},
     "output_type": "execute_result"
    }
   ],
   "source": [
    "raw_data.isnull().values.any() # check missing data"
   ]
  },
  {
   "cell_type": "markdown",
   "metadata": {
    "collapsed": true
   },
   "source": [
    "### Understand the features"
   ]
  },
  {
   "cell_type": "code",
   "execution_count": 142,
   "metadata": {
    "collapsed": false
   },
   "outputs": [
    {
     "data": {
      "text/plain": [
       "Text(0,0.5,'Count')"
      ]
     },
     "execution_count": 142,
     "metadata": {},
     "output_type": "execute_result"
    },
    {
     "data": {
      "image/png": "[encoded data removed]",
      "text/plain": [
       "<Figure size 432x288 with 1 Axes>"
      ]
     },
     "metadata": {
      "needs_background": "light"
     },
     "output_type": "display_data"
    }
   ],
   "source": [
    "sb.distplot(raw_data['Class'],kde=False) # The outcome is labeled as 'class'\n",
    "plt.ylabel(\"Count\")"
   ]
  },
  {
   "cell_type": "code",
   "execution_count": 143,
   "metadata": {
    "collapsed": false
   },
   "outputs": [
    {
     "data": {
      "text/plain": [
       "<matplotlib.axes._subplots.AxesSubplot at 0x113c82470>"
      ]
     },
     "execution_count": 143,
     "metadata": {},
     "output_type": "execute_result"
    },
    {
     "data": {
      "image/png": "[encoded data removed]",
      "text/plain": [
       "<Figure size 432x288 with 2 Axes>"
      ]
     },
     "metadata": {
      "needs_background": "light"
     },
     "output_type": "display_data"
    }
   ],
   "source": [
    "# Use heat map to visualize correlation between each column\n",
    "corr = raw_data[['N0','N1','N2','N3','N4','N5','N6','N7','N8','N9','N10','N11','N12','N13','N14','N15','M0P0','M1P0','M2P0','M3P0','Class']].corr()\n",
    "sb.heatmap(corr)"
   ]
  },
  {
   "cell_type": "code",
   "execution_count": 144,
   "metadata": {
    "collapsed": true
   },
   "outputs": [],
   "source": [
    "# From heat map, we noticed that N0P0, M1P0, M2P0 and M3P0 are correlated with 'Class'. "
   ]
  },
  {
   "cell_type": "code",
   "execution_count": 145,
   "metadata": {
    "collapsed": false
   },
   "outputs": [
    {
     "data": {
      "text/html": [
       "<div>\n",
       "<style scoped>\n",
       "    .dataframe tbody tr th:only-of-type {\n",
       "        vertical-align: middle;\n",
       "    }\n",
       "\n",
       "    .dataframe tbody tr th {\n",
       "        vertical-align: top;\n",
       "    }\n",
       "\n",
       "    .dataframe thead th {\n",
       "        text-align: right;\n",
       "    }\n",
       "</style>\n",
       "<table border=\"1\" class=\"dataframe\">\n",
       "  <thead>\n",
       "    <tr style=\"text-align: right;\">\n",
       "      <th></th>\n",
       "      <th>N0</th>\n",
       "      <th>N1</th>\n",
       "      <th>N2</th>\n",
       "      <th>N3</th>\n",
       "      <th>N4</th>\n",
       "      <th>N5</th>\n",
       "      <th>N6</th>\n",
       "      <th>N7</th>\n",
       "      <th>N8</th>\n",
       "      <th>N9</th>\n",
       "      <th>N10</th>\n",
       "      <th>N11</th>\n",
       "      <th>N12</th>\n",
       "      <th>N13</th>\n",
       "      <th>N14</th>\n",
       "      <th>N15</th>\n",
       "      <th>M0P0</th>\n",
       "      <th>M1P0</th>\n",
       "      <th>M2P0</th>\n",
       "      <th>M3P0</th>\n",
       "      <th>Class</th>\n",
       "    </tr>\n",
       "  </thead>\n",
       "  <tbody>\n",
       "    <tr>\n",
       "      <th>N0</th>\n",
       "      <td>1.000000</td>\n",
       "      <td>0.028505</td>\n",
       "      <td>0.027041</td>\n",
       "      <td>0.017031</td>\n",
       "      <td>-0.012241</td>\n",
       "      <td>0.000403</td>\n",
       "      <td>0.002018</td>\n",
       "      <td>0.010503</td>\n",
       "      <td>0.016489</td>\n",
       "      <td>0.009598</td>\n",
       "      <td>0.054169</td>\n",
       "      <td>-0.027643</td>\n",
       "      <td>0.020725</td>\n",
       "      <td>0.006256</td>\n",
       "      <td>0.036304</td>\n",
       "      <td>-0.009907</td>\n",
       "      <td>0.008227</td>\n",
       "      <td>0.019241</td>\n",
       "      <td>0.006094</td>\n",
       "      <td>0.015417</td>\n",
       "      <td>0.004537</td>\n",
       "    </tr>\n",
       "    <tr>\n",
       "      <th>N1</th>\n",
       "      <td>0.028505</td>\n",
       "      <td>1.000000</td>\n",
       "      <td>0.010472</td>\n",
       "      <td>0.045569</td>\n",
       "      <td>0.008949</td>\n",
       "      <td>-0.009164</td>\n",
       "      <td>0.044185</td>\n",
       "      <td>-0.043989</td>\n",
       "      <td>-0.022059</td>\n",
       "      <td>0.017311</td>\n",
       "      <td>0.010628</td>\n",
       "      <td>-0.022036</td>\n",
       "      <td>-0.026798</td>\n",
       "      <td>-0.042155</td>\n",
       "      <td>0.009564</td>\n",
       "      <td>-0.032048</td>\n",
       "      <td>-0.014438</td>\n",
       "      <td>0.007653</td>\n",
       "      <td>0.007829</td>\n",
       "      <td>0.004526</td>\n",
       "      <td>-0.004630</td>\n",
       "    </tr>\n",
       "    <tr>\n",
       "      <th>N2</th>\n",
       "      <td>0.027041</td>\n",
       "      <td>0.010472</td>\n",
       "      <td>1.000000</td>\n",
       "      <td>-0.023226</td>\n",
       "      <td>0.046411</td>\n",
       "      <td>0.039052</td>\n",
       "      <td>0.014061</td>\n",
       "      <td>-0.019100</td>\n",
       "      <td>0.051320</td>\n",
       "      <td>-0.035171</td>\n",
       "      <td>0.036079</td>\n",
       "      <td>-0.007569</td>\n",
       "      <td>-0.014152</td>\n",
       "      <td>0.020177</td>\n",
       "      <td>-0.026440</td>\n",
       "      <td>0.017467</td>\n",
       "      <td>-0.014845</td>\n",
       "      <td>-0.014296</td>\n",
       "      <td>-0.007439</td>\n",
       "      <td>-0.041641</td>\n",
       "      <td>-0.005575</td>\n",
       "    </tr>\n",
       "    <tr>\n",
       "      <th>N3</th>\n",
       "      <td>0.017031</td>\n",
       "      <td>0.045569</td>\n",
       "      <td>-0.023226</td>\n",
       "      <td>1.000000</td>\n",
       "      <td>-0.022348</td>\n",
       "      <td>0.005947</td>\n",
       "      <td>-0.005448</td>\n",
       "      <td>0.042595</td>\n",
       "      <td>0.024844</td>\n",
       "      <td>-0.062843</td>\n",
       "      <td>0.025329</td>\n",
       "      <td>0.009478</td>\n",
       "      <td>-0.028009</td>\n",
       "      <td>0.047040</td>\n",
       "      <td>-0.010527</td>\n",
       "      <td>0.003434</td>\n",
       "      <td>-0.012027</td>\n",
       "      <td>0.009476</td>\n",
       "      <td>-0.004956</td>\n",
       "      <td>0.007965</td>\n",
       "      <td>0.018090</td>\n",
       "    </tr>\n",
       "    <tr>\n",
       "      <th>N4</th>\n",
       "      <td>-0.012241</td>\n",
       "      <td>0.008949</td>\n",
       "      <td>0.046411</td>\n",
       "      <td>-0.022348</td>\n",
       "      <td>1.000000</td>\n",
       "      <td>-0.017326</td>\n",
       "      <td>-0.014026</td>\n",
       "      <td>0.000841</td>\n",
       "      <td>0.008281</td>\n",
       "      <td>0.030221</td>\n",
       "      <td>-0.040326</td>\n",
       "      <td>-0.019487</td>\n",
       "      <td>0.014793</td>\n",
       "      <td>-0.010957</td>\n",
       "      <td>0.029609</td>\n",
       "      <td>0.038077</td>\n",
       "      <td>-0.034656</td>\n",
       "      <td>-0.033374</td>\n",
       "      <td>-0.033258</td>\n",
       "      <td>-0.061581</td>\n",
       "      <td>-0.056799</td>\n",
       "    </tr>\n",
       "    <tr>\n",
       "      <th>N5</th>\n",
       "      <td>0.000403</td>\n",
       "      <td>-0.009164</td>\n",
       "      <td>0.039052</td>\n",
       "      <td>0.005947</td>\n",
       "      <td>-0.017326</td>\n",
       "      <td>1.000000</td>\n",
       "      <td>0.011501</td>\n",
       "      <td>0.070218</td>\n",
       "      <td>0.019938</td>\n",
       "      <td>0.022306</td>\n",
       "      <td>0.023822</td>\n",
       "      <td>0.030982</td>\n",
       "      <td>-0.008791</td>\n",
       "      <td>-0.016136</td>\n",
       "      <td>0.014218</td>\n",
       "      <td>-0.010957</td>\n",
       "      <td>0.005830</td>\n",
       "      <td>0.032210</td>\n",
       "      <td>0.030356</td>\n",
       "      <td>0.039178</td>\n",
       "      <td>0.031985</td>\n",
       "    </tr>\n",
       "    <tr>\n",
       "      <th>N6</th>\n",
       "      <td>0.002018</td>\n",
       "      <td>0.044185</td>\n",
       "      <td>0.014061</td>\n",
       "      <td>-0.005448</td>\n",
       "      <td>-0.014026</td>\n",
       "      <td>0.011501</td>\n",
       "      <td>1.000000</td>\n",
       "      <td>0.009042</td>\n",
       "      <td>-0.020355</td>\n",
       "      <td>-0.024109</td>\n",
       "      <td>-0.006838</td>\n",
       "      <td>0.000114</td>\n",
       "      <td>0.031939</td>\n",
       "      <td>0.014276</td>\n",
       "      <td>-0.062328</td>\n",
       "      <td>-0.005975</td>\n",
       "      <td>-0.005174</td>\n",
       "      <td>-0.004982</td>\n",
       "      <td>-0.012557</td>\n",
       "      <td>-0.028942</td>\n",
       "      <td>-0.015338</td>\n",
       "    </tr>\n",
       "    <tr>\n",
       "      <th>N7</th>\n",
       "      <td>0.010503</td>\n",
       "      <td>-0.043989</td>\n",
       "      <td>-0.019100</td>\n",
       "      <td>0.042595</td>\n",
       "      <td>0.000841</td>\n",
       "      <td>0.070218</td>\n",
       "      <td>0.009042</td>\n",
       "      <td>1.000000</td>\n",
       "      <td>-0.012661</td>\n",
       "      <td>0.005445</td>\n",
       "      <td>-0.004711</td>\n",
       "      <td>0.012266</td>\n",
       "      <td>0.012939</td>\n",
       "      <td>-0.040074</td>\n",
       "      <td>-0.007484</td>\n",
       "      <td>0.037897</td>\n",
       "      <td>0.000242</td>\n",
       "      <td>0.000233</td>\n",
       "      <td>-0.033914</td>\n",
       "      <td>-0.031852</td>\n",
       "      <td>-0.010288</td>\n",
       "    </tr>\n",
       "    <tr>\n",
       "      <th>N8</th>\n",
       "      <td>0.016489</td>\n",
       "      <td>-0.022059</td>\n",
       "      <td>0.051320</td>\n",
       "      <td>0.024844</td>\n",
       "      <td>0.008281</td>\n",
       "      <td>0.019938</td>\n",
       "      <td>-0.020355</td>\n",
       "      <td>-0.012661</td>\n",
       "      <td>1.000000</td>\n",
       "      <td>-0.006873</td>\n",
       "      <td>0.003657</td>\n",
       "      <td>0.009244</td>\n",
       "      <td>-0.011400</td>\n",
       "      <td>0.007191</td>\n",
       "      <td>-0.039169</td>\n",
       "      <td>-0.009993</td>\n",
       "      <td>-0.007004</td>\n",
       "      <td>-0.016353</td>\n",
       "      <td>0.025563</td>\n",
       "      <td>0.000578</td>\n",
       "      <td>0.001156</td>\n",
       "    </tr>\n",
       "    <tr>\n",
       "      <th>N9</th>\n",
       "      <td>0.009598</td>\n",
       "      <td>0.017311</td>\n",
       "      <td>-0.035171</td>\n",
       "      <td>-0.062843</td>\n",
       "      <td>0.030221</td>\n",
       "      <td>0.022306</td>\n",
       "      <td>-0.024109</td>\n",
       "      <td>0.005445</td>\n",
       "      <td>-0.006873</td>\n",
       "      <td>1.000000</td>\n",
       "      <td>0.024714</td>\n",
       "      <td>-0.018259</td>\n",
       "      <td>-0.014836</td>\n",
       "      <td>-0.030787</td>\n",
       "      <td>-0.002289</td>\n",
       "      <td>0.006376</td>\n",
       "      <td>-0.018658</td>\n",
       "      <td>0.032912</td>\n",
       "      <td>0.049251</td>\n",
       "      <td>0.022624</td>\n",
       "      <td>0.033218</td>\n",
       "    </tr>\n",
       "    <tr>\n",
       "      <th>N10</th>\n",
       "      <td>0.054169</td>\n",
       "      <td>0.010628</td>\n",
       "      <td>0.036079</td>\n",
       "      <td>0.025329</td>\n",
       "      <td>-0.040326</td>\n",
       "      <td>0.023822</td>\n",
       "      <td>-0.006838</td>\n",
       "      <td>-0.004711</td>\n",
       "      <td>0.003657</td>\n",
       "      <td>0.024714</td>\n",
       "      <td>1.000000</td>\n",
       "      <td>-0.015393</td>\n",
       "      <td>-0.017048</td>\n",
       "      <td>-0.014114</td>\n",
       "      <td>0.013560</td>\n",
       "      <td>-0.056905</td>\n",
       "      <td>-0.008082</td>\n",
       "      <td>0.008707</td>\n",
       "      <td>-0.017813</td>\n",
       "      <td>-0.019744</td>\n",
       "      <td>-0.019832</td>\n",
       "    </tr>\n",
       "    <tr>\n",
       "      <th>N11</th>\n",
       "      <td>-0.027643</td>\n",
       "      <td>-0.022036</td>\n",
       "      <td>-0.007569</td>\n",
       "      <td>0.009478</td>\n",
       "      <td>-0.019487</td>\n",
       "      <td>0.030982</td>\n",
       "      <td>0.000114</td>\n",
       "      <td>0.012266</td>\n",
       "      <td>0.009244</td>\n",
       "      <td>-0.018259</td>\n",
       "      <td>-0.015393</td>\n",
       "      <td>1.000000</td>\n",
       "      <td>-0.010897</td>\n",
       "      <td>-0.074383</td>\n",
       "      <td>0.047419</td>\n",
       "      <td>0.030401</td>\n",
       "      <td>-0.050507</td>\n",
       "      <td>-0.008622</td>\n",
       "      <td>-0.048582</td>\n",
       "      <td>-0.009929</td>\n",
       "      <td>-0.037189</td>\n",
       "    </tr>\n",
       "    <tr>\n",
       "      <th>N12</th>\n",
       "      <td>0.020725</td>\n",
       "      <td>-0.026798</td>\n",
       "      <td>-0.014152</td>\n",
       "      <td>-0.028009</td>\n",
       "      <td>0.014793</td>\n",
       "      <td>-0.008791</td>\n",
       "      <td>0.031939</td>\n",
       "      <td>0.012939</td>\n",
       "      <td>-0.011400</td>\n",
       "      <td>-0.014836</td>\n",
       "      <td>-0.017048</td>\n",
       "      <td>-0.010897</td>\n",
       "      <td>1.000000</td>\n",
       "      <td>-0.020675</td>\n",
       "      <td>-0.052550</td>\n",
       "      <td>0.011137</td>\n",
       "      <td>-0.043890</td>\n",
       "      <td>-0.000914</td>\n",
       "      <td>0.007284</td>\n",
       "      <td>0.007487</td>\n",
       "      <td>0.002618</td>\n",
       "    </tr>\n",
       "    <tr>\n",
       "      <th>N13</th>\n",
       "      <td>0.006256</td>\n",
       "      <td>-0.042155</td>\n",
       "      <td>0.020177</td>\n",
       "      <td>0.047040</td>\n",
       "      <td>-0.010957</td>\n",
       "      <td>-0.016136</td>\n",
       "      <td>0.014276</td>\n",
       "      <td>-0.040074</td>\n",
       "      <td>0.007191</td>\n",
       "      <td>-0.030787</td>\n",
       "      <td>-0.014114</td>\n",
       "      <td>-0.074383</td>\n",
       "      <td>-0.020675</td>\n",
       "      <td>1.000000</td>\n",
       "      <td>-0.018908</td>\n",
       "      <td>0.003342</td>\n",
       "      <td>0.022353</td>\n",
       "      <td>-0.012063</td>\n",
       "      <td>-0.007794</td>\n",
       "      <td>-0.011986</td>\n",
       "      <td>0.008782</td>\n",
       "    </tr>\n",
       "    <tr>\n",
       "      <th>N14</th>\n",
       "      <td>0.036304</td>\n",
       "      <td>0.009564</td>\n",
       "      <td>-0.026440</td>\n",
       "      <td>-0.010527</td>\n",
       "      <td>0.029609</td>\n",
       "      <td>0.014218</td>\n",
       "      <td>-0.062328</td>\n",
       "      <td>-0.007484</td>\n",
       "      <td>-0.039169</td>\n",
       "      <td>-0.002289</td>\n",
       "      <td>0.013560</td>\n",
       "      <td>0.047419</td>\n",
       "      <td>-0.052550</td>\n",
       "      <td>-0.018908</td>\n",
       "      <td>1.000000</td>\n",
       "      <td>0.015323</td>\n",
       "      <td>-0.014445</td>\n",
       "      <td>0.051107</td>\n",
       "      <td>-0.012504</td>\n",
       "      <td>0.010490</td>\n",
       "      <td>-0.010911</td>\n",
       "    </tr>\n",
       "    <tr>\n",
       "      <th>N15</th>\n",
       "      <td>-0.009907</td>\n",
       "      <td>-0.032048</td>\n",
       "      <td>0.017467</td>\n",
       "      <td>0.003434</td>\n",
       "      <td>0.038077</td>\n",
       "      <td>-0.010957</td>\n",
       "      <td>-0.005975</td>\n",
       "      <td>0.037897</td>\n",
       "      <td>-0.009993</td>\n",
       "      <td>0.006376</td>\n",
       "      <td>-0.056905</td>\n",
       "      <td>0.030401</td>\n",
       "      <td>0.011137</td>\n",
       "      <td>0.003342</td>\n",
       "      <td>0.015323</td>\n",
       "      <td>1.000000</td>\n",
       "      <td>-0.019667</td>\n",
       "      <td>-0.004343</td>\n",
       "      <td>-0.019073</td>\n",
       "      <td>-0.014380</td>\n",
       "      <td>-0.030721</td>\n",
       "    </tr>\n",
       "    <tr>\n",
       "      <th>M0P0</th>\n",
       "      <td>0.008227</td>\n",
       "      <td>-0.014438</td>\n",
       "      <td>-0.014845</td>\n",
       "      <td>-0.012027</td>\n",
       "      <td>-0.034656</td>\n",
       "      <td>0.005830</td>\n",
       "      <td>-0.005174</td>\n",
       "      <td>0.000242</td>\n",
       "      <td>-0.007004</td>\n",
       "      <td>-0.018658</td>\n",
       "      <td>-0.008082</td>\n",
       "      <td>-0.050507</td>\n",
       "      <td>-0.043890</td>\n",
       "      <td>0.022353</td>\n",
       "      <td>-0.014445</td>\n",
       "      <td>-0.019667</td>\n",
       "      <td>1.000000</td>\n",
       "      <td>0.334838</td>\n",
       "      <td>0.378669</td>\n",
       "      <td>0.334359</td>\n",
       "      <td>0.595758</td>\n",
       "    </tr>\n",
       "    <tr>\n",
       "      <th>M1P0</th>\n",
       "      <td>0.019241</td>\n",
       "      <td>0.007653</td>\n",
       "      <td>-0.014296</td>\n",
       "      <td>0.009476</td>\n",
       "      <td>-0.033374</td>\n",
       "      <td>0.032210</td>\n",
       "      <td>-0.004982</td>\n",
       "      <td>0.000233</td>\n",
       "      <td>-0.016353</td>\n",
       "      <td>0.032912</td>\n",
       "      <td>0.008707</td>\n",
       "      <td>-0.008622</td>\n",
       "      <td>-0.000914</td>\n",
       "      <td>-0.012063</td>\n",
       "      <td>0.051107</td>\n",
       "      <td>-0.004343</td>\n",
       "      <td>0.334838</td>\n",
       "      <td>1.000000</td>\n",
       "      <td>0.377172</td>\n",
       "      <td>0.349248</td>\n",
       "      <td>0.594514</td>\n",
       "    </tr>\n",
       "    <tr>\n",
       "      <th>M2P0</th>\n",
       "      <td>0.006094</td>\n",
       "      <td>0.007829</td>\n",
       "      <td>-0.007439</td>\n",
       "      <td>-0.004956</td>\n",
       "      <td>-0.033258</td>\n",
       "      <td>0.030356</td>\n",
       "      <td>-0.012557</td>\n",
       "      <td>-0.033914</td>\n",
       "      <td>0.025563</td>\n",
       "      <td>0.049251</td>\n",
       "      <td>-0.017813</td>\n",
       "      <td>-0.048582</td>\n",
       "      <td>0.007284</td>\n",
       "      <td>-0.007794</td>\n",
       "      <td>-0.012504</td>\n",
       "      <td>-0.019073</td>\n",
       "      <td>0.378669</td>\n",
       "      <td>0.377172</td>\n",
       "      <td>1.000000</td>\n",
       "      <td>0.340912</td>\n",
       "      <td>0.599515</td>\n",
       "    </tr>\n",
       "    <tr>\n",
       "      <th>M3P0</th>\n",
       "      <td>0.015417</td>\n",
       "      <td>0.004526</td>\n",
       "      <td>-0.041641</td>\n",
       "      <td>0.007965</td>\n",
       "      <td>-0.061581</td>\n",
       "      <td>0.039178</td>\n",
       "      <td>-0.028942</td>\n",
       "      <td>-0.031852</td>\n",
       "      <td>0.000578</td>\n",
       "      <td>0.022624</td>\n",
       "      <td>-0.019744</td>\n",
       "      <td>-0.009929</td>\n",
       "      <td>0.007487</td>\n",
       "      <td>-0.011986</td>\n",
       "      <td>0.010490</td>\n",
       "      <td>-0.014380</td>\n",
       "      <td>0.334359</td>\n",
       "      <td>0.349248</td>\n",
       "      <td>0.340912</td>\n",
       "      <td>1.000000</td>\n",
       "      <td>0.572507</td>\n",
       "    </tr>\n",
       "    <tr>\n",
       "      <th>Class</th>\n",
       "      <td>0.004537</td>\n",
       "      <td>-0.004630</td>\n",
       "      <td>-0.005575</td>\n",
       "      <td>0.018090</td>\n",
       "      <td>-0.056799</td>\n",
       "      <td>0.031985</td>\n",
       "      <td>-0.015338</td>\n",
       "      <td>-0.010288</td>\n",
       "      <td>0.001156</td>\n",
       "      <td>0.033218</td>\n",
       "      <td>-0.019832</td>\n",
       "      <td>-0.037189</td>\n",
       "      <td>0.002618</td>\n",
       "      <td>0.008782</td>\n",
       "      <td>-0.010911</td>\n",
       "      <td>-0.030721</td>\n",
       "      <td>0.595758</td>\n",
       "      <td>0.594514</td>\n",
       "      <td>0.599515</td>\n",
       "      <td>0.572507</td>\n",
       "      <td>1.000000</td>\n",
       "    </tr>\n",
       "  </tbody>\n",
       "</table>\n",
       "</div>"
      ],
      "text/plain": [
       "             N0        N1        N2        N3        N4        N5        N6  \\\n",
       "N0     1.000000  0.028505  0.027041  0.017031 -0.012241  0.000403  0.002018   \n",
       "N1     0.028505  1.000000  0.010472  0.045569  0.008949 -0.009164  0.044185   \n",
       "N2     0.027041  0.010472  1.000000 -0.023226  0.046411  0.039052  0.014061   \n",
       "N3     0.017031  0.045569 -0.023226  1.000000 -0.022348  0.005947 -0.005448   \n",
       "N4    -0.012241  0.008949  0.046411 -0.022348  1.000000 -0.017326 -0.014026   \n",
       "N5     0.000403 -0.009164  0.039052  0.005947 -0.017326  1.000000  0.011501   \n",
       "N6     0.002018  0.044185  0.014061 -0.005448 -0.014026  0.011501  1.000000   \n",
       "N7     0.010503 -0.043989 -0.019100  0.042595  0.000841  0.070218  0.009042   \n",
       "N8     0.016489 -0.022059  0.051320  0.024844  0.008281  0.019938 -0.020355   \n",
       "N9     0.009598  0.017311 -0.035171 -0.062843  0.030221  0.022306 -0.024109   \n",
       "N10    0.054169  0.010628  0.036079  0.025329 -0.040326  0.023822 -0.006838   \n",
       "N11   -0.027643 -0.022036 -0.007569  0.009478 -0.019487  0.030982  0.000114   \n",
       "N12    0.020725 -0.026798 -0.014152 -0.028009  0.014793 -0.008791  0.031939   \n",
       "N13    0.006256 -0.042155  0.020177  0.047040 -0.010957 -0.016136  0.014276   \n",
       "N14    0.036304  0.009564 -0.026440 -0.010527  0.029609  0.014218 -0.062328   \n",
       "N15   -0.009907 -0.032048  0.017467  0.003434  0.038077 -0.010957 -0.005975   \n",
       "M0P0   0.008227 -0.014438 -0.014845 -0.012027 -0.034656  0.005830 -0.005174   \n",
       "M1P0   0.019241  0.007653 -0.014296  0.009476 -0.033374  0.032210 -0.004982   \n",
       "M2P0   0.006094  0.007829 -0.007439 -0.004956 -0.033258  0.030356 -0.012557   \n",
       "M3P0   0.015417  0.004526 -0.041641  0.007965 -0.061581  0.039178 -0.028942   \n",
       "Class  0.004537 -0.004630 -0.005575  0.018090 -0.056799  0.031985 -0.015338   \n",
       "\n",
       "             N7        N8        N9       N10       N11       N12       N13  \\\n",
       "N0     0.010503  0.016489  0.009598  0.054169 -0.027643  0.020725  0.006256   \n",
       "N1    -0.043989 -0.022059  0.017311  0.010628 -0.022036 -0.026798 -0.042155   \n",
       "N2    -0.019100  0.051320 -0.035171  0.036079 -0.007569 -0.014152  0.020177   \n",
       "N3     0.042595  0.024844 -0.062843  0.025329  0.009478 -0.028009  0.047040   \n",
       "N4     0.000841  0.008281  0.030221 -0.040326 -0.019487  0.014793 -0.010957   \n",
       "N5     0.070218  0.019938  0.022306  0.023822  0.030982 -0.008791 -0.016136   \n",
       "N6     0.009042 -0.020355 -0.024109 -0.006838  0.000114  0.031939  0.014276   \n",
       "N7     1.000000 -0.012661  0.005445 -0.004711  0.012266  0.012939 -0.040074   \n",
       "N8    -0.012661  1.000000 -0.006873  0.003657  0.009244 -0.011400  0.007191   \n",
       "N9     0.005445 -0.006873  1.000000  0.024714 -0.018259 -0.014836 -0.030787   \n",
       "N10   -0.004711  0.003657  0.024714  1.000000 -0.015393 -0.017048 -0.014114   \n",
       "N11    0.012266  0.009244 -0.018259 -0.015393  1.000000 -0.010897 -0.074383   \n",
       "N12    0.012939 -0.011400 -0.014836 -0.017048 -0.010897  1.000000 -0.020675   \n",
       "N13   -0.040074  0.007191 -0.030787 -0.014114 -0.074383 -0.020675  1.000000   \n",
       "N14   -0.007484 -0.039169 -0.002289  0.013560  0.047419 -0.052550 -0.018908   \n",
       "N15    0.037897 -0.009993  0.006376 -0.056905  0.030401  0.011137  0.003342   \n",
       "M0P0   0.000242 -0.007004 -0.018658 -0.008082 -0.050507 -0.043890  0.022353   \n",
       "M1P0   0.000233 -0.016353  0.032912  0.008707 -0.008622 -0.000914 -0.012063   \n",
       "M2P0  -0.033914  0.025563  0.049251 -0.017813 -0.048582  0.007284 -0.007794   \n",
       "M3P0  -0.031852  0.000578  0.022624 -0.019744 -0.009929  0.007487 -0.011986   \n",
       "Class -0.010288  0.001156  0.033218 -0.019832 -0.037189  0.002618  0.008782   \n",
       "\n",
       "            N14       N15      M0P0      M1P0      M2P0      M3P0     Class  \n",
       "N0     0.036304 -0.009907  0.008227  0.019241  0.006094  0.015417  0.004537  \n",
       "N1     0.009564 -0.032048 -0.014438  0.007653  0.007829  0.004526 -0.004630  \n",
       "N2    -0.026440  0.017467 -0.014845 -0.014296 -0.007439 -0.041641 -0.005575  \n",
       "N3    -0.010527  0.003434 -0.012027  0.009476 -0.004956  0.007965  0.018090  \n",
       "N4     0.029609  0.038077 -0.034656 -0.033374 -0.033258 -0.061581 -0.056799  \n",
       "N5     0.014218 -0.010957  0.005830  0.032210  0.030356  0.039178  0.031985  \n",
       "N6    -0.062328 -0.005975 -0.005174 -0.004982 -0.012557 -0.028942 -0.015338  \n",
       "N7    -0.007484  0.037897  0.000242  0.000233 -0.033914 -0.031852 -0.010288  \n",
       "N8    -0.039169 -0.009993 -0.007004 -0.016353  0.025563  0.000578  0.001156  \n",
       "N9    -0.002289  0.006376 -0.018658  0.032912  0.049251  0.022624  0.033218  \n",
       "N10    0.013560 -0.056905 -0.008082  0.008707 -0.017813 -0.019744 -0.019832  \n",
       "N11    0.047419  0.030401 -0.050507 -0.008622 -0.048582 -0.009929 -0.037189  \n",
       "N12   -0.052550  0.011137 -0.043890 -0.000914  0.007284  0.007487  0.002618  \n",
       "N13   -0.018908  0.003342  0.022353 -0.012063 -0.007794 -0.011986  0.008782  \n",
       "N14    1.000000  0.015323 -0.014445  0.051107 -0.012504  0.010490 -0.010911  \n",
       "N15    0.015323  1.000000 -0.019667 -0.004343 -0.019073 -0.014380 -0.030721  \n",
       "M0P0  -0.014445 -0.019667  1.000000  0.334838  0.378669  0.334359  0.595758  \n",
       "M1P0   0.051107 -0.004343  0.334838  1.000000  0.377172  0.349248  0.594514  \n",
       "M2P0  -0.012504 -0.019073  0.378669  0.377172  1.000000  0.340912  0.599515  \n",
       "M3P0   0.010490 -0.014380  0.334359  0.349248  0.340912  1.000000  0.572507  \n",
       "Class -0.010911 -0.030721  0.595758  0.594514  0.599515  0.572507  1.000000  "
      ]
     },
     "execution_count": 145,
     "metadata": {},
     "output_type": "execute_result"
    }
   ],
   "source": [
    "corr"
   ]
  },
  {
   "cell_type": "code",
   "execution_count": 198,
   "metadata": {
    "collapsed": true
   },
   "outputs": [],
   "source": [
    "y = raw_data.iloc[:, -1].values\n",
    "X = raw_data.iloc[:, :-1].values"
   ]
  },
  {
   "cell_type": "markdown",
   "metadata": {
    "collapsed": true
   },
   "source": [
    "## Part 2: Training a Neural Network"
   ]
  },
  {
   "cell_type": "markdown",
   "metadata": {},
   "source": [
    "Let's build a 2-layer neural network with one input layer, one hidden layer, and one output layer (note that the input layer is typically excluded when counting the number of layers in a Neural Network). <br><br>\n",
    "The number of nodes in the input layer is equal to the number of features (columns) in my data, 20. <br>\n",
    "The number of nodes in the output layer is determined by the number of classes we have, 2. <br>\n",
    "As for the number of nodes in the hidden layer, we can choose by ourselves. For most problems, one could probably get decent performance (even without a second optimization step) by setting the hidden layer configuration using just two rules: (i) number of hidden layers equals one; and (ii) the number of neurons in that layer is the mean of the neurons in the input and output layers. Thus, this time, I will set the number of nodes in the hidden layer to be 11."
   ]
  },
  {
   "cell_type": "markdown",
   "metadata": {},
   "source": [
    "We also need an activation function for our hidden layer. The activation function of a node defines the output of that node given an input or set of inputs.A nonlinear activation function is what allows us to fit nonlinear hypotheses. Common chocies for activation functions are tanh, the sigmoid function and ReLUs. "
   ]
  },
  {
   "cell_type": "markdown",
   "metadata": {},
   "source": [
    "![title](tanh.png)"
   ]
  },
  {
   "cell_type": "markdown",
   "metadata": {},
   "source": [
    "![title](sigmoid.png)"
   ]
  },
  {
   "cell_type": "markdown",
   "metadata": {},
   "source": [
    "![title](relu.png)"
   ]
  },
  {
   "cell_type": "markdown",
   "metadata": {},
   "source": [
    "We will use tanh in this notebook. It is a rescaling of the logistic sigmoid such that it squashes a number to the range [-1, 1] and its output is zero-centered."
   ]
  },
  {
   "cell_type": "markdown",
   "metadata": {
    "collapsed": true
   },
   "source": [
    "For the output layer, the activation function will be the softmax function which represents a categorical distribution – that is, a probability distribution over K different possible outcomes. "
   ]
  },
  {
   "cell_type": "markdown",
   "metadata": {},
   "source": [
    "![title](2l.png)"
   ]
  },
  {
   "cell_type": "markdown",
   "metadata": {},
   "source": [
    "Naturally, the right values for the weights and biases determines the strength of the predictions. The process of fine-tuning the weights and biases from the input data is known as training the Neural Network.\n"
   ]
  },
  {
   "cell_type": "markdown",
   "metadata": {},
   "source": [
    "Each iteration of the training process consists of the following steps:<br>\n",
    "Calculating the predicted output ŷ, known as feedforward<br>\n",
    "Updating the weights and biases, known as backpropagation\n"
   ]
  },
  {
   "cell_type": "markdown",
   "metadata": {},
   "source": [
    "![title](process.png)"
   ]
  },
  {
   "cell_type": "markdown",
   "metadata": {
    "collapsed": true
   },
   "source": [
    "The output ŷ of a simple 2-layer Neural Network is:<br>\n",
    "\\begin{aligned}\n",
    "z_1 & = xW_1 + b_1 \\\\\n",
    "a_1 & = \\tanh(z_1) \\\\\n",
    "z_2 & = a_1W_2 + b_2 \\\\\n",
    "a_2 & = \\hat{y} = \\mathrm{softmax}(z_2)\n",
    "\\end{aligned}\n"
   ]
  },
  {
   "cell_type": "markdown",
   "metadata": {
    "collapsed": true
   },
   "source": [
    " The weights W and the biases b are the only variables that affects the output ŷ.<br>\n",
    " W1,b1,W2,b2 are parameters of our network that we need to learn from our training data.Our goal is to find parameters (W1,b1,W2,b2) that minimize the error on our training data. We call the function that measures our error the loss function. A common choice with the softmax output is the cross-entropy loss. If we have N training examples and C classes, then the loss for our prediction ŷ with respect to the true labels  y\n",
    "  is given by:<br>\n",
    " \n",
    "\\begin{aligned}\n",
    "L(y,\\hat{y}) = - \\frac{1}{N} \\sum_{n \\in N} \\sum_{i \\in C} y_{n,i} \\log\\hat{y}_{n,i}\n",
    "\\end{aligned}\n",
    " \n"
   ]
  },
  {
   "cell_type": "markdown",
   "metadata": {},
   "source": [
    "Our goal in training is to find the best set of parameters that minimizes the loss function.Now that we’ve measured the loss, we want to propagation the error back and to update our weights and biases. To do these, We need to know the derivative of the loss function with respect to the weights and biases. "
   ]
  },
  {
   "cell_type": "markdown",
   "metadata": {},
   "source": [
    "![title](gd.png)"
   ]
  },
  {
   "cell_type": "markdown",
   "metadata": {},
   "source": [
    "We can update weights and biases by increasing/reducing with the derivative(refer to the diagram above) . This is known as gradient descent."
   ]
  },
  {
   "cell_type": "markdown",
   "metadata": {},
   "source": [
    "We will use backpropagation algorithm to calculate the gradients starting from the output. \n",
    "\n",
    "We have the following backpropagation formula:"
   ]
  },
  {
   "cell_type": "markdown",
   "metadata": {},
   "source": [
    "$$\n",
    "\\begin{aligned}\n",
    "& \\delta_3 = \\hat{y} - y \\\\\n",
    "& \\delta_2 = (1 - \\tanh^2z_1) \\circ \\delta_3W_2^T \\\\\n",
    "& \\frac{\\partial{L}}{\\partial{W_2}} = a_1^T \\delta_3  \\\\\n",
    "& \\frac{\\partial{L}}{\\partial{b_2}} = \\delta_3\\\\\n",
    "& \\frac{\\partial{L}}{\\partial{W_1}} = x^T \\delta_2\\\\\n",
    "& \\frac{\\partial{L}}{\\partial{b_1}} = \\delta_2 \\\\\n",
    "\\end{aligned}\n",
    "$$"
   ]
  },
  {
   "cell_type": "markdown",
   "metadata": {},
   "source": [
    "### Implementation"
   ]
  },
  {
   "cell_type": "code",
   "execution_count": 147,
   "metadata": {
    "collapsed": true
   },
   "outputs": [],
   "source": [
    "# neural network structure\n",
    "num_input_layer = 20 # number of nodes in input layer\n",
    "num_output_layer = 2 # number of nodes in output layer\n",
    "num_hidden_layer = 11 # number of nodes in hidden layer\n"
   ]
  },
  {
   "cell_type": "code",
   "execution_count": 148,
   "metadata": {
    "collapsed": true
   },
   "outputs": [],
   "source": [
    "# Gradient descent parameters \n",
    "learning_rate = 0.001\n",
    "regularization_lambda = 0.01"
   ]
  },
  {
   "cell_type": "code",
   "execution_count": 149,
   "metadata": {
    "collapsed": true
   },
   "outputs": [],
   "source": [
    "# This function predicts output(0 or 1).It calculate the output of the neural network and return the class with highest probability. \n",
    "def predict(m, x):\n",
    "    w1, w2, b1, b2 = m['w1'],m['w2'],m['b1'],m['b2']\n",
    "    \n",
    "    # feedforward\n",
    "    z1 = x.dot(w1) + b1\n",
    "    a1 = np.tanh(z1)\n",
    "    z2 = a1.dot(w2) + b2\n",
    "    exp_scores = np.exp(z2)\n",
    "    probs = exp_scores / np.sum(exp_scores, axis=1, keepdims=True) \n",
    "    return np.argmax(probs, axis=1)# np.argmax returns the indices of the maximum values along an axis.Axis = 1, max in each row; axis = 0, max in each column "
   ]
  },
  {
   "cell_type": "code",
   "execution_count": 199,
   "metadata": {
    "collapsed": false
   },
   "outputs": [],
   "source": [
    "# This functions calculates total loss\n",
    "def total_loss(m, X = X, y = y):\n",
    "    w1, w2, b1, b2 = m['w1'],m['w2'],m['b1'],m['b2']\n",
    "    train_size = len(X)\n",
    "    \n",
    "    # feedforward\n",
    "    z1 = X.dot(w1) + b1\n",
    "    a1 = np.tanh(z1)\n",
    "    z2 = a1.dot(w2) + b2\n",
    "    exp_scores = np.exp(z2)\n",
    "    probs = exp_scores / np.sum(exp_scores, axis=1, keepdims=True)\n",
    "    \n",
    "    # calculate loss\n",
    "    loss_sum = np.sum(-np.log(probs[range(train_size), y]))\n",
    "    loss  = 1.0/train_size * loss_sum\n",
    "    return loss"
   ]
  },
  {
   "cell_type": "code",
   "execution_count": 201,
   "metadata": {
    "collapsed": false
   },
   "outputs": [],
   "source": [
    "# This function returns a neural net work model with learned parameters\n",
    "# num_n_hidden: number of nodes in hidden layer\n",
    "# num_iteration: number of passes through the training data for gradient descent\n",
    "# print_loss: print the loss every 1000 iterations when True\n",
    "def nn_model( num_n_hidden, num_iteration,learning_rate,  print_loss = False, X = X, y = y):\n",
    "    # we will return a model with parameters at the end: \n",
    "    model = {}\n",
    "    train_size = len(X)\n",
    "    \n",
    "    # initialize parameters \n",
    "    np.random.seed(39)\n",
    "    w1 = np.random.randn(num_input_layer , num_n_hidden) / np.sqrt(num_input_layer )\n",
    "    b1 = np.zeros((1, num_n_hidden))\n",
    "    w2 = np.random.randn(num_n_hidden, num_output_layer) / np.sqrt(num_n_hidden)\n",
    "    b2 = np.zeros((1, num_output_layer))\n",
    "    \n",
    "    # gradient descent\n",
    "    for i in range(0, num_iteration):\n",
    "        # feedforward\n",
    "        z1 = X.dot(w1) + b1\n",
    "        a1 = np.tanh(z1)\n",
    "        z2 = a1.dot(w2) + b2\n",
    "        exp_scores = np.exp(z2)\n",
    "        probs = exp_scores / np.sum(exp_scores, axis=1, keepdims=True)\n",
    "        # backpropagation\n",
    "        delta3 = probs\n",
    "        delta3[range(train_size), y] -= 1\n",
    "        dw2 = (a1.T).dot(delta3)\n",
    "        db2 = np.sum(delta3, axis=0, keepdims=True)\n",
    "        delta2 = delta3.dot(w2.T) * (1 - np.power(a1, 2))\n",
    "        dw1 = np.dot(X.T, delta2)\n",
    "        db1 = np.sum(delta2, axis=0)\n",
    "        # Add regularization terms (b1 and b2 don't have regularization terms)\n",
    "        dw2 += regularization_lambda * w2\n",
    "        dw1 += regularization_lambda * w1\n",
    "        # Gradient descent parameter update\n",
    "        w1 += -learning_rate * dw1\n",
    "        b1 += -learning_rate * db1\n",
    "        w2 += -learning_rate * dw2\n",
    "        b2 += -learning_rate * db2\n",
    "        \n",
    "        model = {'w1':w1, 'w2':w2, 'b1':b1, 'b2':b2}\n",
    "        \n",
    "        #print loss\n",
    "        if print_loss and i % 1000 == 0:\n",
    "            print('Loss after %i iteration:%f' %(i,total_loss(model,X = X, y = y)))\n",
    "   \n",
    "\n",
    "    return model"
   ]
  },
  {
   "cell_type": "markdown",
   "metadata": {},
   "source": [
    "### K-fold Cross-Validation"
   ]
  },
  {
   "cell_type": "code",
   "execution_count": 152,
   "metadata": {
    "collapsed": false
   },
   "outputs": [],
   "source": [
    "from sklearn.cross_validation import KFold"
   ]
  },
  {
   "cell_type": "code",
   "execution_count": 153,
   "metadata": {
    "collapsed": false
   },
   "outputs": [],
   "source": [
    "# This function does 10-fold. It saves the result at each time as different parts of y_pred. \n",
    "# In the end, it returns the y_pred as the result of all the 10-fold.\n",
    "def run_cv(X,y, num_hidden_layer,num_iteration,learning_rate):\n",
    "    # Construct a kfolds object\n",
    "    kf = KFold(len(y),n_folds=10,shuffle=True) # Total number of elements；Number of folds， default=3；Whether to shuffle the data before splitting into batches\n",
    "    y_pred = y.copy()\n",
    "     \n",
    "    # Iterate through folds\n",
    "    for train_index, test_index in kf:\n",
    "        X_train, X_test = X[train_index], X[test_index]\n",
    "        y_train = y[train_index]\n",
    "        \n",
    "        m = nn_model(num_hidden_layer,num_iteration, learning_rate,print_loss = False,X = X_train, y = y_train)\n",
    "        y_pred[test_index] = predict(m, X_test)\n",
    "         \n",
    "    return y_pred"
   ]
  },
  {
   "cell_type": "markdown",
   "metadata": {},
   "source": [
    "### Train a neural network with a hidden layer size of 11"
   ]
  },
  {
   "cell_type": "code",
   "execution_count": 154,
   "metadata": {
    "collapsed": false
   },
   "outputs": [
    {
     "name": "stdout",
     "output_type": "stream",
     "text": [
      "Loss after 0 iteration:0.554981\n",
      "Loss after 1000 iteration:0.072043\n",
      "Loss after 2000 iteration:0.032190\n",
      "Loss after 3000 iteration:0.026320\n",
      "Loss after 4000 iteration:0.016058\n",
      "Loss after 5000 iteration:0.011195\n",
      "Loss after 6000 iteration:0.008339\n",
      "Loss after 7000 iteration:0.006668\n",
      "Loss after 8000 iteration:0.005636\n",
      "Loss after 9000 iteration:0.004271\n",
      "Loss after 10000 iteration:0.003611\n",
      "Loss after 11000 iteration:0.003128\n",
      "Loss after 12000 iteration:0.002779\n",
      "Loss after 13000 iteration:0.002510\n",
      "Loss after 14000 iteration:0.002288\n",
      "Loss after 15000 iteration:0.002097\n",
      "Loss after 16000 iteration:0.001931\n",
      "Loss after 17000 iteration:0.001791\n",
      "Loss after 18000 iteration:0.001675\n",
      "Loss after 19000 iteration:0.001578\n"
     ]
    }
   ],
   "source": [
    "# with learning_rate = 0.001\n",
    "model = nn_model(num_hidden_layer,20000, learning_rate,print_loss = True)"
   ]
  },
  {
   "cell_type": "code",
   "execution_count": 155,
   "metadata": {
    "collapsed": false
   },
   "outputs": [],
   "source": [
    "res = run_cv(X,y,num_hidden_layer,20000, learning_rate)"
   ]
  },
  {
   "cell_type": "code",
   "execution_count": 156,
   "metadata": {
    "collapsed": false
   },
   "outputs": [],
   "source": [
    "# This function calculates accuracy\n",
    "def accuracy(y_true,y_pred):\n",
    "    return np.mean(y_true == y_pred) # NumPy interpretes True and False as 1. and 0."
   ]
  },
  {
   "cell_type": "code",
   "execution_count": 202,
   "metadata": {
    "collapsed": false
   },
   "outputs": [
    {
     "name": "stdout",
     "output_type": "stream",
     "text": [
      "Neural network accuracy: 0.89875\n"
     ]
    }
   ],
   "source": [
    "print('Neural network accuracy: ' + str(accuracy(y, res)))"
   ]
  },
  {
   "cell_type": "markdown",
   "metadata": {
    "collapsed": true
   },
   "source": [
    "### Change number of iterations\n",
    "\n",
    "We have run 20000 iterations in the previous example. We want to change iteration number and to see how it affects result. "
   ]
  },
  {
   "cell_type": "markdown",
   "metadata": {},
   "source": [
    "Run 2000 iterations"
   ]
  },
  {
   "cell_type": "code",
   "execution_count": 158,
   "metadata": {
    "collapsed": false
   },
   "outputs": [
    {
     "name": "stdout",
     "output_type": "stream",
     "text": [
      "Loss after 0 iteration:0.554981\n",
      "Loss after 1000 iteration:0.072043\n"
     ]
    }
   ],
   "source": [
    "# with learning_rate = 0.001\n",
    "model_i_2000 = nn_model(num_hidden_layer,2000, learning_rate,print_loss = True)\n"
   ]
  },
  {
   "cell_type": "code",
   "execution_count": 159,
   "metadata": {
    "collapsed": true
   },
   "outputs": [],
   "source": [
    "res_i_2000 = run_cv(X,y,num_hidden_layer,2000, learning_rate)"
   ]
  },
  {
   "cell_type": "code",
   "execution_count": 203,
   "metadata": {
    "collapsed": false
   },
   "outputs": [
    {
     "name": "stdout",
     "output_type": "stream",
     "text": [
      "Neural network accuracy: 0.906875\n"
     ]
    }
   ],
   "source": [
    "print('Neural network accuracy: ' + str(accuracy(y, res_i_2000)))"
   ]
  },
  {
   "cell_type": "markdown",
   "metadata": {},
   "source": [
    "Run 5000 iterations"
   ]
  },
  {
   "cell_type": "code",
   "execution_count": 161,
   "metadata": {
    "collapsed": false
   },
   "outputs": [
    {
     "name": "stdout",
     "output_type": "stream",
     "text": [
      "Loss after 0 iteration:0.554981\n",
      "Loss after 1000 iteration:0.072043\n",
      "Loss after 2000 iteration:0.032190\n",
      "Loss after 3000 iteration:0.026320\n",
      "Loss after 4000 iteration:0.016058\n"
     ]
    }
   ],
   "source": [
    "# with learning_rate = 0.001\n",
    "model_i_5000 = nn_model(num_hidden_layer,5000, learning_rate,print_loss = True)"
   ]
  },
  {
   "cell_type": "code",
   "execution_count": 162,
   "metadata": {
    "collapsed": false
   },
   "outputs": [],
   "source": [
    "res_i_5000 = run_cv(X,y,num_hidden_layer,5000, learning_rate)"
   ]
  },
  {
   "cell_type": "code",
   "execution_count": 204,
   "metadata": {
    "collapsed": false
   },
   "outputs": [
    {
     "name": "stdout",
     "output_type": "stream",
     "text": [
      "Neural network accuracy: 0.899375\n"
     ]
    }
   ],
   "source": [
    "print('Neural network accuracy: ' + str(accuracy(y, res_i_5000)))"
   ]
  },
  {
   "cell_type": "markdown",
   "metadata": {},
   "source": [
    "Run 10000 iterations"
   ]
  },
  {
   "cell_type": "code",
   "execution_count": 164,
   "metadata": {
    "collapsed": false
   },
   "outputs": [
    {
     "name": "stdout",
     "output_type": "stream",
     "text": [
      "Loss after 0 iteration:0.554981\n",
      "Loss after 1000 iteration:0.072043\n",
      "Loss after 2000 iteration:0.032190\n",
      "Loss after 3000 iteration:0.026320\n",
      "Loss after 4000 iteration:0.016058\n",
      "Loss after 5000 iteration:0.011195\n",
      "Loss after 6000 iteration:0.008339\n",
      "Loss after 7000 iteration:0.006668\n",
      "Loss after 8000 iteration:0.005636\n",
      "Loss after 9000 iteration:0.004271\n"
     ]
    }
   ],
   "source": [
    "# with learning_rate = 0.001\n",
    "model_i_10000 = nn_model(num_hidden_layer,10000, learning_rate,print_loss = True)"
   ]
  },
  {
   "cell_type": "code",
   "execution_count": 165,
   "metadata": {
    "collapsed": true
   },
   "outputs": [],
   "source": [
    "res_i_10000 = run_cv(X,y,num_hidden_layer,10000, learning_rate)"
   ]
  },
  {
   "cell_type": "code",
   "execution_count": 205,
   "metadata": {
    "collapsed": false
   },
   "outputs": [
    {
     "name": "stdout",
     "output_type": "stream",
     "text": [
      "Neural network accuracy: 0.896875\n"
     ]
    }
   ],
   "source": [
    "print('Neural network accuracy: ' + str(accuracy(y, res_i_10000)))"
   ]
  },
  {
   "cell_type": "markdown",
   "metadata": {},
   "source": [
    "From above, we can see that large iteration numbers do not lead to high accuracy probably due to overfitting."
   ]
  },
  {
   "cell_type": "markdown",
   "metadata": {},
   "source": [
    "### Change learning rate\n",
    "\n",
    "We used learning rate 0.001 for the previous examples. We will change it and see how it affects result."
   ]
  },
  {
   "cell_type": "markdown",
   "metadata": {},
   "source": [
    "Set learning rate to be 0.01"
   ]
  },
  {
   "cell_type": "code",
   "execution_count": 167,
   "metadata": {
    "collapsed": false,
    "scrolled": true
   },
   "outputs": [
    {
     "name": "stdout",
     "output_type": "stream",
     "text": [
      "Loss after 0 iteration:2.029559\n",
      "Loss after 1000 iteration:85.907363\n",
      "Loss after 2000 iteration:82.080926\n",
      "Loss after 3000 iteration:5.449913\n",
      "Loss after 4000 iteration:8.598803\n",
      "Loss after 5000 iteration:7.837303\n",
      "Loss after 6000 iteration:10.955712\n",
      "Loss after 7000 iteration:4.772520\n",
      "Loss after 8000 iteration:9.626135\n",
      "Loss after 9000 iteration:3.823448\n",
      "Loss after 10000 iteration:2.757594\n",
      "Loss after 11000 iteration:8.092454\n",
      "Loss after 12000 iteration:3.321667\n",
      "Loss after 13000 iteration:6.381027\n",
      "Loss after 14000 iteration:5.121073\n",
      "Loss after 15000 iteration:3.347808\n",
      "Loss after 16000 iteration:0.781658\n",
      "Loss after 17000 iteration:7.170488\n",
      "Loss after 18000 iteration:4.617957\n",
      "Loss after 19000 iteration:38.649404\n"
     ]
    }
   ],
   "source": [
    "model_lr_01 = nn_model(num_hidden_layer,20000, 0.01,print_loss = True)"
   ]
  },
  {
   "cell_type": "code",
   "execution_count": 168,
   "metadata": {
    "collapsed": true
   },
   "outputs": [],
   "source": [
    "res_lr_01 = run_cv(X,y,num_hidden_layer,20000, 0.01)"
   ]
  },
  {
   "cell_type": "code",
   "execution_count": 206,
   "metadata": {
    "collapsed": false
   },
   "outputs": [
    {
     "name": "stdout",
     "output_type": "stream",
     "text": [
      "Neural network accuracy: 0.77375\n"
     ]
    }
   ],
   "source": [
    "print('Neural network accuracy: ' + str(accuracy(y, res_lr_01)))"
   ]
  },
  {
   "cell_type": "markdown",
   "metadata": {},
   "source": [
    "Set learning rate to be 0.005"
   ]
  },
  {
   "cell_type": "code",
   "execution_count": 170,
   "metadata": {
    "collapsed": false
   },
   "outputs": [
    {
     "name": "stdout",
     "output_type": "stream",
     "text": [
      "Loss after 0 iteration:0.690073\n",
      "Loss after 1000 iteration:4.759541\n",
      "Loss after 2000 iteration:0.892556\n",
      "Loss after 3000 iteration:0.480978\n",
      "Loss after 4000 iteration:1.079858\n",
      "Loss after 5000 iteration:1.621521\n",
      "Loss after 6000 iteration:0.750379\n",
      "Loss after 7000 iteration:1.166582\n",
      "Loss after 8000 iteration:1.251452\n",
      "Loss after 9000 iteration:1.042488\n",
      "Loss after 10000 iteration:1.030003\n",
      "Loss after 11000 iteration:1.159303\n",
      "Loss after 12000 iteration:2.470673\n",
      "Loss after 13000 iteration:0.580804\n",
      "Loss after 14000 iteration:0.999351\n",
      "Loss after 15000 iteration:0.619001\n",
      "Loss after 16000 iteration:13.594964\n",
      "Loss after 17000 iteration:0.872865\n",
      "Loss after 18000 iteration:3.440464\n",
      "Loss after 19000 iteration:8.103656\n"
     ]
    }
   ],
   "source": [
    "model_lr_005 = nn_model(num_hidden_layer,20000, 0.005,print_loss = True)"
   ]
  },
  {
   "cell_type": "code",
   "execution_count": 171,
   "metadata": {
    "collapsed": true
   },
   "outputs": [],
   "source": [
    "res_lr_005 = run_cv(X,y, num_hidden_layer,20000, 0.005)"
   ]
  },
  {
   "cell_type": "code",
   "execution_count": 207,
   "metadata": {
    "collapsed": false,
    "scrolled": true
   },
   "outputs": [
    {
     "name": "stdout",
     "output_type": "stream",
     "text": [
      "Neural network accuracy: 0.890625\n"
     ]
    }
   ],
   "source": [
    "print('Neural network accuracy: ' + str(accuracy(y, res_lr_005)))"
   ]
  },
  {
   "cell_type": "markdown",
   "metadata": {},
   "source": [
    "Set learning rate to be 0.0001"
   ]
  },
  {
   "cell_type": "code",
   "execution_count": 173,
   "metadata": {
    "collapsed": false
   },
   "outputs": [
    {
     "name": "stdout",
     "output_type": "stream",
     "text": [
      "Loss after 0 iteration:0.720266\n",
      "Loss after 1000 iteration:0.161367\n",
      "Loss after 2000 iteration:0.117620\n",
      "Loss after 3000 iteration:0.098035\n",
      "Loss after 4000 iteration:0.087000\n",
      "Loss after 5000 iteration:0.078478\n",
      "Loss after 6000 iteration:0.070033\n",
      "Loss after 7000 iteration:0.061677\n",
      "Loss after 8000 iteration:0.054112\n",
      "Loss after 9000 iteration:0.047605\n",
      "Loss after 10000 iteration:0.042019\n",
      "Loss after 11000 iteration:0.037301\n",
      "Loss after 12000 iteration:0.033397\n",
      "Loss after 13000 iteration:0.030184\n",
      "Loss after 14000 iteration:0.027514\n",
      "Loss after 15000 iteration:0.025248\n",
      "Loss after 16000 iteration:0.023274\n",
      "Loss after 17000 iteration:0.021536\n",
      "Loss after 18000 iteration:0.020000\n",
      "Loss after 19000 iteration:0.018638\n"
     ]
    }
   ],
   "source": [
    "model_lr_0001 = nn_model(num_hidden_layer,20000, 0.0001,print_loss = True)"
   ]
  },
  {
   "cell_type": "code",
   "execution_count": 174,
   "metadata": {
    "collapsed": true
   },
   "outputs": [],
   "source": [
    "res_lr_0001 = run_cv(X,y,num_hidden_layer,20000, 0.0001)"
   ]
  },
  {
   "cell_type": "code",
   "execution_count": 208,
   "metadata": {
    "collapsed": false
   },
   "outputs": [
    {
     "name": "stdout",
     "output_type": "stream",
     "text": [
      "Neural network accuracy: 0.896875\n"
     ]
    }
   ],
   "source": [
    "print('Neural network accuracy: ' + str(accuracy(y, res_lr_0001)))"
   ]
  },
  {
   "cell_type": "markdown",
   "metadata": {},
   "source": [
    " With a high learning rate we can cover more ground each step, but we risk overshooting the lowest point since the slope of the hill is constantly changing. With a very low learning rate, we can confidently move in the direction of the negative gradient since we are recalculating it so frequently. A low learning rate is more precise, but calculating the gradient is time-consuming, so it will take us a very long time to get to the bottom.\n",
    " \n",
    " We can try several values and find the one with best performance."
   ]
  },
  {
   "cell_type": "markdown",
   "metadata": {},
   "source": [
    "### Change hidden layer size"
   ]
  },
  {
   "cell_type": "markdown",
   "metadata": {},
   "source": [
    "We have the hidden layer size of 11 for previous examples. Now we want to pick different hidden layer sizes and to see how does hidden layer size affects results. "
   ]
  },
  {
   "cell_type": "markdown",
   "metadata": {},
   "source": [
    "Set hidden layer size to be 1, 5, 10, 15 respectively."
   ]
  },
  {
   "cell_type": "code",
   "execution_count": 176,
   "metadata": {
    "collapsed": true
   },
   "outputs": [],
   "source": [
    "hidden_layer = [1, 5, 10, 15]"
   ]
  },
  {
   "cell_type": "code",
   "execution_count": 177,
   "metadata": {
    "collapsed": false
   },
   "outputs": [
    {
     "name": "stdout",
     "output_type": "stream",
     "text": [
      "Neural network accuracy with hidden layer size 1 is: 0.8975\n",
      "\n",
      "\n",
      "Neural network accuracy with hidden layer size 5 is: 0.896875\n",
      "\n",
      "\n",
      "Neural network accuracy with hidden layer size 10 is: 0.89125\n",
      "\n",
      "\n",
      "Neural network accuracy with hidden layer size 15 is: 0.898125\n",
      "\n",
      "\n"
     ]
    }
   ],
   "source": [
    "for layer_size in hidden_layer:\n",
    "     \n",
    "    res_hl = run_cv(X_v,y_v,layer_size,20000, 0.001)\n",
    "    \n",
    "    print('Neural network accuracy with hidden layer size ' + str(layer_size) + ' is: ' + str(accuracy(y, res_hl)))\n",
    "    print('\\n')"
   ]
  },
  {
   "cell_type": "markdown",
   "metadata": {},
   "source": [
    "References: <br>\n",
    "https://en.wikipedia.org/wiki/Artificial_neural_network<br>\n",
    "https://stats.stackexchange.com/questions/181/how-to-choose-the-number-of-hidden-layers-and-nodes-in-a-feedforward-neural-netw<br>\n",
    "https://en.wikipedia.org/wiki/Activation_function<br>\n",
    "https://en.wikipedia.org/wiki/Softmax_function<br>\n",
    "https://towardsdatascience.com/how-to-build-your-own-neural-network-from-scratch-in-python-68998a08e4f6<br>\n",
    "https://en.wikipedia.org/wiki/Cross_entropy#Cross-entropy_error_function_and_logistic_regression<br>\n",
    "http://blog.datumbox.com/tuning-the-learning-rate-in-gradient-descent/<br>\n",
    "http://theory.stanford.edu/~tim/s16/l/l6.pdf<br>\n",
    "https://towardsdatascience.com/random-initialization-for-neural-networks-a-thing-of-the-past-bfcdd806bf9e<br>\n",
    "http://www.wildml.com/2015/09/implementing-a-neural-network-from-scratch/\n"
   ]
  }
 ],
 "metadata": {
  "kernelspec": {
   "display_name": "Python 3",
   "language": "python",
   "name": "python3"
  },
  "language_info": {
   "codemirror_mode": {
    "name": "ipython",
    "version": 3
   },
   "file_extension": ".py",
   "mimetype": "text/x-python",
   "name": "python",
   "nbconvert_exporter": "python",
   "pygments_lexer": "ipython3",
   "version": "3.6.2"
  }
 },
 "nbformat": 4,
 "nbformat_minor": 2
}
